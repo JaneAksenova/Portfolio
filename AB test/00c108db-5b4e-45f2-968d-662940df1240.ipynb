{
 "cells": [
  {
   "cell_type": "markdown",
   "id": "a4fc2f9d",
   "metadata": {},
   "source": [
    "## Анализ гипотез для увеличения выручки"
   ]
  },
  {
   "cell_type": "markdown",
   "id": "90373e62",
   "metadata": {},
   "source": [
    "Цель исследования - анализировать список гипотез, для увеличения выручки интернет-магазина.\n",
    "\n",
    "В процессе исследования гипотезы были приоритизированны с помощью фрейворков ICE и RICE, проанализированы результаты A/B-теста.\n",
    "\n",
    " "
   ]
  },
  {
   "cell_type": "markdown",
   "id": "fc2b823f",
   "metadata": {},
   "source": [
    "### Загрузка данных и подготовка к анализу"
   ]
  },
  {
   "cell_type": "code",
   "execution_count": 1,
   "id": "0b0eef60",
   "metadata": {},
   "outputs": [],
   "source": [
    "import pandas as pd\n",
    "import numpy as np\n",
    "import scipy.stats as stats\n",
    "import datetime as dt\n",
    "from matplotlib import pyplot as plt\n",
    "\n",
    "import warnings\n",
    "warnings.filterwarnings(\"ignore\")"
   ]
  },
  {
   "cell_type": "code",
   "execution_count": 2,
   "id": "d8610846",
   "metadata": {},
   "outputs": [],
   "source": [
    "try:\n",
    "    hypothesis = pd.read_csv('/datasets/hypothesis.csv')\n",
    "    orders = pd.read_csv('/datasets/orders.csv')\n",
    "    visitors = pd.read_csv('/datasets/visitors.csv')\n",
    "except:\n",
    "    hypothesis = pd.read_csv('hypothesis.csv')\n",
    "    orders = pd.read_csv('orders.csv')\n",
    "    visitors = pd.read_csv('visitors.csv')"
   ]
  },
  {
   "cell_type": "markdown",
   "id": "397602ef",
   "metadata": {},
   "source": [
    "#### Предобработка датасета hypothesis"
   ]
  },
  {
   "cell_type": "code",
   "execution_count": 3,
   "id": "02d3f522",
   "metadata": {},
   "outputs": [
    {
     "data": {
      "text/html": [
       "<div>\n",
       "<style scoped>\n",
       "    .dataframe tbody tr th:only-of-type {\n",
       "        vertical-align: middle;\n",
       "    }\n",
       "\n",
       "    .dataframe tbody tr th {\n",
       "        vertical-align: top;\n",
       "    }\n",
       "\n",
       "    .dataframe thead th {\n",
       "        text-align: right;\n",
       "    }\n",
       "</style>\n",
       "<table border=\"1\" class=\"dataframe\">\n",
       "  <thead>\n",
       "    <tr style=\"text-align: right;\">\n",
       "      <th></th>\n",
       "      <th>Hypothesis</th>\n",
       "      <th>Reach</th>\n",
       "      <th>Impact</th>\n",
       "      <th>Confidence</th>\n",
       "      <th>Efforts</th>\n",
       "    </tr>\n",
       "  </thead>\n",
       "  <tbody>\n",
       "    <tr>\n",
       "      <th>0</th>\n",
       "      <td>Добавить два новых канала привлечения трафика,...</td>\n",
       "      <td>3</td>\n",
       "      <td>10</td>\n",
       "      <td>8</td>\n",
       "      <td>6</td>\n",
       "    </tr>\n",
       "    <tr>\n",
       "      <th>1</th>\n",
       "      <td>Запустить собственную службу доставки, что сок...</td>\n",
       "      <td>2</td>\n",
       "      <td>5</td>\n",
       "      <td>4</td>\n",
       "      <td>10</td>\n",
       "    </tr>\n",
       "    <tr>\n",
       "      <th>2</th>\n",
       "      <td>Добавить блоки рекомендаций товаров на сайт ин...</td>\n",
       "      <td>8</td>\n",
       "      <td>3</td>\n",
       "      <td>7</td>\n",
       "      <td>3</td>\n",
       "    </tr>\n",
       "    <tr>\n",
       "      <th>3</th>\n",
       "      <td>Изменить структура категорий, что увеличит кон...</td>\n",
       "      <td>8</td>\n",
       "      <td>3</td>\n",
       "      <td>3</td>\n",
       "      <td>8</td>\n",
       "    </tr>\n",
       "    <tr>\n",
       "      <th>4</th>\n",
       "      <td>Изменить цвет фона главной страницы, чтобы уве...</td>\n",
       "      <td>3</td>\n",
       "      <td>1</td>\n",
       "      <td>1</td>\n",
       "      <td>1</td>\n",
       "    </tr>\n",
       "  </tbody>\n",
       "</table>\n",
       "</div>"
      ],
      "text/plain": [
       "                                          Hypothesis  Reach  Impact  \\\n",
       "0  Добавить два новых канала привлечения трафика,...      3      10   \n",
       "1  Запустить собственную службу доставки, что сок...      2       5   \n",
       "2  Добавить блоки рекомендаций товаров на сайт ин...      8       3   \n",
       "3  Изменить структура категорий, что увеличит кон...      8       3   \n",
       "4  Изменить цвет фона главной страницы, чтобы уве...      3       1   \n",
       "\n",
       "   Confidence  Efforts  \n",
       "0           8        6  \n",
       "1           4       10  \n",
       "2           7        3  \n",
       "3           3        8  \n",
       "4           1        1  "
      ]
     },
     "execution_count": 3,
     "metadata": {},
     "output_type": "execute_result"
    }
   ],
   "source": [
    "hypothesis.head()"
   ]
  },
  {
   "cell_type": "code",
   "execution_count": 4,
   "id": "d8485dfd",
   "metadata": {},
   "outputs": [],
   "source": [
    "# Переименования столбцов для удобства\n",
    "hypothesis.columns = hypothesis.columns.str.lower()"
   ]
  },
  {
   "cell_type": "code",
   "execution_count": 5,
   "id": "2762da8f",
   "metadata": {},
   "outputs": [
    {
     "name": "stdout",
     "output_type": "stream",
     "text": [
      "<class 'pandas.core.frame.DataFrame'>\n",
      "RangeIndex: 9 entries, 0 to 8\n",
      "Data columns (total 5 columns):\n",
      " #   Column      Non-Null Count  Dtype \n",
      "---  ------      --------------  ----- \n",
      " 0   hypothesis  9 non-null      object\n",
      " 1   reach       9 non-null      int64 \n",
      " 2   impact      9 non-null      int64 \n",
      " 3   confidence  9 non-null      int64 \n",
      " 4   efforts     9 non-null      int64 \n",
      "dtypes: int64(4), object(1)\n",
      "memory usage: 488.0+ bytes\n"
     ]
    }
   ],
   "source": [
    "hypothesis.info()"
   ]
  },
  {
   "cell_type": "markdown",
   "id": "0347ec34",
   "metadata": {},
   "source": [
    "#### Предобработка датасета orders"
   ]
  },
  {
   "cell_type": "code",
   "execution_count": 6,
   "id": "78f69a2c",
   "metadata": {},
   "outputs": [
    {
     "data": {
      "text/html": [
       "<div>\n",
       "<style scoped>\n",
       "    .dataframe tbody tr th:only-of-type {\n",
       "        vertical-align: middle;\n",
       "    }\n",
       "\n",
       "    .dataframe tbody tr th {\n",
       "        vertical-align: top;\n",
       "    }\n",
       "\n",
       "    .dataframe thead th {\n",
       "        text-align: right;\n",
       "    }\n",
       "</style>\n",
       "<table border=\"1\" class=\"dataframe\">\n",
       "  <thead>\n",
       "    <tr style=\"text-align: right;\">\n",
       "      <th></th>\n",
       "      <th>transactionId</th>\n",
       "      <th>visitorId</th>\n",
       "      <th>date</th>\n",
       "      <th>revenue</th>\n",
       "      <th>group</th>\n",
       "    </tr>\n",
       "  </thead>\n",
       "  <tbody>\n",
       "    <tr>\n",
       "      <th>0</th>\n",
       "      <td>3667963787</td>\n",
       "      <td>3312258926</td>\n",
       "      <td>2019-08-15</td>\n",
       "      <td>1650</td>\n",
       "      <td>B</td>\n",
       "    </tr>\n",
       "    <tr>\n",
       "      <th>1</th>\n",
       "      <td>2804400009</td>\n",
       "      <td>3642806036</td>\n",
       "      <td>2019-08-15</td>\n",
       "      <td>730</td>\n",
       "      <td>B</td>\n",
       "    </tr>\n",
       "    <tr>\n",
       "      <th>2</th>\n",
       "      <td>2961555356</td>\n",
       "      <td>4069496402</td>\n",
       "      <td>2019-08-15</td>\n",
       "      <td>400</td>\n",
       "      <td>A</td>\n",
       "    </tr>\n",
       "    <tr>\n",
       "      <th>3</th>\n",
       "      <td>3797467345</td>\n",
       "      <td>1196621759</td>\n",
       "      <td>2019-08-15</td>\n",
       "      <td>9759</td>\n",
       "      <td>B</td>\n",
       "    </tr>\n",
       "    <tr>\n",
       "      <th>4</th>\n",
       "      <td>2282983706</td>\n",
       "      <td>2322279887</td>\n",
       "      <td>2019-08-15</td>\n",
       "      <td>2308</td>\n",
       "      <td>B</td>\n",
       "    </tr>\n",
       "  </tbody>\n",
       "</table>\n",
       "</div>"
      ],
      "text/plain": [
       "   transactionId   visitorId        date  revenue group\n",
       "0     3667963787  3312258926  2019-08-15     1650     B\n",
       "1     2804400009  3642806036  2019-08-15      730     B\n",
       "2     2961555356  4069496402  2019-08-15      400     A\n",
       "3     3797467345  1196621759  2019-08-15     9759     B\n",
       "4     2282983706  2322279887  2019-08-15     2308     B"
      ]
     },
     "execution_count": 6,
     "metadata": {},
     "output_type": "execute_result"
    }
   ],
   "source": [
    "orders.head()"
   ]
  },
  {
   "cell_type": "code",
   "execution_count": 7,
   "id": "18403969",
   "metadata": {},
   "outputs": [
    {
     "name": "stdout",
     "output_type": "stream",
     "text": [
      "<class 'pandas.core.frame.DataFrame'>\n",
      "RangeIndex: 1197 entries, 0 to 1196\n",
      "Data columns (total 5 columns):\n",
      " #   Column         Non-Null Count  Dtype \n",
      "---  ------         --------------  ----- \n",
      " 0   transactionId  1197 non-null   int64 \n",
      " 1   visitorId      1197 non-null   int64 \n",
      " 2   date           1197 non-null   object\n",
      " 3   revenue        1197 non-null   int64 \n",
      " 4   group          1197 non-null   object\n",
      "dtypes: int64(3), object(2)\n",
      "memory usage: 46.9+ KB\n"
     ]
    }
   ],
   "source": [
    "orders.info()"
   ]
  },
  {
   "cell_type": "code",
   "execution_count": 8,
   "id": "de7b7b4a",
   "metadata": {},
   "outputs": [],
   "source": [
    "# Переименовываем колонки для удобства\n",
    "orders = orders.rename(columns={'transactionId': 'transaction_id', 'visitorId': 'visitor_id'})\n",
    "\n",
    "# Столбец с датой переводим в нужный формат\n",
    "orders['date'] = pd.to_datetime(orders['date'])"
   ]
  },
  {
   "cell_type": "code",
   "execution_count": 9,
   "id": "a457b2c9",
   "metadata": {
    "scrolled": true
   },
   "outputs": [
    {
     "data": {
      "text/plain": [
       "0"
      ]
     },
     "execution_count": 9,
     "metadata": {},
     "output_type": "execute_result"
    }
   ],
   "source": [
    "# Проверка данных на дубликаты\n",
    "orders.duplicated().sum()"
   ]
  },
  {
   "cell_type": "code",
   "execution_count": 10,
   "id": "6f0386db",
   "metadata": {},
   "outputs": [
    {
     "data": {
      "text/html": [
       "<div>\n",
       "<style scoped>\n",
       "    .dataframe tbody tr th:only-of-type {\n",
       "        vertical-align: middle;\n",
       "    }\n",
       "\n",
       "    .dataframe tbody tr th {\n",
       "        vertical-align: top;\n",
       "    }\n",
       "\n",
       "    .dataframe thead th {\n",
       "        text-align: right;\n",
       "    }\n",
       "</style>\n",
       "<table border=\"1\" class=\"dataframe\">\n",
       "  <thead>\n",
       "    <tr style=\"text-align: right;\">\n",
       "      <th></th>\n",
       "      <th>transaction_id</th>\n",
       "      <th>visitor_id</th>\n",
       "      <th>date</th>\n",
       "      <th>revenue</th>\n",
       "      <th>group</th>\n",
       "    </tr>\n",
       "  </thead>\n",
       "  <tbody>\n",
       "  </tbody>\n",
       "</table>\n",
       "</div>"
      ],
      "text/plain": [
       "Empty DataFrame\n",
       "Columns: [transaction_id, visitor_id, date, revenue, group]\n",
       "Index: []"
      ]
     },
     "execution_count": 10,
     "metadata": {},
     "output_type": "execute_result"
    }
   ],
   "source": [
    "orders[orders[['transaction_id', 'visitor_id']].duplicated(keep=False)]"
   ]
  },
  {
   "cell_type": "code",
   "execution_count": 11,
   "id": "69234f9b",
   "metadata": {},
   "outputs": [
    {
     "data": {
      "text/plain": [
       "1031"
      ]
     },
     "execution_count": 11,
     "metadata": {},
     "output_type": "execute_result"
    }
   ],
   "source": [
    "# Всего пользователей\n",
    "orders['visitor_id'].nunique()"
   ]
  },
  {
   "cell_type": "code",
   "execution_count": 12,
   "id": "394c6ef5",
   "metadata": {},
   "outputs": [
    {
     "data": {
      "text/html": [
       "<div>\n",
       "<style scoped>\n",
       "    .dataframe tbody tr th:only-of-type {\n",
       "        vertical-align: middle;\n",
       "    }\n",
       "\n",
       "    .dataframe tbody tr th {\n",
       "        vertical-align: top;\n",
       "    }\n",
       "\n",
       "    .dataframe thead th {\n",
       "        text-align: right;\n",
       "    }\n",
       "</style>\n",
       "<table border=\"1\" class=\"dataframe\">\n",
       "  <thead>\n",
       "    <tr style=\"text-align: right;\">\n",
       "      <th></th>\n",
       "      <th>visitor_id</th>\n",
       "    </tr>\n",
       "    <tr>\n",
       "      <th>group</th>\n",
       "      <th></th>\n",
       "    </tr>\n",
       "  </thead>\n",
       "  <tbody>\n",
       "    <tr>\n",
       "      <th>A</th>\n",
       "      <td>503</td>\n",
       "    </tr>\n",
       "    <tr>\n",
       "      <th>B</th>\n",
       "      <td>586</td>\n",
       "    </tr>\n",
       "  </tbody>\n",
       "</table>\n",
       "</div>"
      ],
      "text/plain": [
       "       visitor_id\n",
       "group            \n",
       "A             503\n",
       "B             586"
      ]
     },
     "execution_count": 12,
     "metadata": {},
     "output_type": "execute_result"
    }
   ],
   "source": [
    "# Кол-во пользователей в каждой группе\n",
    "orders.groupby('group').agg({'visitor_id': 'nunique'})"
   ]
  },
  {
   "cell_type": "code",
   "execution_count": 13,
   "id": "0622f373",
   "metadata": {},
   "outputs": [
    {
     "data": {
      "text/html": [
       "<div>\n",
       "<style scoped>\n",
       "    .dataframe tbody tr th:only-of-type {\n",
       "        vertical-align: middle;\n",
       "    }\n",
       "\n",
       "    .dataframe tbody tr th {\n",
       "        vertical-align: top;\n",
       "    }\n",
       "\n",
       "    .dataframe thead th {\n",
       "        text-align: right;\n",
       "    }\n",
       "</style>\n",
       "<table border=\"1\" class=\"dataframe\">\n",
       "  <thead>\n",
       "    <tr style=\"text-align: right;\">\n",
       "      <th>group</th>\n",
       "      <th>A</th>\n",
       "      <th>B</th>\n",
       "    </tr>\n",
       "    <tr>\n",
       "      <th>visitor_id</th>\n",
       "      <th></th>\n",
       "      <th></th>\n",
       "    </tr>\n",
       "  </thead>\n",
       "  <tbody>\n",
       "    <tr>\n",
       "      <th>8300375</th>\n",
       "      <td>1.0</td>\n",
       "      <td>1.0</td>\n",
       "    </tr>\n",
       "    <tr>\n",
       "      <th>199603092</th>\n",
       "      <td>4.0</td>\n",
       "      <td>1.0</td>\n",
       "    </tr>\n",
       "    <tr>\n",
       "      <th>232979603</th>\n",
       "      <td>1.0</td>\n",
       "      <td>1.0</td>\n",
       "    </tr>\n",
       "    <tr>\n",
       "      <th>237748145</th>\n",
       "      <td>4.0</td>\n",
       "      <td>1.0</td>\n",
       "    </tr>\n",
       "    <tr>\n",
       "      <th>276558944</th>\n",
       "      <td>1.0</td>\n",
       "      <td>1.0</td>\n",
       "    </tr>\n",
       "    <tr>\n",
       "      <th>351125977</th>\n",
       "      <td>1.0</td>\n",
       "      <td>1.0</td>\n",
       "    </tr>\n",
       "    <tr>\n",
       "      <th>393266494</th>\n",
       "      <td>1.0</td>\n",
       "      <td>2.0</td>\n",
       "    </tr>\n",
       "    <tr>\n",
       "      <th>457167155</th>\n",
       "      <td>1.0</td>\n",
       "      <td>3.0</td>\n",
       "    </tr>\n",
       "    <tr>\n",
       "      <th>471551937</th>\n",
       "      <td>1.0</td>\n",
       "      <td>1.0</td>\n",
       "    </tr>\n",
       "    <tr>\n",
       "      <th>477780734</th>\n",
       "      <td>1.0</td>\n",
       "      <td>1.0</td>\n",
       "    </tr>\n",
       "    <tr>\n",
       "      <th>818047933</th>\n",
       "      <td>1.0</td>\n",
       "      <td>1.0</td>\n",
       "    </tr>\n",
       "    <tr>\n",
       "      <th>963407295</th>\n",
       "      <td>1.0</td>\n",
       "      <td>1.0</td>\n",
       "    </tr>\n",
       "    <tr>\n",
       "      <th>1230306981</th>\n",
       "      <td>3.0</td>\n",
       "      <td>2.0</td>\n",
       "    </tr>\n",
       "    <tr>\n",
       "      <th>1294878855</th>\n",
       "      <td>2.0</td>\n",
       "      <td>1.0</td>\n",
       "    </tr>\n",
       "    <tr>\n",
       "      <th>1316129916</th>\n",
       "      <td>1.0</td>\n",
       "      <td>1.0</td>\n",
       "    </tr>\n",
       "    <tr>\n",
       "      <th>1333886533</th>\n",
       "      <td>1.0</td>\n",
       "      <td>1.0</td>\n",
       "    </tr>\n",
       "    <tr>\n",
       "      <th>1404934699</th>\n",
       "      <td>1.0</td>\n",
       "      <td>2.0</td>\n",
       "    </tr>\n",
       "    <tr>\n",
       "      <th>1602967004</th>\n",
       "      <td>1.0</td>\n",
       "      <td>1.0</td>\n",
       "    </tr>\n",
       "    <tr>\n",
       "      <th>1614305549</th>\n",
       "      <td>3.0</td>\n",
       "      <td>1.0</td>\n",
       "    </tr>\n",
       "    <tr>\n",
       "      <th>1648269707</th>\n",
       "      <td>1.0</td>\n",
       "      <td>1.0</td>\n",
       "    </tr>\n",
       "    <tr>\n",
       "      <th>1668030113</th>\n",
       "      <td>1.0</td>\n",
       "      <td>2.0</td>\n",
       "    </tr>\n",
       "    <tr>\n",
       "      <th>1738359350</th>\n",
       "      <td>1.0</td>\n",
       "      <td>2.0</td>\n",
       "    </tr>\n",
       "    <tr>\n",
       "      <th>1801183820</th>\n",
       "      <td>1.0</td>\n",
       "      <td>1.0</td>\n",
       "    </tr>\n",
       "    <tr>\n",
       "      <th>1959144690</th>\n",
       "      <td>1.0</td>\n",
       "      <td>1.0</td>\n",
       "    </tr>\n",
       "    <tr>\n",
       "      <th>2038680547</th>\n",
       "      <td>5.0</td>\n",
       "      <td>3.0</td>\n",
       "    </tr>\n",
       "    <tr>\n",
       "      <th>2044997962</th>\n",
       "      <td>1.0</td>\n",
       "      <td>2.0</td>\n",
       "    </tr>\n",
       "    <tr>\n",
       "      <th>2378935119</th>\n",
       "      <td>4.0</td>\n",
       "      <td>5.0</td>\n",
       "    </tr>\n",
       "    <tr>\n",
       "      <th>2458001652</th>\n",
       "      <td>5.0</td>\n",
       "      <td>6.0</td>\n",
       "    </tr>\n",
       "    <tr>\n",
       "      <th>2579882178</th>\n",
       "      <td>1.0</td>\n",
       "      <td>1.0</td>\n",
       "    </tr>\n",
       "    <tr>\n",
       "      <th>2587333274</th>\n",
       "      <td>1.0</td>\n",
       "      <td>3.0</td>\n",
       "    </tr>\n",
       "    <tr>\n",
       "      <th>2600415354</th>\n",
       "      <td>1.0</td>\n",
       "      <td>1.0</td>\n",
       "    </tr>\n",
       "    <tr>\n",
       "      <th>2654030115</th>\n",
       "      <td>1.0</td>\n",
       "      <td>1.0</td>\n",
       "    </tr>\n",
       "    <tr>\n",
       "      <th>2686716486</th>\n",
       "      <td>1.0</td>\n",
       "      <td>1.0</td>\n",
       "    </tr>\n",
       "    <tr>\n",
       "      <th>2712142231</th>\n",
       "      <td>1.0</td>\n",
       "      <td>1.0</td>\n",
       "    </tr>\n",
       "    <tr>\n",
       "      <th>2716752286</th>\n",
       "      <td>1.0</td>\n",
       "      <td>1.0</td>\n",
       "    </tr>\n",
       "    <tr>\n",
       "      <th>2780786433</th>\n",
       "      <td>2.0</td>\n",
       "      <td>1.0</td>\n",
       "    </tr>\n",
       "    <tr>\n",
       "      <th>2927087541</th>\n",
       "      <td>1.0</td>\n",
       "      <td>1.0</td>\n",
       "    </tr>\n",
       "    <tr>\n",
       "      <th>2949041841</th>\n",
       "      <td>1.0</td>\n",
       "      <td>1.0</td>\n",
       "    </tr>\n",
       "    <tr>\n",
       "      <th>2954449915</th>\n",
       "      <td>1.0</td>\n",
       "      <td>1.0</td>\n",
       "    </tr>\n",
       "    <tr>\n",
       "      <th>3062433592</th>\n",
       "      <td>1.0</td>\n",
       "      <td>4.0</td>\n",
       "    </tr>\n",
       "    <tr>\n",
       "      <th>3202540741</th>\n",
       "      <td>1.0</td>\n",
       "      <td>1.0</td>\n",
       "    </tr>\n",
       "    <tr>\n",
       "      <th>3234906277</th>\n",
       "      <td>1.0</td>\n",
       "      <td>1.0</td>\n",
       "    </tr>\n",
       "    <tr>\n",
       "      <th>3656415546</th>\n",
       "      <td>1.0</td>\n",
       "      <td>1.0</td>\n",
       "    </tr>\n",
       "    <tr>\n",
       "      <th>3717692402</th>\n",
       "      <td>1.0</td>\n",
       "      <td>4.0</td>\n",
       "    </tr>\n",
       "    <tr>\n",
       "      <th>3766097110</th>\n",
       "      <td>1.0</td>\n",
       "      <td>1.0</td>\n",
       "    </tr>\n",
       "    <tr>\n",
       "      <th>3803269165</th>\n",
       "      <td>1.0</td>\n",
       "      <td>4.0</td>\n",
       "    </tr>\n",
       "    <tr>\n",
       "      <th>3891541246</th>\n",
       "      <td>2.0</td>\n",
       "      <td>1.0</td>\n",
       "    </tr>\n",
       "    <tr>\n",
       "      <th>3941795274</th>\n",
       "      <td>1.0</td>\n",
       "      <td>1.0</td>\n",
       "    </tr>\n",
       "    <tr>\n",
       "      <th>3951559397</th>\n",
       "      <td>1.0</td>\n",
       "      <td>1.0</td>\n",
       "    </tr>\n",
       "    <tr>\n",
       "      <th>3957174400</th>\n",
       "      <td>1.0</td>\n",
       "      <td>1.0</td>\n",
       "    </tr>\n",
       "    <tr>\n",
       "      <th>3963646447</th>\n",
       "      <td>1.0</td>\n",
       "      <td>1.0</td>\n",
       "    </tr>\n",
       "    <tr>\n",
       "      <th>3972127743</th>\n",
       "      <td>1.0</td>\n",
       "      <td>1.0</td>\n",
       "    </tr>\n",
       "    <tr>\n",
       "      <th>3984495233</th>\n",
       "      <td>2.0</td>\n",
       "      <td>1.0</td>\n",
       "    </tr>\n",
       "    <tr>\n",
       "      <th>4069496402</th>\n",
       "      <td>1.0</td>\n",
       "      <td>1.0</td>\n",
       "    </tr>\n",
       "    <tr>\n",
       "      <th>4120364173</th>\n",
       "      <td>1.0</td>\n",
       "      <td>1.0</td>\n",
       "    </tr>\n",
       "    <tr>\n",
       "      <th>4186807279</th>\n",
       "      <td>1.0</td>\n",
       "      <td>2.0</td>\n",
       "    </tr>\n",
       "    <tr>\n",
       "      <th>4256040402</th>\n",
       "      <td>7.0</td>\n",
       "      <td>4.0</td>\n",
       "    </tr>\n",
       "    <tr>\n",
       "      <th>4266935830</th>\n",
       "      <td>1.0</td>\n",
       "      <td>1.0</td>\n",
       "    </tr>\n",
       "  </tbody>\n",
       "</table>\n",
       "</div>"
      ],
      "text/plain": [
       "group         A    B\n",
       "visitor_id          \n",
       "8300375     1.0  1.0\n",
       "199603092   4.0  1.0\n",
       "232979603   1.0  1.0\n",
       "237748145   4.0  1.0\n",
       "276558944   1.0  1.0\n",
       "351125977   1.0  1.0\n",
       "393266494   1.0  2.0\n",
       "457167155   1.0  3.0\n",
       "471551937   1.0  1.0\n",
       "477780734   1.0  1.0\n",
       "818047933   1.0  1.0\n",
       "963407295   1.0  1.0\n",
       "1230306981  3.0  2.0\n",
       "1294878855  2.0  1.0\n",
       "1316129916  1.0  1.0\n",
       "1333886533  1.0  1.0\n",
       "1404934699  1.0  2.0\n",
       "1602967004  1.0  1.0\n",
       "1614305549  3.0  1.0\n",
       "1648269707  1.0  1.0\n",
       "1668030113  1.0  2.0\n",
       "1738359350  1.0  2.0\n",
       "1801183820  1.0  1.0\n",
       "1959144690  1.0  1.0\n",
       "2038680547  5.0  3.0\n",
       "2044997962  1.0  2.0\n",
       "2378935119  4.0  5.0\n",
       "2458001652  5.0  6.0\n",
       "2579882178  1.0  1.0\n",
       "2587333274  1.0  3.0\n",
       "2600415354  1.0  1.0\n",
       "2654030115  1.0  1.0\n",
       "2686716486  1.0  1.0\n",
       "2712142231  1.0  1.0\n",
       "2716752286  1.0  1.0\n",
       "2780786433  2.0  1.0\n",
       "2927087541  1.0  1.0\n",
       "2949041841  1.0  1.0\n",
       "2954449915  1.0  1.0\n",
       "3062433592  1.0  4.0\n",
       "3202540741  1.0  1.0\n",
       "3234906277  1.0  1.0\n",
       "3656415546  1.0  1.0\n",
       "3717692402  1.0  4.0\n",
       "3766097110  1.0  1.0\n",
       "3803269165  1.0  4.0\n",
       "3891541246  2.0  1.0\n",
       "3941795274  1.0  1.0\n",
       "3951559397  1.0  1.0\n",
       "3957174400  1.0  1.0\n",
       "3963646447  1.0  1.0\n",
       "3972127743  1.0  1.0\n",
       "3984495233  2.0  1.0\n",
       "4069496402  1.0  1.0\n",
       "4120364173  1.0  1.0\n",
       "4186807279  1.0  2.0\n",
       "4256040402  7.0  4.0\n",
       "4266935830  1.0  1.0"
      ]
     },
     "execution_count": 13,
     "metadata": {},
     "output_type": "execute_result"
    }
   ],
   "source": [
    "# Создадим сводную таблицу, которая считает кол-во заказов пользователей в разрезе групп. \n",
    "# Удалим все строки с пропусками, чтобы проверить, есть ли пользователи, чьи заказы попали в обе группы\n",
    "\n",
    "orders.pivot_table(index='visitor_id', columns='group', values='transaction_id', aggfunc='count').dropna()"
   ]
  },
  {
   "cell_type": "markdown",
   "id": "c089f4e6",
   "metadata": {},
   "source": [
    "#### Предобработка датасета visitors"
   ]
  },
  {
   "cell_type": "code",
   "execution_count": 14,
   "id": "e828295d",
   "metadata": {},
   "outputs": [
    {
     "data": {
      "text/html": [
       "<div>\n",
       "<style scoped>\n",
       "    .dataframe tbody tr th:only-of-type {\n",
       "        vertical-align: middle;\n",
       "    }\n",
       "\n",
       "    .dataframe tbody tr th {\n",
       "        vertical-align: top;\n",
       "    }\n",
       "\n",
       "    .dataframe thead th {\n",
       "        text-align: right;\n",
       "    }\n",
       "</style>\n",
       "<table border=\"1\" class=\"dataframe\">\n",
       "  <thead>\n",
       "    <tr style=\"text-align: right;\">\n",
       "      <th></th>\n",
       "      <th>date</th>\n",
       "      <th>group</th>\n",
       "      <th>visitors</th>\n",
       "    </tr>\n",
       "  </thead>\n",
       "  <tbody>\n",
       "    <tr>\n",
       "      <th>0</th>\n",
       "      <td>2019-08-01</td>\n",
       "      <td>A</td>\n",
       "      <td>719</td>\n",
       "    </tr>\n",
       "    <tr>\n",
       "      <th>1</th>\n",
       "      <td>2019-08-02</td>\n",
       "      <td>A</td>\n",
       "      <td>619</td>\n",
       "    </tr>\n",
       "    <tr>\n",
       "      <th>2</th>\n",
       "      <td>2019-08-03</td>\n",
       "      <td>A</td>\n",
       "      <td>507</td>\n",
       "    </tr>\n",
       "    <tr>\n",
       "      <th>3</th>\n",
       "      <td>2019-08-04</td>\n",
       "      <td>A</td>\n",
       "      <td>717</td>\n",
       "    </tr>\n",
       "    <tr>\n",
       "      <th>4</th>\n",
       "      <td>2019-08-05</td>\n",
       "      <td>A</td>\n",
       "      <td>756</td>\n",
       "    </tr>\n",
       "  </tbody>\n",
       "</table>\n",
       "</div>"
      ],
      "text/plain": [
       "         date group  visitors\n",
       "0  2019-08-01     A       719\n",
       "1  2019-08-02     A       619\n",
       "2  2019-08-03     A       507\n",
       "3  2019-08-04     A       717\n",
       "4  2019-08-05     A       756"
      ]
     },
     "execution_count": 14,
     "metadata": {},
     "output_type": "execute_result"
    }
   ],
   "source": [
    "visitors.head()"
   ]
  },
  {
   "cell_type": "code",
   "execution_count": 15,
   "id": "67b1c7b4",
   "metadata": {},
   "outputs": [
    {
     "name": "stdout",
     "output_type": "stream",
     "text": [
      "<class 'pandas.core.frame.DataFrame'>\n",
      "RangeIndex: 62 entries, 0 to 61\n",
      "Data columns (total 3 columns):\n",
      " #   Column    Non-Null Count  Dtype \n",
      "---  ------    --------------  ----- \n",
      " 0   date      62 non-null     object\n",
      " 1   group     62 non-null     object\n",
      " 2   visitors  62 non-null     int64 \n",
      "dtypes: int64(1), object(2)\n",
      "memory usage: 1.6+ KB\n"
     ]
    }
   ],
   "source": [
    "visitors.info()"
   ]
  },
  {
   "cell_type": "code",
   "execution_count": 16,
   "id": "dfcfc6b9",
   "metadata": {},
   "outputs": [],
   "source": [
    "# Столбец с датой переводим в нужный формат\n",
    "visitors['date'] = pd.to_datetime(visitors['date'])"
   ]
  },
  {
   "cell_type": "code",
   "execution_count": 17,
   "id": "79b09847",
   "metadata": {},
   "outputs": [
    {
     "data": {
      "text/plain": [
       "0"
      ]
     },
     "execution_count": 17,
     "metadata": {},
     "output_type": "execute_result"
    }
   ],
   "source": [
    "# Проверка данных на дубликаты\n",
    "visitors.duplicated().sum()"
   ]
  },
  {
   "cell_type": "markdown",
   "id": "150b3cff",
   "metadata": {},
   "source": [
    "**Вывод:**\n",
    "\n",
    "В исследовании используются данные трех таблиц с гипотезами отдела маркетинга hypothesis (5 столбцов, 9 строк), информацией о заказах orders (5 столбцов, 1 197 строк) и информацией о количестве пользователей в группе A/B-теста в определенную дату visitors (3 столбца, 62 строки).\n",
    "\n",
    "Во всех таблицах пропущенные значения отсутствуют.\n",
    "\n",
    "Значения столбцов с датами были преобразованы из строк в datetime64. Некоторые столбцы в датасете orders были переименованы по правилу змеиного регистра.\n",
    "\n",
    "Всего в тексте участвовало 1031 пользователей. В группе А зафиксировано 503 человека,в группе В - 586.\n",
    "В процессе предобработки обнаружилось, что некоторые пользователи при проведении А/В теста попали в обе группы. Это говорит об ошибке в сборе данных. Однако мы не можем удалить этих пользователей, так как в датасете visitors данные уже агрегированы за день. Принимаем решение оставить их."
   ]
  },
  {
   "cell_type": "markdown",
   "id": "2e2c59d7",
   "metadata": {},
   "source": [
    "### Часть 1. Приоритизация гипотез"
   ]
  },
  {
   "cell_type": "markdown",
   "id": "ee59b67d",
   "metadata": {},
   "source": [
    "В датасете hypothesis содержатся 9 гипотез по увеличению выручки интернет-магазина с параметрами Reach, Impact, Confidence, Effort. Применим фреймворки ICE и RICE для их приоритезации."
   ]
  },
  {
   "cell_type": "code",
   "execution_count": 18,
   "id": "0f6bb93d",
   "metadata": {},
   "outputs": [],
   "source": [
    "pd.set_option('display.max_colwidth', 0)"
   ]
  },
  {
   "cell_type": "code",
   "execution_count": 19,
   "id": "f374c5a3",
   "metadata": {
    "scrolled": true
   },
   "outputs": [
    {
     "data": {
      "text/html": [
       "<div>\n",
       "<style scoped>\n",
       "    .dataframe tbody tr th:only-of-type {\n",
       "        vertical-align: middle;\n",
       "    }\n",
       "\n",
       "    .dataframe tbody tr th {\n",
       "        vertical-align: top;\n",
       "    }\n",
       "\n",
       "    .dataframe thead th {\n",
       "        text-align: right;\n",
       "    }\n",
       "</style>\n",
       "<table border=\"1\" class=\"dataframe\">\n",
       "  <thead>\n",
       "    <tr style=\"text-align: right;\">\n",
       "      <th></th>\n",
       "      <th>hypothesis</th>\n",
       "      <th>reach</th>\n",
       "      <th>impact</th>\n",
       "      <th>confidence</th>\n",
       "      <th>efforts</th>\n",
       "      <th>ice_score</th>\n",
       "    </tr>\n",
       "  </thead>\n",
       "  <tbody>\n",
       "    <tr>\n",
       "      <th>8</th>\n",
       "      <td>Запустить акцию, дающую скидку на товар в день рождения</td>\n",
       "      <td>1</td>\n",
       "      <td>9</td>\n",
       "      <td>9</td>\n",
       "      <td>5</td>\n",
       "      <td>16.200000</td>\n",
       "    </tr>\n",
       "    <tr>\n",
       "      <th>0</th>\n",
       "      <td>Добавить два новых канала привлечения трафика, что позволит привлекать на 30% больше пользователей</td>\n",
       "      <td>3</td>\n",
       "      <td>10</td>\n",
       "      <td>8</td>\n",
       "      <td>6</td>\n",
       "      <td>13.333333</td>\n",
       "    </tr>\n",
       "    <tr>\n",
       "      <th>7</th>\n",
       "      <td>Добавить форму подписки на все основные страницы, чтобы собрать базу клиентов для email-рассылок</td>\n",
       "      <td>10</td>\n",
       "      <td>7</td>\n",
       "      <td>8</td>\n",
       "      <td>5</td>\n",
       "      <td>11.200000</td>\n",
       "    </tr>\n",
       "    <tr>\n",
       "      <th>6</th>\n",
       "      <td>Показать на главной странице баннеры с актуальными акциями и распродажами, чтобы увеличить конверсию</td>\n",
       "      <td>5</td>\n",
       "      <td>3</td>\n",
       "      <td>8</td>\n",
       "      <td>3</td>\n",
       "      <td>8.000000</td>\n",
       "    </tr>\n",
       "    <tr>\n",
       "      <th>2</th>\n",
       "      <td>Добавить блоки рекомендаций товаров на сайт интернет магазина, чтобы повысить конверсию и средний чек заказа</td>\n",
       "      <td>8</td>\n",
       "      <td>3</td>\n",
       "      <td>7</td>\n",
       "      <td>3</td>\n",
       "      <td>7.000000</td>\n",
       "    </tr>\n",
       "    <tr>\n",
       "      <th>1</th>\n",
       "      <td>Запустить собственную службу доставки, что сократит срок доставки заказов</td>\n",
       "      <td>2</td>\n",
       "      <td>5</td>\n",
       "      <td>4</td>\n",
       "      <td>10</td>\n",
       "      <td>2.000000</td>\n",
       "    </tr>\n",
       "    <tr>\n",
       "      <th>5</th>\n",
       "      <td>Добавить страницу отзывов клиентов о магазине, что позволит увеличить количество заказов</td>\n",
       "      <td>3</td>\n",
       "      <td>2</td>\n",
       "      <td>2</td>\n",
       "      <td>3</td>\n",
       "      <td>1.333333</td>\n",
       "    </tr>\n",
       "    <tr>\n",
       "      <th>3</th>\n",
       "      <td>Изменить структура категорий, что увеличит конверсию, т.к. пользователи быстрее найдут нужный товар</td>\n",
       "      <td>8</td>\n",
       "      <td>3</td>\n",
       "      <td>3</td>\n",
       "      <td>8</td>\n",
       "      <td>1.125000</td>\n",
       "    </tr>\n",
       "    <tr>\n",
       "      <th>4</th>\n",
       "      <td>Изменить цвет фона главной страницы, чтобы увеличить вовлеченность пользователей</td>\n",
       "      <td>3</td>\n",
       "      <td>1</td>\n",
       "      <td>1</td>\n",
       "      <td>1</td>\n",
       "      <td>1.000000</td>\n",
       "    </tr>\n",
       "  </tbody>\n",
       "</table>\n",
       "</div>"
      ],
      "text/plain": [
       "                                                                                                     hypothesis  \\\n",
       "8  Запустить акцию, дающую скидку на товар в день рождения                                                        \n",
       "0  Добавить два новых канала привлечения трафика, что позволит привлекать на 30% больше пользователей             \n",
       "7  Добавить форму подписки на все основные страницы, чтобы собрать базу клиентов для email-рассылок               \n",
       "6  Показать на главной странице баннеры с актуальными акциями и распродажами, чтобы увеличить конверсию           \n",
       "2  Добавить блоки рекомендаций товаров на сайт интернет магазина, чтобы повысить конверсию и средний чек заказа   \n",
       "1  Запустить собственную службу доставки, что сократит срок доставки заказов                                      \n",
       "5  Добавить страницу отзывов клиентов о магазине, что позволит увеличить количество заказов                       \n",
       "3  Изменить структура категорий, что увеличит конверсию, т.к. пользователи быстрее найдут нужный товар            \n",
       "4  Изменить цвет фона главной страницы, чтобы увеличить вовлеченность пользователей                               \n",
       "\n",
       "   reach  impact  confidence  efforts  ice_score  \n",
       "8  1      9       9           5        16.200000  \n",
       "0  3      10      8           6        13.333333  \n",
       "7  10     7       8           5        11.200000  \n",
       "6  5      3       8           3        8.000000   \n",
       "2  8      3       7           3        7.000000   \n",
       "1  2      5       4           10       2.000000   \n",
       "5  3      2       2           3        1.333333   \n",
       "3  8      3       3           8        1.125000   \n",
       "4  3      1       1           1        1.000000   "
      ]
     },
     "execution_count": 19,
     "metadata": {},
     "output_type": "execute_result"
    }
   ],
   "source": [
    "hypothesis['ice_score'] = hypothesis['impact'] * hypothesis['confidence'] / hypothesis['efforts']\n",
    "\n",
    "hypothesis.sort_values(by='ice_score', ascending=False)\n"
   ]
  },
  {
   "cell_type": "markdown",
   "id": "161d641e",
   "metadata": {},
   "source": [
    "Наиболее перспективные гипотезы по ICE: \n",
    " * Запустить акцию, дающую скидку на товар в день рождения\t\n",
    " * Добавить два новых канала привлечения трафика, что позволит привлекать на 30% больше пользователей\n",
    " * Добавить форму подписки на все основные страницы, чтобы собрать базу клиентов для email-рассылок"
   ]
  },
  {
   "cell_type": "code",
   "execution_count": 20,
   "id": "8609fe5c",
   "metadata": {
    "scrolled": true
   },
   "outputs": [
    {
     "data": {
      "text/html": [
       "<div>\n",
       "<style scoped>\n",
       "    .dataframe tbody tr th:only-of-type {\n",
       "        vertical-align: middle;\n",
       "    }\n",
       "\n",
       "    .dataframe tbody tr th {\n",
       "        vertical-align: top;\n",
       "    }\n",
       "\n",
       "    .dataframe thead th {\n",
       "        text-align: right;\n",
       "    }\n",
       "</style>\n",
       "<table border=\"1\" class=\"dataframe\">\n",
       "  <thead>\n",
       "    <tr style=\"text-align: right;\">\n",
       "      <th></th>\n",
       "      <th>hypothesis</th>\n",
       "      <th>reach</th>\n",
       "      <th>impact</th>\n",
       "      <th>confidence</th>\n",
       "      <th>efforts</th>\n",
       "      <th>ice_score</th>\n",
       "      <th>rice_score</th>\n",
       "    </tr>\n",
       "  </thead>\n",
       "  <tbody>\n",
       "    <tr>\n",
       "      <th>7</th>\n",
       "      <td>Добавить форму подписки на все основные страницы, чтобы собрать базу клиентов для email-рассылок</td>\n",
       "      <td>10</td>\n",
       "      <td>7</td>\n",
       "      <td>8</td>\n",
       "      <td>5</td>\n",
       "      <td>11.200000</td>\n",
       "      <td>112.0</td>\n",
       "    </tr>\n",
       "    <tr>\n",
       "      <th>2</th>\n",
       "      <td>Добавить блоки рекомендаций товаров на сайт интернет магазина, чтобы повысить конверсию и средний чек заказа</td>\n",
       "      <td>8</td>\n",
       "      <td>3</td>\n",
       "      <td>7</td>\n",
       "      <td>3</td>\n",
       "      <td>7.000000</td>\n",
       "      <td>56.0</td>\n",
       "    </tr>\n",
       "    <tr>\n",
       "      <th>0</th>\n",
       "      <td>Добавить два новых канала привлечения трафика, что позволит привлекать на 30% больше пользователей</td>\n",
       "      <td>3</td>\n",
       "      <td>10</td>\n",
       "      <td>8</td>\n",
       "      <td>6</td>\n",
       "      <td>13.333333</td>\n",
       "      <td>40.0</td>\n",
       "    </tr>\n",
       "    <tr>\n",
       "      <th>6</th>\n",
       "      <td>Показать на главной странице баннеры с актуальными акциями и распродажами, чтобы увеличить конверсию</td>\n",
       "      <td>5</td>\n",
       "      <td>3</td>\n",
       "      <td>8</td>\n",
       "      <td>3</td>\n",
       "      <td>8.000000</td>\n",
       "      <td>40.0</td>\n",
       "    </tr>\n",
       "    <tr>\n",
       "      <th>8</th>\n",
       "      <td>Запустить акцию, дающую скидку на товар в день рождения</td>\n",
       "      <td>1</td>\n",
       "      <td>9</td>\n",
       "      <td>9</td>\n",
       "      <td>5</td>\n",
       "      <td>16.200000</td>\n",
       "      <td>16.2</td>\n",
       "    </tr>\n",
       "    <tr>\n",
       "      <th>3</th>\n",
       "      <td>Изменить структура категорий, что увеличит конверсию, т.к. пользователи быстрее найдут нужный товар</td>\n",
       "      <td>8</td>\n",
       "      <td>3</td>\n",
       "      <td>3</td>\n",
       "      <td>8</td>\n",
       "      <td>1.125000</td>\n",
       "      <td>9.0</td>\n",
       "    </tr>\n",
       "    <tr>\n",
       "      <th>1</th>\n",
       "      <td>Запустить собственную службу доставки, что сократит срок доставки заказов</td>\n",
       "      <td>2</td>\n",
       "      <td>5</td>\n",
       "      <td>4</td>\n",
       "      <td>10</td>\n",
       "      <td>2.000000</td>\n",
       "      <td>4.0</td>\n",
       "    </tr>\n",
       "    <tr>\n",
       "      <th>5</th>\n",
       "      <td>Добавить страницу отзывов клиентов о магазине, что позволит увеличить количество заказов</td>\n",
       "      <td>3</td>\n",
       "      <td>2</td>\n",
       "      <td>2</td>\n",
       "      <td>3</td>\n",
       "      <td>1.333333</td>\n",
       "      <td>4.0</td>\n",
       "    </tr>\n",
       "    <tr>\n",
       "      <th>4</th>\n",
       "      <td>Изменить цвет фона главной страницы, чтобы увеличить вовлеченность пользователей</td>\n",
       "      <td>3</td>\n",
       "      <td>1</td>\n",
       "      <td>1</td>\n",
       "      <td>1</td>\n",
       "      <td>1.000000</td>\n",
       "      <td>3.0</td>\n",
       "    </tr>\n",
       "  </tbody>\n",
       "</table>\n",
       "</div>"
      ],
      "text/plain": [
       "                                                                                                     hypothesis  \\\n",
       "7  Добавить форму подписки на все основные страницы, чтобы собрать базу клиентов для email-рассылок               \n",
       "2  Добавить блоки рекомендаций товаров на сайт интернет магазина, чтобы повысить конверсию и средний чек заказа   \n",
       "0  Добавить два новых канала привлечения трафика, что позволит привлекать на 30% больше пользователей             \n",
       "6  Показать на главной странице баннеры с актуальными акциями и распродажами, чтобы увеличить конверсию           \n",
       "8  Запустить акцию, дающую скидку на товар в день рождения                                                        \n",
       "3  Изменить структура категорий, что увеличит конверсию, т.к. пользователи быстрее найдут нужный товар            \n",
       "1  Запустить собственную службу доставки, что сократит срок доставки заказов                                      \n",
       "5  Добавить страницу отзывов клиентов о магазине, что позволит увеличить количество заказов                       \n",
       "4  Изменить цвет фона главной страницы, чтобы увеличить вовлеченность пользователей                               \n",
       "\n",
       "   reach  impact  confidence  efforts  ice_score  rice_score  \n",
       "7  10     7       8           5        11.200000  112.0       \n",
       "2  8      3       7           3        7.000000   56.0        \n",
       "0  3      10      8           6        13.333333  40.0        \n",
       "6  5      3       8           3        8.000000   40.0        \n",
       "8  1      9       9           5        16.200000  16.2        \n",
       "3  8      3       3           8        1.125000   9.0         \n",
       "1  2      5       4           10       2.000000   4.0         \n",
       "5  3      2       2           3        1.333333   4.0         \n",
       "4  3      1       1           1        1.000000   3.0         "
      ]
     },
     "execution_count": 20,
     "metadata": {},
     "output_type": "execute_result"
    }
   ],
   "source": [
    "hypothesis['rice_score'] = hypothesis['reach'] * hypothesis['impact'] * hypothesis['confidence'] / hypothesis['efforts']\n",
    "\n",
    "hypothesis.sort_values(by='rice_score', ascending=False)"
   ]
  },
  {
   "cell_type": "markdown",
   "id": "f4dbf875",
   "metadata": {},
   "source": [
    "Наиболее перспективные гипотезы по RICE:\n",
    "* Добавить форму подписки на все основные страницы, чтобы собрать базу клиентов для email-рассылок\n",
    "* Добавить блоки рекомендаций товаров на сайт интернет магазина, чтобы повысить конверсию и средний чек заказа\n",
    "* Добавить два новых канала привлечения трафика, что позволит привлекать на 30% больше пользователей\n",
    "* Показать на главной странице баннеры с актуальными акциями и распродажами, чтобы увеличить конверсию\n",
    "\n",
    "Часть гипотез персективны по обоим фреймворкам, однако гипотеза \"Добавить форму подписки на все основные страницы, чтобы собрать базу клиентов для email-рассылок\" перешла на 1-е место. Это произошло, потому что фреймворк RICE учитывает параметр Reach(охваты), а у гипотезы 8 этот параметр максимален среди всех гипотез."
   ]
  },
  {
   "cell_type": "markdown",
   "id": "edc973b9",
   "metadata": {},
   "source": [
    "### Часть 2. Анализ A/B-теста"
   ]
  },
  {
   "cell_type": "markdown",
   "id": "ad75becf",
   "metadata": {},
   "source": [
    "В датасетах orders и visitors содержатся результаты проведения A/B-теста. Проанализируем результаты: посчитаем статистическую значимость различий в среднем числе заказов на пользователя и среднем чеке между группами.\n"
   ]
  },
  {
   "cell_type": "markdown",
   "id": "487ddf60",
   "metadata": {},
   "source": [
    "Для начала соберем кумулятивные данные."
   ]
  },
  {
   "cell_type": "code",
   "execution_count": 21,
   "id": "92b79d2f",
   "metadata": {},
   "outputs": [
    {
     "name": "stdout",
     "output_type": "stream",
     "text": [
      "        date group  orders  buyers  revenue  visitors\n",
      "0 2019-08-01  A     24      20      148579   719     \n",
      "1 2019-08-01  B     21      20      101217   713     \n",
      "2 2019-08-02  A     44      38      242401   1338    \n",
      "3 2019-08-02  B     45      43      266748   1294    \n",
      "4 2019-08-03  A     68      62      354874   1845    \n"
     ]
    }
   ],
   "source": [
    "# создаем массив уникальных пар значений дат и групп теста\n",
    "datesGroups = orders[['date','group']].drop_duplicates()\n",
    "\n",
    "# Получаем кумулятивные данные\n",
    "ordersAggregated = datesGroups.apply(lambda x: orders[np.logical_and(orders['date'] <= x['date'], orders['group'] == x['group'])]\\\n",
    ".agg({'date' : 'max', 'group' : 'max', 'transaction_id' : 'nunique', 'visitor_id' : 'nunique', 'revenue' : 'sum'}), axis=1).sort_values(by=['date','group'])\n",
    "\n",
    "visitorsAggregated = datesGroups.apply(lambda x: visitors[np.logical_and(visitors['date'] <= x['date'], visitors['group'] == x['group'])].agg({'date' : 'max', 'group' : 'max', 'visitors' : 'sum'}), axis=1).sort_values(by=['date','group'])\n",
    "\n",
    "# объединяем кумулятивные данные в одной таблице и присваиваем ее столбцам понятные названия\n",
    "cumulativeData = ordersAggregated.merge(visitorsAggregated, left_on=['date', 'group'], right_on=['date', 'group'])\n",
    "cumulativeData.columns = ['date', 'group', 'orders', 'buyers', 'revenue', 'visitors']\n",
    "\n",
    "print(cumulativeData.head(5)) "
   ]
  },
  {
   "cell_type": "markdown",
   "id": "27768709",
   "metadata": {},
   "source": [
    "#### График кумулятивной выручки"
   ]
  },
  {
   "cell_type": "code",
   "execution_count": 22,
   "id": "a370cbc3",
   "metadata": {},
   "outputs": [
    {
     "data": {
      "image/png": "[encoded data removed]",
      "text/plain": [
       "<Figure size 432x288 with 1 Axes>"
      ]
     },
     "metadata": {
      "needs_background": "light"
     },
     "output_type": "display_data"
    }
   ],
   "source": [
    "# датафрейм с кумулятивным количеством заказов и кумулятивной выручкой по дням в группе А\n",
    "cumulativeRevenueA = cumulativeData[cumulativeData['group']=='A'][['date','revenue', 'orders']]\n",
    "\n",
    "# датафрейм с кумулятивным количеством заказов и кумулятивной выручкой по дням в группе B\n",
    "cumulativeRevenueB = cumulativeData[cumulativeData['group']=='B'][['date','revenue', 'orders']]\n",
    "\n",
    "# Строим график выручки группы А\n",
    "plt.plot(cumulativeRevenueA['date'], cumulativeRevenueA['revenue'], label='A')\n",
    "\n",
    "# Строим график выручки группы B\n",
    "plt.plot(cumulativeRevenueB['date'], cumulativeRevenueB['revenue'], label='B')\n",
    "\n",
    "plt.legend() \n",
    "plt.xlabel('Дата', fontsize=14)\n",
    "plt.xticks(rotation=90)\n",
    "plt.ylabel('Выручка', fontsize=14)\n",
    "plt.title('График кумулятивной выручки по группам', fontsize=20);"
   ]
  },
  {
   "cell_type": "markdown",
   "id": "2972ce51",
   "metadata": {},
   "source": [
    "В течение всего теста выручка равномерно увеличивается. Начиная с 5-го дня теста выручка группы В выше, чем у группы А. Однако в некоторых точках выручка группы В растет скачками. Это говорит либо о всплесках числа заказов, либо о появлении очень дорогих заказов в выборке."
   ]
  },
  {
   "cell_type": "markdown",
   "id": "cef5df47",
   "metadata": {},
   "source": [
    "#### График кумулятивного среднего чека"
   ]
  },
  {
   "cell_type": "code",
   "execution_count": 23,
   "id": "834eb2e5",
   "metadata": {},
   "outputs": [
    {
     "data": {
      "image/png": "[encoded data removed]",
      "text/plain": [
       "<Figure size 432x288 with 1 Axes>"
      ]
     },
     "metadata": {
      "needs_background": "light"
     },
     "output_type": "display_data"
    }
   ],
   "source": [
    "# Делим куммулятивную выручку на куммулятивное число заказов\n",
    "plt.plot(cumulativeRevenueA['date'], cumulativeRevenueA['revenue']/cumulativeRevenueA['orders'], label='A')\n",
    "plt.plot(cumulativeRevenueB['date'], cumulativeRevenueB['revenue']/cumulativeRevenueB['orders'], label='B')\n",
    "plt.legend()\n",
    "plt.xlabel('Дата', fontsize=14)\n",
    "plt.xticks(rotation=90)\n",
    "plt.ylabel('Стоимость', fontsize=14)\n",
    "plt.title('График кумулятивного среднего чека по группам', fontsize=20);"
   ]
  },
  {
   "cell_type": "markdown",
   "id": "a83aa871",
   "metadata": {},
   "source": [
    "К середине месяца кумулятивное значение среднего чека обеих групп  достигла максимум, затем немного снизилась. \n",
    "\n",
    "В группе А чек становится равномерным ближе к концу теста. В группе В присутствует аномальный рост параметра (17-18 августа). Вероятно, на результаты могли повлиять аномально крупные заказы, совершенные в эти даты."
   ]
  },
  {
   "cell_type": "markdown",
   "id": "48bd8c56",
   "metadata": {},
   "source": [
    "#### График относительного изменения кумулятивного среднего чека группы B к группе A"
   ]
  },
  {
   "cell_type": "code",
   "execution_count": 24,
   "id": "4ec1dafe",
   "metadata": {},
   "outputs": [
    {
     "data": {
      "image/png": "[encoded data removed]",
      "text/plain": [
       "<Figure size 432x288 with 1 Axes>"
      ]
     },
     "metadata": {
      "needs_background": "light"
     },
     "output_type": "display_data"
    }
   ],
   "source": [
    "# собираем данные в одном датафрейме\n",
    "mergedCumulativeRevenue = cumulativeRevenueA.merge(cumulativeRevenueB, left_on='date', right_on='date', how='left', suffixes=['A', 'B'])\n",
    "\n",
    "# cтроим отношение средних чеков\n",
    "plt.plot(mergedCumulativeRevenue['date'], (mergedCumulativeRevenue['revenueB']/mergedCumulativeRevenue['ordersB'])/(mergedCumulativeRevenue['revenueA']/mergedCumulativeRevenue['ordersA'])-1)\n",
    "\n",
    "# добавляем ось X\n",
    "plt.axhline(y=0, color='black', linestyle='--') \n",
    "\n",
    "plt.xlabel('Дата', fontsize=14)\n",
    "plt.xticks(rotation=90)\n",
    "plt.ylabel('Удельное изменение', fontsize=14)\n",
    "plt.title('График относительного изменения кумулятивного среднего чека группы B к группе A', fontsize=18);"
   ]
  },
  {
   "cell_type": "markdown",
   "id": "b975e93b",
   "metadata": {},
   "source": [
    "В нескольких точках график различия между сегментами резко «скачет». Один из скачков на тех же датах, что и на предыдущем графике - 17-18 августа. Это еще раз подтверждает теорию о наличии выбросов, что влияют на результаты."
   ]
  },
  {
   "cell_type": "markdown",
   "id": "ef00c376",
   "metadata": {},
   "source": [
    "#### График кумулятивного среднего количества заказов на посетителя"
   ]
  },
  {
   "cell_type": "code",
   "execution_count": 25,
   "id": "dff9fe8f",
   "metadata": {},
   "outputs": [
    {
     "data": {
      "image/png": "[encoded data removed]",
      "text/plain": [
       "<Figure size 432x288 with 1 Axes>"
      ]
     },
     "metadata": {
      "needs_background": "light"
     },
     "output_type": "display_data"
    }
   ],
   "source": [
    "# считаем кумулятивную конверсию\n",
    "cumulativeData['conversion'] = cumulativeData['orders']/cumulativeData['visitors']\n",
    "\n",
    "# отделяем данные по группе A\n",
    "cumulativeDataA = cumulativeData[cumulativeData['group']=='A']\n",
    "\n",
    "# отделяем данные по группе B\n",
    "cumulativeDataB = cumulativeData[cumulativeData['group']=='B']\n",
    "\n",
    "# строим графики\n",
    "plt.plot(cumulativeDataA['date'], cumulativeDataA['conversion'], label='A')\n",
    "plt.plot(cumulativeDataB['date'], cumulativeDataB['conversion'], label='B')\n",
    "plt.legend()\n",
    "plt.xlabel('Дата', fontsize=14)\n",
    "plt.xticks(rotation=90)\n",
    "plt.ylabel('Удельное кол-во', fontsize=14)\n",
    "plt.title('График среднего количества заказов на посетителя по группам', fontsize=18);"
   ]
  },
  {
   "cell_type": "markdown",
   "id": "6d65bfe1",
   "metadata": {},
   "source": [
    "В целом, колебания среднего количества заказов обеих групп происходят в небольшом диапазоне - от 2,9% до 3,7%. После первой недели проведения теста параметр группы А упал, а группы В - вырос и оставался выше до конца месяца. \n",
    "\n",
    "С течением месяца колебания среднего количества заказов обеих групп становятся все менее выражены."
   ]
  },
  {
   "cell_type": "markdown",
   "id": "67c48bf1",
   "metadata": {},
   "source": [
    "#### График относительного изменения кумулятивного среднего количества заказов на посетителя группы B к группе A"
   ]
  },
  {
   "cell_type": "code",
   "execution_count": 26,
   "id": "55703362",
   "metadata": {},
   "outputs": [
    {
     "data": {
      "image/png": "[encoded data removed]",
      "text/plain": [
       "<Figure size 432x288 with 1 Axes>"
      ]
     },
     "metadata": {
      "needs_background": "light"
     },
     "output_type": "display_data"
    }
   ],
   "source": [
    "mergedCumulativeConversions = cumulativeDataA[['date','conversion']].merge(cumulativeDataB[['date','conversion']], left_on='date', right_on='date', how='left', suffixes=['A', 'B'])\n",
    "\n",
    "plt.plot(mergedCumulativeConversions['date'], mergedCumulativeConversions['conversionB']/mergedCumulativeConversions['conversionA']-1)\n",
    "\n",
    "\n",
    "plt.axhline(y=0, color='black', linestyle='--')\n",
    "plt.axhline(y=0.2, color='grey', linestyle='--')\n",
    "\n",
    "plt.xlabel('Дата', fontsize=14)\n",
    "plt.xticks(rotation=90)\n",
    "plt.ylabel('Удельное изменение', fontsize=14)\n",
    "plt.title('График относительного изменения кумулятивного среднего количества заказов на посетителя группы B к группе A', fontsize=18);"
   ]
  },
  {
   "cell_type": "markdown",
   "id": "3bb7a953",
   "metadata": {},
   "source": [
    "В начале теста группа В показывала результаты хуже группы А, но со второй недели теста окончательно вырвалась вперед. С 9 августа прирост колебался от 10 до 20%, постепенно снижаясь к концу месяца."
   ]
  },
  {
   "cell_type": "markdown",
   "id": "5bc8f170",
   "metadata": {},
   "source": [
    "#### Точечный график количества заказов по пользователям"
   ]
  },
  {
   "cell_type": "code",
   "execution_count": 27,
   "id": "84ebba28",
   "metadata": {},
   "outputs": [
    {
     "data": {
      "image/png": "[encoded data removed]",
      "text/plain": [
       "<Figure size 432x288 with 1 Axes>"
      ]
     },
     "metadata": {
      "needs_background": "light"
     },
     "output_type": "display_data"
    }
   ],
   "source": [
    "ordersByUsers = (\n",
    "    orders.groupby('visitor_id', as_index=False)\n",
    "    .agg({'transaction_id': pd.Series.nunique})\n",
    ")\n",
    "\n",
    "ordersByUsers.columns = ['visitor_id', 'orders']\n",
    "\n",
    "# серия из чисел от 0 до количества наблюдений в ordersByUsers\n",
    "x_values = pd.Series(range(0, len(ordersByUsers)))\n",
    "plt.scatter(x_values, ordersByUsers['orders']);\n",
    "\n",
    "plt.title('Точечный график количества заказов по пользователям', fontsize=18)\n",
    "plt.ylabel('Количество заказов');"
   ]
  },
  {
   "cell_type": "markdown",
   "id": "9db373d1",
   "metadata": {},
   "source": [
    "Чаще всего пользователи оформляют 1-2 заказа. Есть несколько аномальных выбросов с количество заказов больше 10. Для того, чтобы оценить границы выбросов, необходимо посчитать перцентили."
   ]
  },
  {
   "cell_type": "markdown",
   "id": "1e89a793",
   "metadata": {},
   "source": [
    "#### Расчет перцентилей количества заказов на пользователя"
   ]
  },
  {
   "cell_type": "markdown",
   "id": "b8cfe49e",
   "metadata": {},
   "source": [
    "Рассчитаем 95-й и 99-й перцентили количества заказов на пользователя."
   ]
  },
  {
   "cell_type": "code",
   "execution_count": 28,
   "id": "3cfbe541",
   "metadata": {},
   "outputs": [
    {
     "name": "stdout",
     "output_type": "stream",
     "text": [
      "[2. 4.]\n"
     ]
    }
   ],
   "source": [
    "print(np.percentile(ordersByUsers['orders'], [95, 99])) "
   ]
  },
  {
   "cell_type": "markdown",
   "id": "fd0243a7",
   "metadata": {},
   "source": [
    "Более 2-х заказов совершали не более 5% пользователей. А больше 4-х заказов сделали не более 1% пользователей. \n",
    "\n",
    "Чтобы отсеять аномально большое число заказов, возьмем 2 заказа на пользователя за верхнюю границу и отсеим аномальных пользователей по ней.\n"
   ]
  },
  {
   "cell_type": "markdown",
   "id": "ab5ce0d0",
   "metadata": {},
   "source": [
    "#### Точечный график стоимости заказов"
   ]
  },
  {
   "cell_type": "code",
   "execution_count": 29,
   "id": "999b593b",
   "metadata": {},
   "outputs": [
    {
     "data": {
      "image/png": "[encoded data removed]",
      "text/plain": [
       "<Figure size 432x288 with 1 Axes>"
      ]
     },
     "metadata": {
      "needs_background": "light"
     },
     "output_type": "display_data"
    }
   ],
   "source": [
    "x_values = pd.Series(range(0,len(orders['revenue'])))\n",
    "plt.scatter(x_values, orders['revenue']) \n",
    "\n",
    "plt.title('Точечный график стоимости заказов', fontsize=18)\n",
    "plt.ylabel('Стоимость заказа, млн ед.');"
   ]
  },
  {
   "cell_type": "markdown",
   "id": "e9700ac4",
   "metadata": {},
   "source": [
    "На графике четко видно 2 аномально больших по стоимости заказов - более 1 200 000 ед и более 200 000 ед."
   ]
  },
  {
   "cell_type": "markdown",
   "id": "7d096316",
   "metadata": {},
   "source": [
    "Построим точечный график стоимости заказов без двух аномальных значений - это поможет нагляднее увидеть расположение остальных значений."
   ]
  },
  {
   "cell_type": "code",
   "execution_count": 30,
   "id": "122bda94",
   "metadata": {},
   "outputs": [
    {
     "data": {
      "text/html": [
       "<div>\n",
       "<style scoped>\n",
       "    .dataframe tbody tr th:only-of-type {\n",
       "        vertical-align: middle;\n",
       "    }\n",
       "\n",
       "    .dataframe tbody tr th {\n",
       "        vertical-align: top;\n",
       "    }\n",
       "\n",
       "    .dataframe thead th {\n",
       "        text-align: right;\n",
       "    }\n",
       "</style>\n",
       "<table border=\"1\" class=\"dataframe\">\n",
       "  <thead>\n",
       "    <tr style=\"text-align: right;\">\n",
       "      <th></th>\n",
       "      <th>transaction_id</th>\n",
       "      <th>visitor_id</th>\n",
       "      <th>date</th>\n",
       "      <th>revenue</th>\n",
       "      <th>group</th>\n",
       "    </tr>\n",
       "  </thead>\n",
       "  <tbody>\n",
       "    <tr>\n",
       "      <th>425</th>\n",
       "      <td>590470918</td>\n",
       "      <td>1920142716</td>\n",
       "      <td>2019-08-19</td>\n",
       "      <td>1294500</td>\n",
       "      <td>B</td>\n",
       "    </tr>\n",
       "    <tr>\n",
       "      <th>1196</th>\n",
       "      <td>3936777065</td>\n",
       "      <td>2108080724</td>\n",
       "      <td>2019-08-15</td>\n",
       "      <td>202740</td>\n",
       "      <td>B</td>\n",
       "    </tr>\n",
       "  </tbody>\n",
       "</table>\n",
       "</div>"
      ],
      "text/plain": [
       "      transaction_id  visitor_id       date  revenue group\n",
       "425   590470918       1920142716 2019-08-19  1294500  B   \n",
       "1196  3936777065      2108080724 2019-08-15  202740   B   "
      ]
     },
     "execution_count": 30,
     "metadata": {},
     "output_type": "execute_result"
    }
   ],
   "source": [
    "orders.sort_values(by='revenue', ascending=False).head(2)"
   ]
  },
  {
   "cell_type": "code",
   "execution_count": 31,
   "id": "76b68d69",
   "metadata": {},
   "outputs": [
    {
     "data": {
      "image/png": "[encoded data removed]",
      "text/plain": [
       "<Figure size 432x288 with 1 Axes>"
      ]
     },
     "metadata": {
      "needs_background": "light"
     },
     "output_type": "display_data"
    }
   ],
   "source": [
    "orders_without_anomaly = orders.sort_values(by='revenue', ascending=False)['revenue'].head(2).to_list()\n",
    "\n",
    "x_values = pd.Series(range(0,len(orders['revenue'])-2))\n",
    "plt.scatter(x_values, orders.query('revenue not in @orders_without_anomaly')['revenue']) \n",
    "\n",
    "plt.title('Точечный график стоимости заказов(без двух аномальных выбросов)', fontsize=18)\n",
    "plt.ylabel('Стоимость заказа, млн ед.');"
   ]
  },
  {
   "cell_type": "markdown",
   "id": "09104e80",
   "metadata": {},
   "source": [
    "На отмасштабируемом графике видно, что большая часть заказов меньше 20 000. Чтобы оценить границы выбросов, нужно посчитать перцентили."
   ]
  },
  {
   "cell_type": "markdown",
   "id": "5352e6c9",
   "metadata": {},
   "source": [
    "#### Расчет перцентилей стоимости заказов"
   ]
  },
  {
   "cell_type": "markdown",
   "id": "13d050e3",
   "metadata": {},
   "source": [
    "Рассчитаем 95-й и 99-й перцентили стоимости заказов."
   ]
  },
  {
   "cell_type": "code",
   "execution_count": 32,
   "id": "e7a5048e",
   "metadata": {},
   "outputs": [
    {
     "name": "stdout",
     "output_type": "stream",
     "text": [
      "[28000.  58233.2]\n"
     ]
    }
   ],
   "source": [
    "print(np.percentile(orders['revenue'], [95, 99]))"
   ]
  },
  {
   "cell_type": "markdown",
   "id": "aa5ae987",
   "metadata": {},
   "source": [
    "Заказы на сумму выше 28 000 ед совершили не более 5% пользователей. А на сумму 58 233,2 ед сделали не более 1% пользователей.\n",
    "\n",
    "Установим верхнюю границу по 95-му перцентилю (28 000 ед) и отсеим аномально большие заказы по ней."
   ]
  },
  {
   "cell_type": "markdown",
   "id": "f5670cff",
   "metadata": {},
   "source": [
    "#### Расчет статистической значимости различий в среднем количестве заказов на посетителя между группами по «сырым» данным"
   ]
  },
  {
   "cell_type": "markdown",
   "id": "05763ea7",
   "metadata": {},
   "source": [
    "Нулевая гипотеза: различий в среднем количестве заказов на посетителя между группами по «сырым» данным нет.\n",
    "\n",
    "Альтернативная гипотеза: различия в среднем количестве заказов на посетителя между группами по «сырым» данным есть.\n",
    "\n",
    "Уровень статистической значимости (alpha) = 0.05"
   ]
  },
  {
   "cell_type": "code",
   "execution_count": 33,
   "id": "fdb0c64c",
   "metadata": {},
   "outputs": [
    {
     "name": "stdout",
     "output_type": "stream",
     "text": [
      "        date  ordersPerDateA  revenuePerDateA  ordersPerDateB  \\\n",
      "0 2019-08-01  24              148579           21               \n",
      "1 2019-08-02  20              93822            24               \n",
      "2 2019-08-03  24              112473           16               \n",
      "3 2019-08-04  16              70825            17               \n",
      "4 2019-08-05  25              124218           23               \n",
      "\n",
      "   revenuePerDateB  ordersCummulativeA  revenueCummulativeA  \\\n",
      "0  101217           24                  148579                \n",
      "1  165531           44                  242401                \n",
      "2  114248           68                  354874                \n",
      "3  108571           84                  425699                \n",
      "4  92428            109                 549917                \n",
      "\n",
      "   ordersCummulativeB  revenueCummulativeB  visitorsPerDateA  \\\n",
      "0  21                  101217               719                \n",
      "1  45                  266748               619                \n",
      "2  61                  380996               507                \n",
      "3  78                  489567               717                \n",
      "4  101                 581995               756                \n",
      "\n",
      "   visitorsPerDateB  visitorsCummulativeA  visitorsCummulativeB  \n",
      "0  713               719                   713                   \n",
      "1  581               1338                  1294                  \n",
      "2  509               1845                  1803                  \n",
      "3  770               2562                  2573                  \n",
      "4  707               3318                  3280                  \n"
     ]
    }
   ],
   "source": [
    "# подготовка данных\n",
    "\n",
    "visitorsADaily = visitors[visitors['group'] == 'A'][['date', 'visitors']]\n",
    "visitorsADaily.columns = ['date', 'visitorsPerDateA']\n",
    "\n",
    "visitorsACummulative = visitorsADaily.apply(\n",
    "    lambda x: visitorsADaily[visitorsADaily['date'] <= x['date']].agg(\n",
    "        {'date': 'max', 'visitorsPerDateA': 'sum'}\n",
    "    ),\n",
    "    axis=1,\n",
    ")\n",
    "visitorsACummulative.columns = ['date', 'visitorsCummulativeA']\n",
    "\n",
    "visitorsBDaily = visitors[visitors['group'] == 'B'][['date', 'visitors']]\n",
    "visitorsBDaily.columns = ['date', 'visitorsPerDateB']\n",
    "\n",
    "visitorsBCummulative = visitorsBDaily.apply(\n",
    "    lambda x: visitorsBDaily[visitorsBDaily['date'] <= x['date']].agg(\n",
    "        {'date': 'max', 'visitorsPerDateB': 'sum'}\n",
    "    ),\n",
    "    axis=1,\n",
    ")\n",
    "visitorsBCummulative.columns = ['date', 'visitorsCummulativeB']\n",
    "\n",
    "ordersADaily = (\n",
    "    orders[orders['group'] == 'A'][['date', 'transaction_id', 'visitor_id', 'revenue']]\n",
    "    .groupby('date', as_index=False)\n",
    "    .agg({'transaction_id': pd.Series.nunique, 'revenue': 'sum'})\n",
    ")\n",
    "ordersADaily.columns = ['date', 'ordersPerDateA', 'revenuePerDateA']\n",
    "\n",
    "ordersACummulative = ordersADaily.apply(\n",
    "    lambda x: ordersADaily[ordersADaily['date'] <= x['date']].agg(\n",
    "        {'date': 'max', 'ordersPerDateA': 'sum', 'revenuePerDateA': 'sum'}\n",
    "    ),\n",
    "    axis=1,\n",
    ").sort_values(by=['date'])\n",
    "ordersACummulative.columns = [\n",
    "    'date',\n",
    "    'ordersCummulativeA',\n",
    "    'revenueCummulativeA',\n",
    "]\n",
    "\n",
    "ordersBDaily = (\n",
    "    orders[orders['group'] == 'B'][['date', 'transaction_id', 'visitor_id', 'revenue']]\n",
    "    .groupby('date', as_index=False)\n",
    "    .agg({'transaction_id': pd.Series.nunique, 'revenue': 'sum'})\n",
    ")\n",
    "ordersBDaily.columns = ['date', 'ordersPerDateB', 'revenuePerDateB']\n",
    "\n",
    "ordersBCummulative = ordersBDaily.apply(\n",
    "    lambda x: ordersBDaily[ordersBDaily['date'] <= x['date']].agg(\n",
    "        {'date': 'max', 'ordersPerDateB': 'sum', 'revenuePerDateB': 'sum'}\n",
    "    ),\n",
    "    axis=1,\n",
    ").sort_values(by=['date'])\n",
    "ordersBCummulative.columns = [\n",
    "    'date',\n",
    "    'ordersCummulativeB',\n",
    "    'revenueCummulativeB',\n",
    "]\n",
    "\n",
    "data = (\n",
    "    ordersADaily.merge(\n",
    "        ordersBDaily, left_on='date', right_on='date', how='left'\n",
    "    )\n",
    "    .merge(ordersACummulative, left_on='date', right_on='date', how='left')\n",
    "    .merge(ordersBCummulative, left_on='date', right_on='date', how='left')\n",
    "    .merge(visitorsADaily, left_on='date', right_on='date', how='left')\n",
    "    .merge(visitorsBDaily, left_on='date', right_on='date', how='left')\n",
    "    .merge(visitorsACummulative, left_on='date', right_on='date', how='left')\n",
    "    .merge(visitorsBCummulative, left_on='date', right_on='date', how='left')\n",
    ")\n",
    "\n",
    "print(data.head(5)) "
   ]
  },
  {
   "cell_type": "code",
   "execution_count": 34,
   "id": "96e209aa",
   "metadata": {},
   "outputs": [],
   "source": [
    "# Создадим переменные с id пользователя и кол-вом заказов. \n",
    "# Добавляем только тех пользователей, которые сделали заказ хотя бы 1 раз\n",
    "\n",
    "ordersByUsersA = (\n",
    "    orders[orders['group'] == 'A']\n",
    "    .groupby('visitor_id', as_index=False)\n",
    "    .agg({'transaction_id': pd.Series.nunique})\n",
    ")\n",
    "ordersByUsersA.columns = ['user_id', 'orders']\n",
    "\n",
    "ordersByUsersB = (\n",
    "    orders[orders['group'] == 'B']\n",
    "    .groupby('visitor_id', as_index=False)\n",
    "    .agg({'transaction_id': pd.Series.nunique})\n",
    ")\n",
    "ordersByUsersB.columns = ['user_id', 'orders'] "
   ]
  },
  {
   "cell_type": "code",
   "execution_count": 35,
   "id": "f9982d50",
   "metadata": {},
   "outputs": [],
   "source": [
    "# Переменные с id пользователя и числом заказов. Если заказов не было, остается 0.\n",
    "\n",
    "sampleA = pd.concat(\n",
    "    [\n",
    "        ordersByUsersA['orders'],pd.Series(0, index=np.arange(data['visitorsPerDateA'].sum() - len(ordersByUsersA['orders'])), name='orders')\n",
    "    ],\n",
    "    axis=0\n",
    ")\n",
    "\n",
    "sampleB = pd.concat(\n",
    "    [\n",
    "        ordersByUsersB['orders'],pd.Series(0, index=np.arange(data['visitorsPerDateB'].sum() - len(ordersByUsersB['orders'])), name='orders')\n",
    "    ],\n",
    "    axis=0\n",
    ")"
   ]
  },
  {
   "cell_type": "code",
   "execution_count": 36,
   "id": "7a9e98da",
   "metadata": {},
   "outputs": [
    {
     "name": "stdout",
     "output_type": "stream",
     "text": [
      "Статистическая значимость различий в среднем количестве заказов на посетителя: 0.017\n",
      "Относительный прирост среднего числа заказов группы B относительно группы А: 0.138\n"
     ]
    }
   ],
   "source": [
    "# Применяем критерий Манна-Уитни\n",
    "print('Статистическая значимость различий в среднем количестве заказов на посетителя:',\\\n",
    "      \"{0:.3f}\".format(stats.mannwhitneyu(sampleA, sampleB)[1]))\n",
    "\n",
    "# Относительный прирост среднего числа заказов группы B относительно группы А\n",
    "print('Относительный прирост среднего числа заказов группы B относительно группы А:',\\\n",
    "      \"{0:.3f}\".format(sampleB.mean() / sampleA.mean() - 1))\n",
    " "
   ]
  },
  {
   "cell_type": "markdown",
   "id": "72542595",
   "metadata": {},
   "source": [
    "p-value = 0.017, что меньше 0.05. Значит, нулевую гипотезу о том, что статистически значимых различий в среднем количестве заказов на посетителя между группами нет, отвергаем. \n",
    "\n",
    "Относительный прирост среднего количества заказов на пользователя группы В к группе А равен 13,8%."
   ]
  },
  {
   "cell_type": "markdown",
   "id": "2a9c8af8",
   "metadata": {},
   "source": [
    "#### Расчет статистической значимости различий в среднем чеке заказа между группами по «сырым» данным"
   ]
  },
  {
   "cell_type": "markdown",
   "id": "d7fbed9b",
   "metadata": {},
   "source": [
    "Нулевая гипотеза: различий в среднем чеке между группами по «сырым» данным нет.\n",
    "\n",
    "Альтернативная гипотеза: различия в среднем чеке между группами по «сырым» данным есть.\n",
    "\n",
    "Уровень статистической значимости (alpha) = 0.05"
   ]
  },
  {
   "cell_type": "code",
   "execution_count": 37,
   "id": "755aee41",
   "metadata": {},
   "outputs": [
    {
     "name": "stdout",
     "output_type": "stream",
     "text": [
      "Статистическая значимость различий в среднем чеке: 0.729\n",
      "Относительное различие в среднем чеке между группами: 0.259\n"
     ]
    }
   ],
   "source": [
    "print('Статистическая значимость различий в среднем чеке:', '{0:.3f}'.format(\n",
    "    stats.mannwhitneyu(\n",
    "        orders[orders['group']=='A']['revenue'], orders[orders['group']=='B']['revenue'])[1]\n",
    ")\n",
    "     )\n",
    "print('Относительное различие в среднем чеке между группами:', '{0:.3f}'.format(\n",
    "    orders[orders['group']=='B']['revenue'].mean() / orders[orders['group']=='A']['revenue'].mean()-1)\n",
    "     ) "
   ]
  },
  {
   "cell_type": "markdown",
   "id": "a092c5e7",
   "metadata": {},
   "source": [
    "р-value = 0,729, что гораздо больше 0,05. Значит, причин отвергать нулевую гипотезу и считать, что в среднем чеке есть различия, нет. \n",
    "\n",
    "Средний чек группы B выше среднего чека группы A на 25,9%."
   ]
  },
  {
   "cell_type": "markdown",
   "id": "5a2fee1a",
   "metadata": {},
   "source": [
    "#### Расчет статистической значимости различий в среднем количестве заказов на посетителя между группами по «очищенным» данным"
   ]
  },
  {
   "cell_type": "markdown",
   "id": "6d4abab5",
   "metadata": {},
   "source": [
    "Нулевая гипотеза: различий в среднем количестве заказов на посетителя между группами по «очищенным» данным нет.\n",
    "\n",
    "Альтернативная гипотеза: различия в среднем количестве заказов на посетителя между группами по «очищенным» данным есть.\n",
    "\n",
    "Уровень статистической значимости (alpha) = 0.05"
   ]
  },
  {
   "cell_type": "markdown",
   "id": "c4569c72",
   "metadata": {},
   "source": [
    "Принимаем за аномальных пользователей тех, кто совершил более 2-х заказов и заказы на сумму выше 28 000 ед (95-й перцентиль)."
   ]
  },
  {
   "cell_type": "code",
   "execution_count": 38,
   "id": "da44093d",
   "metadata": {},
   "outputs": [
    {
     "name": "stdout",
     "output_type": "stream",
     "text": [
      "1099    148427295\n",
      "18      199603092\n",
      "928     204675465\n",
      "23      237748145\n",
      "37      249864742\n",
      "dtype: int64\n",
      "74\n"
     ]
    }
   ],
   "source": [
    "usersWithManyOrders = pd.concat(\n",
    "    [\n",
    "        ordersByUsersA[ordersByUsersA['orders'] > np.percentile(ordersByUsers['orders'], 95)]['user_id'],\n",
    "        ordersByUsersB[ordersByUsersB['orders'] > np.percentile(ordersByUsers['orders'], 95)]['user_id'],\n",
    "    ],\n",
    "    axis=0,\n",
    ")\n",
    "usersWithExpensiveOrders = orders[orders['revenue'] > np.percentile(orders['revenue'], 95)]['visitor_id']\n",
    "\n",
    "abnormalUsers = (\n",
    "    pd.concat([usersWithManyOrders, usersWithExpensiveOrders], axis=0)\n",
    "    .drop_duplicates()\n",
    "    .sort_values()\n",
    ")\n",
    "print(abnormalUsers.head(5))\n",
    "print(abnormalUsers.shape[0]) "
   ]
  },
  {
   "cell_type": "markdown",
   "id": "b2b37a71",
   "metadata": {},
   "source": [
    "Всего 74 аномальных пользователя."
   ]
  },
  {
   "cell_type": "code",
   "execution_count": 39,
   "id": "3e2405e5",
   "metadata": {},
   "outputs": [],
   "source": [
    "# Создаем переменные, исключая аномальных пользователей\n",
    "sampleAFiltered = pd.concat(\n",
    "    [\n",
    "        ordersByUsersA[\n",
    "            np.logical_not(ordersByUsersA['user_id'].isin(abnormalUsers))\n",
    "        ]['orders'],\n",
    "        pd.Series(\n",
    "            0,\n",
    "            index=np.arange(\n",
    "                data['visitorsPerDateA'].sum() - len(ordersByUsersA['orders'])\n",
    "            ),\n",
    "            name='orders',\n",
    "        ),\n",
    "    ],\n",
    "    axis=0,\n",
    ")\n",
    "\n",
    "sampleBFiltered = pd.concat(\n",
    "    [\n",
    "        ordersByUsersB[\n",
    "            np.logical_not(ordersByUsersB['user_id'].isin(abnormalUsers))\n",
    "        ]['orders'],\n",
    "        pd.Series(\n",
    "            0,\n",
    "            index=np.arange(\n",
    "                data['visitorsPerDateB'].sum() - len(ordersByUsersB['orders'])\n",
    "            ),\n",
    "            name='orders',\n",
    "        ),\n",
    "    ],\n",
    "    axis=0,\n",
    ")"
   ]
  },
  {
   "cell_type": "code",
   "execution_count": 40,
   "id": "b49de04f",
   "metadata": {},
   "outputs": [
    {
     "name": "stdout",
     "output_type": "stream",
     "text": [
      "Статистическая значимость различий в среднем количестве заказов на посетителя: 0.013\n",
      "Относительный прирост среднего числа заказов группы B относительно группы А: 0.173\n"
     ]
    }
   ],
   "source": [
    "# Применяем критерий Манна-Уитни\n",
    "print('Статистическая значимость различий в среднем количестве заказов на посетителя:',\\\n",
    "      '{0:.3f}'.format(stats.mannwhitneyu(sampleAFiltered, sampleBFiltered)[1]))\n",
    "\n",
    "# Относительный прирост среднего числа заказов группы B относительно группы А\n",
    "print('Относительный прирост среднего числа заказов группы B относительно группы А:',\\\n",
    "      '{0:.3f}'.format(sampleBFiltered.mean()/sampleAFiltered.mean()-1)) "
   ]
  },
  {
   "cell_type": "markdown",
   "id": "620eb79f",
   "metadata": {},
   "source": [
    "p-value = 0.013, что меньше 0.05. Как и в случае с сырыми данными, нулевую гипотезу о том, что статистически значимых различий в среднем количестве заказов на посетителя между группами нет, отвергаем.\n",
    "\n",
    "Относительный прирост среднего количества заказов на посетителя группы В к группе А равен 17,3%. После очистки данных этот показатель вырос."
   ]
  },
  {
   "cell_type": "markdown",
   "id": "3052d546",
   "metadata": {},
   "source": [
    "#### Расчет статистической значимости различий в среднем чеке заказа между группами по «очищенным» данным"
   ]
  },
  {
   "cell_type": "markdown",
   "id": "d9f0e62e",
   "metadata": {},
   "source": [
    "Нулевая гипотеза: различий в среднем чеке между группами по «очищенным» данным нет.\n",
    "\n",
    "Альтернативная гипотеза: различия в среднем чеке между группами по «очищенным» данным есть.\n",
    "\n",
    "Уровень статистической значимости (alpha) = 0.05"
   ]
  },
  {
   "cell_type": "code",
   "execution_count": 41,
   "id": "9393262d",
   "metadata": {},
   "outputs": [
    {
     "name": "stdout",
     "output_type": "stream",
     "text": [
      "Статистическая значимость различий в среднем чеке: 0.738\n",
      "Относительное различие в среднем чеке между группами: -0.020\n"
     ]
    }
   ],
   "source": [
    "print('Статистическая значимость различий в среднем чеке:',\\\n",
    "    '{0:.3f}'.format(\n",
    "        stats.mannwhitneyu(\n",
    "            orders[\n",
    "                np.logical_and(\n",
    "                    orders['group'] == 'A',\n",
    "                    np.logical_not(orders['visitor_id'].isin(abnormalUsers)),\n",
    "                )\n",
    "            ]['revenue'],\n",
    "            orders[\n",
    "                np.logical_and(\n",
    "                    orders['group'] == 'B',\n",
    "                    np.logical_not(orders['visitor_id'].isin(abnormalUsers)),\n",
    "                )\n",
    "            ]['revenue'],\n",
    "        )[1]\n",
    "    )\n",
    ")\n",
    "\n",
    "print('Относительное различие в среднем чеке между группами:',\\\n",
    "    \"{0:.3f}\".format(\n",
    "        orders[\n",
    "            np.logical_and(\n",
    "                orders['group'] == 'B',\n",
    "                np.logical_not(orders['visitor_id'].isin(abnormalUsers)),\n",
    "            )\n",
    "        ]['revenue'].mean()\n",
    "        / orders[\n",
    "            np.logical_and(\n",
    "                orders['group'] == 'A',\n",
    "                np.logical_not(orders['visitor_id'].isin(abnormalUsers)),\n",
    "            )\n",
    "        ]['revenue'].mean()\n",
    "        - 1\n",
    "    )\n",
    ") "
   ]
  },
  {
   "cell_type": "markdown",
   "id": "1f794372",
   "metadata": {},
   "source": [
    "р-value = 0,738, что гораздо больше 0,05. Параметр оказался на том же уровне, что и до очистки данных. Причин отвергать нулевую гипотезу и считать, что в среднем чеке есть различия, нет.\n",
    "\n",
    "Однако после очистки данных средний чек группы В снизился и стал на 2% ниже, чем у группы А. Значи аномально большие заказы очень сильно влияли по средний чек."
   ]
  },
  {
   "cell_type": "markdown",
   "id": "e48b54a8",
   "metadata": {},
   "source": [
    "### Вывод"
   ]
  },
  {
   "cell_type": "markdown",
   "id": "cb5d3594",
   "metadata": {},
   "source": [
    "После проведения анализа результатов А/В теста, получили средующие результаты:\n",
    "\n",
    "* График относительного изменения кумулятивного среднего чека группы B к группе A показывает, что по большей части группа В показывала результат лучше группы А, однако на графике присутствуют резкие скачки в сторону ухудшения параметра;\n",
    "\n",
    "* График относительного изменения кумулятивного среднего количества заказов на посетителя группы B к группе A показывает, что со второй недели теста группа В показывала результат лучше группы А;\n",
    "\n",
    "* По итогам теста с использованием критерия Манна-Уитни **выявлено статистическое различие** в среднем количестве заказов на посетителя между группами как по сырым, так и по очищенным данным;\n",
    "\n",
    "* Статистически значимого различия в среднем чеке заказа **не обнаружено** даже после очистки данных от аномальных значений.\n",
    "\n",
    "Исходя из обнаруженных фактов, тест следует остановить и зафиксировать победу группы В. Хотя и не удалось зафиксировать статискически значимого различия в среднем чеке между группами, рост среднего числа заказов на посетителя неизменно приведет к росту выручки в компании."
   ]
  }
 ],
 "metadata": {
  "ExecuteTimeLog": [
   {
    "duration": 1315,
    "start_time": "2023-02-09T15:53:30.486Z"
   },
   {
    "duration": 264,
    "start_time": "2023-02-09T15:53:31.804Z"
   },
   {
    "duration": 13,
    "start_time": "2023-02-09T15:53:32.070Z"
   },
   {
    "duration": 11,
    "start_time": "2023-02-09T15:53:32.085Z"
   },
   {
    "duration": 22,
    "start_time": "2023-02-09T15:53:32.098Z"
   },
   {
    "duration": 18,
    "start_time": "2023-02-09T15:53:32.121Z"
   },
   {
    "duration": 21,
    "start_time": "2023-02-09T15:53:32.141Z"
   },
   {
    "duration": 15,
    "start_time": "2023-02-09T15:53:32.164Z"
   },
   {
    "duration": 21,
    "start_time": "2023-02-09T15:53:32.182Z"
   },
   {
    "duration": 17,
    "start_time": "2023-02-09T15:53:32.206Z"
   },
   {
    "duration": 18,
    "start_time": "2023-02-09T15:53:32.224Z"
   },
   {
    "duration": 31,
    "start_time": "2023-02-09T15:53:32.244Z"
   },
   {
    "duration": 12,
    "start_time": "2023-02-09T15:53:32.277Z"
   },
   {
    "duration": 21,
    "start_time": "2023-02-09T15:53:32.291Z"
   },
   {
    "duration": 10,
    "start_time": "2023-02-09T15:53:32.314Z"
   },
   {
    "duration": 289,
    "start_time": "2023-02-09T15:53:32.326Z"
   },
   {
    "duration": 284,
    "start_time": "2023-02-09T15:53:32.616Z"
   },
   {
    "duration": 228,
    "start_time": "2023-02-09T15:53:32.901Z"
   },
   {
    "duration": 334,
    "start_time": "2023-02-09T15:53:33.131Z"
   },
   {
    "duration": 225,
    "start_time": "2023-02-09T15:53:33.467Z"
   },
   {
    "duration": 340,
    "start_time": "2023-02-09T15:53:33.694Z"
   },
   {
    "duration": 288,
    "start_time": "2023-02-09T15:53:34.036Z"
   },
   {
    "duration": 4,
    "start_time": "2023-02-09T15:53:34.326Z"
   },
   {
    "duration": 144,
    "start_time": "2023-02-09T15:53:34.332Z"
   },
   {
    "duration": 5,
    "start_time": "2023-02-09T15:53:34.477Z"
   },
   {
    "duration": 227,
    "start_time": "2023-02-09T15:53:34.484Z"
   },
   {
    "duration": 145,
    "start_time": "2023-02-09T15:53:34.713Z"
   },
   {
    "duration": 6,
    "start_time": "2023-02-09T15:53:34.861Z"
   },
   {
    "duration": 32,
    "start_time": "2023-02-09T15:53:34.869Z"
   },
   {
    "duration": 17,
    "start_time": "2023-02-09T15:53:34.902Z"
   },
   {
    "duration": 12,
    "start_time": "2023-02-09T15:53:34.921Z"
   },
   {
    "duration": 9,
    "start_time": "2023-02-09T15:53:34.935Z"
   },
   {
    "duration": 30,
    "start_time": "2023-02-09T15:53:34.945Z"
   },
   {
    "duration": 38,
    "start_time": "2023-02-09T15:53:34.976Z"
   },
   {
    "duration": 220,
    "start_time": "2023-02-09T15:56:02.933Z"
   },
   {
    "duration": 254,
    "start_time": "2023-02-09T15:56:11.881Z"
   },
   {
    "duration": 181,
    "start_time": "2023-02-09T15:56:33.372Z"
   },
   {
    "duration": 189,
    "start_time": "2023-02-09T15:56:37.632Z"
   },
   {
    "duration": 336,
    "start_time": "2023-02-09T15:56:54.729Z"
   },
   {
    "duration": 205,
    "start_time": "2023-02-09T15:57:04.117Z"
   },
   {
    "duration": 350,
    "start_time": "2023-02-09T15:57:13.893Z"
   },
   {
    "duration": 6,
    "start_time": "2023-02-09T15:58:32.382Z"
   },
   {
    "duration": 1018,
    "start_time": "2023-02-09T16:02:38.525Z"
   },
   {
    "duration": 87,
    "start_time": "2023-02-09T16:02:39.545Z"
   },
   {
    "duration": 11,
    "start_time": "2023-02-09T16:02:39.633Z"
   },
   {
    "duration": 11,
    "start_time": "2023-02-09T16:02:39.646Z"
   },
   {
    "duration": 18,
    "start_time": "2023-02-09T16:02:39.658Z"
   },
   {
    "duration": 17,
    "start_time": "2023-02-09T16:02:39.677Z"
   },
   {
    "duration": 20,
    "start_time": "2023-02-09T16:02:39.695Z"
   },
   {
    "duration": 11,
    "start_time": "2023-02-09T16:02:39.717Z"
   },
   {
    "duration": 19,
    "start_time": "2023-02-09T16:02:39.729Z"
   },
   {
    "duration": 25,
    "start_time": "2023-02-09T16:02:39.750Z"
   },
   {
    "duration": 12,
    "start_time": "2023-02-09T16:02:39.777Z"
   },
   {
    "duration": 21,
    "start_time": "2023-02-09T16:02:39.791Z"
   },
   {
    "duration": 32,
    "start_time": "2023-02-09T16:02:39.813Z"
   },
   {
    "duration": 290,
    "start_time": "2023-02-09T16:02:39.847Z"
   },
   {
    "duration": 283,
    "start_time": "2023-02-09T16:02:40.138Z"
   },
   {
    "duration": 192,
    "start_time": "2023-02-09T16:02:40.422Z"
   },
   {
    "duration": 314,
    "start_time": "2023-02-09T16:02:40.615Z"
   },
   {
    "duration": 210,
    "start_time": "2023-02-09T16:02:40.931Z"
   },
   {
    "duration": 312,
    "start_time": "2023-02-09T16:02:41.143Z"
   },
   {
    "duration": 255,
    "start_time": "2023-02-09T16:02:41.456Z"
   },
   {
    "duration": 4,
    "start_time": "2023-02-09T16:02:41.712Z"
   },
   {
    "duration": 146,
    "start_time": "2023-02-09T16:02:41.718Z"
   },
   {
    "duration": 4,
    "start_time": "2023-02-09T16:02:41.865Z"
   },
   {
    "duration": 226,
    "start_time": "2023-02-09T16:02:41.871Z"
   },
   {
    "duration": 155,
    "start_time": "2023-02-09T16:02:42.098Z"
   },
   {
    "duration": 7,
    "start_time": "2023-02-09T16:02:42.255Z"
   },
   {
    "duration": 26,
    "start_time": "2023-02-09T16:02:42.263Z"
   },
   {
    "duration": 25,
    "start_time": "2023-02-09T16:02:42.293Z"
   },
   {
    "duration": 12,
    "start_time": "2023-02-09T16:02:42.319Z"
   },
   {
    "duration": 12,
    "start_time": "2023-02-09T16:02:42.333Z"
   },
   {
    "duration": 23,
    "start_time": "2023-02-09T16:02:42.346Z"
   },
   {
    "duration": 13,
    "start_time": "2023-02-09T16:02:42.371Z"
   },
   {
    "duration": 1091,
    "start_time": "2023-02-09T18:41:50.551Z"
   },
   {
    "duration": 133,
    "start_time": "2023-02-09T18:41:51.650Z"
   },
   {
    "duration": 13,
    "start_time": "2023-02-09T18:41:51.785Z"
   },
   {
    "duration": 10,
    "start_time": "2023-02-09T18:41:51.800Z"
   },
   {
    "duration": 14,
    "start_time": "2023-02-09T18:41:51.813Z"
   },
   {
    "duration": 21,
    "start_time": "2023-02-09T18:41:51.829Z"
   },
   {
    "duration": 16,
    "start_time": "2023-02-09T18:41:51.852Z"
   },
   {
    "duration": 24,
    "start_time": "2023-02-09T18:41:51.870Z"
   },
   {
    "duration": 11,
    "start_time": "2023-02-09T18:41:51.896Z"
   },
   {
    "duration": 19,
    "start_time": "2023-02-09T18:41:51.909Z"
   },
   {
    "duration": 9,
    "start_time": "2023-02-09T18:41:51.931Z"
   },
   {
    "duration": 21,
    "start_time": "2023-02-09T18:41:51.942Z"
   },
   {
    "duration": 33,
    "start_time": "2023-02-09T18:41:51.964Z"
   },
   {
    "duration": 294,
    "start_time": "2023-02-09T18:41:52.000Z"
   },
   {
    "duration": 362,
    "start_time": "2023-02-09T18:41:52.296Z"
   },
   {
    "duration": 232,
    "start_time": "2023-02-09T18:41:52.660Z"
   },
   {
    "duration": 346,
    "start_time": "2023-02-09T18:41:52.893Z"
   },
   {
    "duration": 244,
    "start_time": "2023-02-09T18:41:53.241Z"
   },
   {
    "duration": 354,
    "start_time": "2023-02-09T18:41:53.487Z"
   },
   {
    "duration": 291,
    "start_time": "2023-02-09T18:41:53.842Z"
   },
   {
    "duration": 5,
    "start_time": "2023-02-09T18:41:54.135Z"
   },
   {
    "duration": 182,
    "start_time": "2023-02-09T18:41:54.142Z"
   },
   {
    "duration": 6,
    "start_time": "2023-02-09T18:41:54.326Z"
   },
   {
    "duration": 281,
    "start_time": "2023-02-09T18:41:54.334Z"
   },
   {
    "duration": 180,
    "start_time": "2023-02-09T18:41:54.617Z"
   },
   {
    "duration": 6,
    "start_time": "2023-02-09T18:41:54.799Z"
   },
   {
    "duration": 41,
    "start_time": "2023-02-09T18:41:54.807Z"
   },
   {
    "duration": 14,
    "start_time": "2023-02-09T18:41:54.850Z"
   },
   {
    "duration": 29,
    "start_time": "2023-02-09T18:41:54.866Z"
   },
   {
    "duration": 15,
    "start_time": "2023-02-09T18:41:54.897Z"
   },
   {
    "duration": 40,
    "start_time": "2023-02-09T18:41:54.914Z"
   },
   {
    "duration": 37,
    "start_time": "2023-02-09T18:41:54.956Z"
   }
  ],
  "kernelspec": {
   "display_name": "Python 3 (ipykernel)",
   "language": "python",
   "name": "python3"
  },
  "language_info": {
   "codemirror_mode": {
    "name": "ipython",
    "version": 3
   },
   "file_extension": ".py",
   "mimetype": "text/x-python",
   "name": "python",
   "nbconvert_exporter": "python",
   "pygments_lexer": "ipython3",
   "version": "3.9.6"
  },
  "toc": {
   "base_numbering": 1,
   "nav_menu": {},
   "number_sections": true,
   "sideBar": true,
   "skip_h1_title": true,
   "title_cell": "Table of Contents",
   "title_sidebar": "Contents",
   "toc_cell": false,
   "toc_position": {
    "height": "calc(100% - 180px)",
    "left": "10px",
    "top": "150px",
    "width": "472.188px"
   },
   "toc_section_display": true,
   "toc_window_display": false
  }
 },
 "nbformat": 4,
 "nbformat_minor": 5
}

{
 "cells": [
  {
   "cell_type": "markdown",
   "id": "49e89b4b",
   "metadata": {},
   "source": [
    "<div style=\"border:solid green 2px; padding: 20px\">\n",
    "    \n",
    "<b>Евгения, привет! Это Александр Матвеевский</b> Я рад тебя видеть на финальном спринте (Проект по А/B-тестированию).\n",
    "\n",
    "---\n",
    "\n",
    "Я буду красить комментарии цветом, пожалуйста, не удаляй их:\n",
    "\n",
    "<div class=\"alert alert-block alert-danger\">✍\n",
    "    \n",
    "\n",
    "__Комментарий от тимлида №1__\n",
    "\n",
    "Такой комментарий нужно исправить обязательно, он критически влияет на удачное выполнение проекта.\n",
    "</div>\n",
    "    \n",
    "---\n",
    "\n",
    "<div class=\"alert alert-block alert-warning\">📝\n",
    "    \n",
    "\n",
    "__Комментарий от тимлида №1__\n",
    "\n",
    "\n",
    "Такой комментарий является рекомендацией или советом. Можешь использовать их на своё усмотрение.\n",
    "</div>\n",
    "\n",
    "---\n",
    "\n",
    "<div class=\"alert alert-block alert-success\">✔️\n",
    "    \n",
    "\n",
    "__Комментарий от тимлида №1__\n",
    "\n",
    "Такой комментарий  говорит о том, что было сделано что-то качественное и правильное =)\n",
    "</div>\n",
    "    \n",
    "---\n",
    "    \n",
    "Предлагаю работать над проектом в диалоге: если у тебя возникают вопросы — пиши об этом в слаке, не стесняйся. Так же, мне будет легче отследить изменения, если ты выделишь свои комментарии:   \n",
    "    \n",
    "<div class=\"alert alert-info\"> <b>Комментарии студента:</b> Например, вот так.</div>\n",
    "    \n",
    "    \n",
    "---"
   ]
  },
  {
   "cell_type": "markdown",
   "id": "c78d9b9e",
   "metadata": {},
   "source": [
    "## Проведение АБ-теста"
   ]
  },
  {
   "cell_type": "markdown",
   "id": "a7b862f2",
   "metadata": {},
   "source": [
    "Цель исследования - оценить корректность проведения А/Б-теста и проанализировать его результаты.\n",
    "\n",
    "Для анализа используется датасет с действиями пользователя и несколько вспомогательных датасетов (список новых пользователей за определенный период, участники теста, календарь маркетинговых событий.\n",
    "\n",
    "**Техническое задание:**\n",
    "\n",
    "* Название теста: *recommender_system_test*;\n",
    "* Группы: А (контрольная), B (новая платёжная воронка);\n",
    "* Дата запуска: 2020-12-07;\n",
    "* Дата остановки набора новых пользователей: 2020-12-21;\n",
    "* Дата остановки: 2021-01-04;\n",
    "* Аудитория: 15% новых пользователей из региона EU;\n",
    "* Назначение теста: тестирование изменений, связанных с внедрением улучшенной рекомендательной системы;\n",
    "* Ожидаемое количество участников теста: 6000.\n",
    "* Ожидаемый эффект: за 14 дней с момента регистрации в системе пользователи покажут улучшение каждой метрики не менее, чем на 10%."
   ]
  },
  {
   "cell_type": "markdown",
   "id": "bb7ce996",
   "metadata": {},
   "source": [
    "<div class=\"alert alert-block alert-danger\">✍\n",
    "    \n",
    "\n",
    "__Комментарий от тимлида №1__\n",
    "\n",
    "Вступления нету\n",
    "</div>"
   ]
  },
  {
   "cell_type": "markdown",
   "id": "67c8a912",
   "metadata": {},
   "source": [
    "<div class=\"alert alert-info\"> <b>Комментарии студента:\n",
    "    </b> Добавила.</div>\n",
    "    "
   ]
  },
  {
   "cell_type": "markdown",
   "id": "8d66808d",
   "metadata": {},
   "source": []
  },
  {
   "cell_type": "markdown",
   "id": "745a4823",
   "metadata": {},
   "source": []
  },
  {
   "cell_type": "markdown",
   "id": "dc054a9c",
   "metadata": {},
   "source": [
    "### Загрузка и изучение данных"
   ]
  },
  {
   "cell_type": "code",
   "execution_count": 2,
   "id": "6b70e0d5",
   "metadata": {},
   "outputs": [],
   "source": [
    "import pandas as pd\n",
    "import numpy as np\n",
    "import math as mth\n",
    "from matplotlib import pyplot as plt\n",
    "\n",
    "import seaborn as sns\n",
    "\n",
    "\n",
    "import scipy.stats as stats\n",
    "from scipy import stats as st\n",
    "\n",
    "from plotly import graph_objects as go\n",
    "import plotly.io as pio\n",
    "import plotly.express as px\n",
    "\n",
    "\n",
    "import warnings\n",
    "warnings.filterwarnings(\"ignore\")"
   ]
  },
  {
   "cell_type": "markdown",
   "id": "9bbe4926",
   "metadata": {},
   "source": [
    "<div class=\"alert alert-block alert-success\">✔️\n",
    "    \n",
    "\n",
    "__Комментарий от тимлида №1__\n",
    "\n",
    "Хорошо, модули загружены\n",
    "</div>"
   ]
  },
  {
   "cell_type": "code",
   "execution_count": 3,
   "id": "0c76556b",
   "metadata": {},
   "outputs": [],
   "source": [
    "sns.set(rc={'figure.figsize':(15, 8)})\n",
    "pio.templates.default = \"plotly_white\""
   ]
  },
  {
   "cell_type": "code",
   "execution_count": 4,
   "id": "e3658f28",
   "metadata": {},
   "outputs": [],
   "source": [
    "try:\n",
    "    events = pd.read_csv('final_ab_events.csv')\n",
    "    users = pd.read_csv('final_ab_new_users.csv')\n",
    "    participants = pd.read_csv('final_ab_participants.csv')\n",
    "    marketing_events = pd.read_csv('ab_project_marketing_events.csv')\n",
    "except:\n",
    "    events = pd.read_csv('/datasets/final_ab_events.csv')\n",
    "    users = pd.read_csv('/datasets/final_ab_new_users.csv')\n",
    "    participants = pd.read_csv('/datasets/final_ab_participants.csv')\n",
    "    marketing_events = pd.read_csv('/datasets/ab_project_marketing_events.csv')"
   ]
  },
  {
   "cell_type": "markdown",
   "id": "1e255172",
   "metadata": {},
   "source": [
    "<div class=\"alert alert-block alert-success\">✔️\n",
    "    \n",
    "\n",
    "__Комментарий от тимлида №1__\n",
    "\n",
    "Здорово, что для подгрузки данных используешь конструкцию try-except, она поможет избежать потенциальных ошибок при загрузке данных, связанных, например, с некорректным указанием путей.\n",
    "\n",
    "Подробнее о конструкции по ссылке:\n",
    "\n",
    "https://pythonworld.ru/tipy-dannyx-v-python/isklyucheniya-v-python-konstrukciya-try-except-dlya-obrabotki-isklyuchenij.html\n",
    "\n",
    "Либо же можно использовать стандартную библиотеку os:\n",
    "\n",
    "https://pythonworld.ru/moduli/modul-os.html\n",
    "\n",
    "Несколько интересных статей кейсы использования конструкции:\n",
    "\n",
    "https://www.programiz.com/python-programming/exception-handling\n",
    "\n",
    "https://towardsdatascience.com/do-not-abuse-try-except-in-python-d9b8ee59e23b\n",
    "\n",
    "https://www.techbeamers.com/use-try-except-python/\n",
    "\n",
    "Как вариант в try можно указать корректные пути (в нашем случае глобальные) в except - некорректные (локальные). Можно также специфицровать тип ошибки, FileNotFoundError или задать кастомный тип ошибки (FilePathError, например)\n",
    "\n",
    "Она полезна, если ты работаешь локально, а потом подгружаешь проект на платформу. Конструкция позволит не падать коду и локально, и на сервере ЯП, так как если не сработает один блок с путями, сработает другой.\n",
    "\n",
    "Ну и вообще, в целом полезно про эту констуркцию знать, она универсальна и может быть использована в разных задачах.\n",
    "</div>"
   ]
  },
  {
   "cell_type": "code",
   "execution_count": 5,
   "id": "88e934ba",
   "metadata": {},
   "outputs": [
    {
     "data": {
      "text/html": [
       "<div>\n",
       "<style scoped>\n",
       "    .dataframe tbody tr th:only-of-type {\n",
       "        vertical-align: middle;\n",
       "    }\n",
       "\n",
       "    .dataframe tbody tr th {\n",
       "        vertical-align: top;\n",
       "    }\n",
       "\n",
       "    .dataframe thead th {\n",
       "        text-align: right;\n",
       "    }\n",
       "</style>\n",
       "<table border=\"1\" class=\"dataframe\">\n",
       "  <thead>\n",
       "    <tr style=\"text-align: right;\">\n",
       "      <th></th>\n",
       "      <th>user_id</th>\n",
       "      <th>event_dt</th>\n",
       "      <th>event_name</th>\n",
       "      <th>details</th>\n",
       "    </tr>\n",
       "  </thead>\n",
       "  <tbody>\n",
       "    <tr>\n",
       "      <th>0</th>\n",
       "      <td>E1BDDCE0DAFA2679</td>\n",
       "      <td>2020-12-07 20:22:03</td>\n",
       "      <td>purchase</td>\n",
       "      <td>99.99</td>\n",
       "    </tr>\n",
       "    <tr>\n",
       "      <th>1</th>\n",
       "      <td>7B6452F081F49504</td>\n",
       "      <td>2020-12-07 09:22:53</td>\n",
       "      <td>purchase</td>\n",
       "      <td>9.99</td>\n",
       "    </tr>\n",
       "    <tr>\n",
       "      <th>2</th>\n",
       "      <td>9CD9F34546DF254C</td>\n",
       "      <td>2020-12-07 12:59:29</td>\n",
       "      <td>purchase</td>\n",
       "      <td>4.99</td>\n",
       "    </tr>\n",
       "    <tr>\n",
       "      <th>3</th>\n",
       "      <td>96F27A054B191457</td>\n",
       "      <td>2020-12-07 04:02:40</td>\n",
       "      <td>purchase</td>\n",
       "      <td>4.99</td>\n",
       "    </tr>\n",
       "    <tr>\n",
       "      <th>4</th>\n",
       "      <td>1FD7660FDF94CA1F</td>\n",
       "      <td>2020-12-07 10:15:09</td>\n",
       "      <td>purchase</td>\n",
       "      <td>4.99</td>\n",
       "    </tr>\n",
       "  </tbody>\n",
       "</table>\n",
       "</div>"
      ],
      "text/plain": [
       "            user_id             event_dt event_name  details\n",
       "0  E1BDDCE0DAFA2679  2020-12-07 20:22:03   purchase    99.99\n",
       "1  7B6452F081F49504  2020-12-07 09:22:53   purchase     9.99\n",
       "2  9CD9F34546DF254C  2020-12-07 12:59:29   purchase     4.99\n",
       "3  96F27A054B191457  2020-12-07 04:02:40   purchase     4.99\n",
       "4  1FD7660FDF94CA1F  2020-12-07 10:15:09   purchase     4.99"
      ]
     },
     "metadata": {},
     "output_type": "display_data"
    },
    {
     "data": {
      "text/html": [
       "<div>\n",
       "<style scoped>\n",
       "    .dataframe tbody tr th:only-of-type {\n",
       "        vertical-align: middle;\n",
       "    }\n",
       "\n",
       "    .dataframe tbody tr th {\n",
       "        vertical-align: top;\n",
       "    }\n",
       "\n",
       "    .dataframe thead th {\n",
       "        text-align: right;\n",
       "    }\n",
       "</style>\n",
       "<table border=\"1\" class=\"dataframe\">\n",
       "  <thead>\n",
       "    <tr style=\"text-align: right;\">\n",
       "      <th></th>\n",
       "      <th>user_id</th>\n",
       "      <th>first_date</th>\n",
       "      <th>region</th>\n",
       "      <th>device</th>\n",
       "    </tr>\n",
       "  </thead>\n",
       "  <tbody>\n",
       "    <tr>\n",
       "      <th>0</th>\n",
       "      <td>D72A72121175D8BE</td>\n",
       "      <td>2020-12-07</td>\n",
       "      <td>EU</td>\n",
       "      <td>PC</td>\n",
       "    </tr>\n",
       "    <tr>\n",
       "      <th>1</th>\n",
       "      <td>F1C668619DFE6E65</td>\n",
       "      <td>2020-12-07</td>\n",
       "      <td>N.America</td>\n",
       "      <td>Android</td>\n",
       "    </tr>\n",
       "    <tr>\n",
       "      <th>2</th>\n",
       "      <td>2E1BF1D4C37EA01F</td>\n",
       "      <td>2020-12-07</td>\n",
       "      <td>EU</td>\n",
       "      <td>PC</td>\n",
       "    </tr>\n",
       "    <tr>\n",
       "      <th>3</th>\n",
       "      <td>50734A22C0C63768</td>\n",
       "      <td>2020-12-07</td>\n",
       "      <td>EU</td>\n",
       "      <td>iPhone</td>\n",
       "    </tr>\n",
       "    <tr>\n",
       "      <th>4</th>\n",
       "      <td>E1BDDCE0DAFA2679</td>\n",
       "      <td>2020-12-07</td>\n",
       "      <td>N.America</td>\n",
       "      <td>iPhone</td>\n",
       "    </tr>\n",
       "  </tbody>\n",
       "</table>\n",
       "</div>"
      ],
      "text/plain": [
       "            user_id  first_date     region   device\n",
       "0  D72A72121175D8BE  2020-12-07         EU       PC\n",
       "1  F1C668619DFE6E65  2020-12-07  N.America  Android\n",
       "2  2E1BF1D4C37EA01F  2020-12-07         EU       PC\n",
       "3  50734A22C0C63768  2020-12-07         EU   iPhone\n",
       "4  E1BDDCE0DAFA2679  2020-12-07  N.America   iPhone"
      ]
     },
     "metadata": {},
     "output_type": "display_data"
    },
    {
     "data": {
      "text/html": [
       "<div>\n",
       "<style scoped>\n",
       "    .dataframe tbody tr th:only-of-type {\n",
       "        vertical-align: middle;\n",
       "    }\n",
       "\n",
       "    .dataframe tbody tr th {\n",
       "        vertical-align: top;\n",
       "    }\n",
       "\n",
       "    .dataframe thead th {\n",
       "        text-align: right;\n",
       "    }\n",
       "</style>\n",
       "<table border=\"1\" class=\"dataframe\">\n",
       "  <thead>\n",
       "    <tr style=\"text-align: right;\">\n",
       "      <th></th>\n",
       "      <th>user_id</th>\n",
       "      <th>group</th>\n",
       "      <th>ab_test</th>\n",
       "    </tr>\n",
       "  </thead>\n",
       "  <tbody>\n",
       "    <tr>\n",
       "      <th>0</th>\n",
       "      <td>D1ABA3E2887B6A73</td>\n",
       "      <td>A</td>\n",
       "      <td>recommender_system_test</td>\n",
       "    </tr>\n",
       "    <tr>\n",
       "      <th>1</th>\n",
       "      <td>A7A3664BD6242119</td>\n",
       "      <td>A</td>\n",
       "      <td>recommender_system_test</td>\n",
       "    </tr>\n",
       "    <tr>\n",
       "      <th>2</th>\n",
       "      <td>DABC14FDDFADD29E</td>\n",
       "      <td>A</td>\n",
       "      <td>recommender_system_test</td>\n",
       "    </tr>\n",
       "    <tr>\n",
       "      <th>3</th>\n",
       "      <td>04988C5DF189632E</td>\n",
       "      <td>A</td>\n",
       "      <td>recommender_system_test</td>\n",
       "    </tr>\n",
       "    <tr>\n",
       "      <th>4</th>\n",
       "      <td>482F14783456D21B</td>\n",
       "      <td>B</td>\n",
       "      <td>recommender_system_test</td>\n",
       "    </tr>\n",
       "  </tbody>\n",
       "</table>\n",
       "</div>"
      ],
      "text/plain": [
       "            user_id group                  ab_test\n",
       "0  D1ABA3E2887B6A73     A  recommender_system_test\n",
       "1  A7A3664BD6242119     A  recommender_system_test\n",
       "2  DABC14FDDFADD29E     A  recommender_system_test\n",
       "3  04988C5DF189632E     A  recommender_system_test\n",
       "4  482F14783456D21B     B  recommender_system_test"
      ]
     },
     "metadata": {},
     "output_type": "display_data"
    },
    {
     "data": {
      "text/html": [
       "<div>\n",
       "<style scoped>\n",
       "    .dataframe tbody tr th:only-of-type {\n",
       "        vertical-align: middle;\n",
       "    }\n",
       "\n",
       "    .dataframe tbody tr th {\n",
       "        vertical-align: top;\n",
       "    }\n",
       "\n",
       "    .dataframe thead th {\n",
       "        text-align: right;\n",
       "    }\n",
       "</style>\n",
       "<table border=\"1\" class=\"dataframe\">\n",
       "  <thead>\n",
       "    <tr style=\"text-align: right;\">\n",
       "      <th></th>\n",
       "      <th>name</th>\n",
       "      <th>regions</th>\n",
       "      <th>start_dt</th>\n",
       "      <th>finish_dt</th>\n",
       "    </tr>\n",
       "  </thead>\n",
       "  <tbody>\n",
       "    <tr>\n",
       "      <th>0</th>\n",
       "      <td>Christmas&amp;New Year Promo</td>\n",
       "      <td>EU, N.America</td>\n",
       "      <td>2020-12-25</td>\n",
       "      <td>2021-01-03</td>\n",
       "    </tr>\n",
       "    <tr>\n",
       "      <th>1</th>\n",
       "      <td>St. Valentine's Day Giveaway</td>\n",
       "      <td>EU, CIS, APAC, N.America</td>\n",
       "      <td>2020-02-14</td>\n",
       "      <td>2020-02-16</td>\n",
       "    </tr>\n",
       "    <tr>\n",
       "      <th>2</th>\n",
       "      <td>St. Patric's Day Promo</td>\n",
       "      <td>EU, N.America</td>\n",
       "      <td>2020-03-17</td>\n",
       "      <td>2020-03-19</td>\n",
       "    </tr>\n",
       "    <tr>\n",
       "      <th>3</th>\n",
       "      <td>Easter Promo</td>\n",
       "      <td>EU, CIS, APAC, N.America</td>\n",
       "      <td>2020-04-12</td>\n",
       "      <td>2020-04-19</td>\n",
       "    </tr>\n",
       "    <tr>\n",
       "      <th>4</th>\n",
       "      <td>4th of July Promo</td>\n",
       "      <td>N.America</td>\n",
       "      <td>2020-07-04</td>\n",
       "      <td>2020-07-11</td>\n",
       "    </tr>\n",
       "  </tbody>\n",
       "</table>\n",
       "</div>"
      ],
      "text/plain": [
       "                           name                   regions    start_dt  \\\n",
       "0      Christmas&New Year Promo             EU, N.America  2020-12-25   \n",
       "1  St. Valentine's Day Giveaway  EU, CIS, APAC, N.America  2020-02-14   \n",
       "2        St. Patric's Day Promo             EU, N.America  2020-03-17   \n",
       "3                  Easter Promo  EU, CIS, APAC, N.America  2020-04-12   \n",
       "4             4th of July Promo                 N.America  2020-07-04   \n",
       "\n",
       "    finish_dt  \n",
       "0  2021-01-03  \n",
       "1  2020-02-16  \n",
       "2  2020-03-19  \n",
       "3  2020-04-19  \n",
       "4  2020-07-11  "
      ]
     },
     "metadata": {},
     "output_type": "display_data"
    }
   ],
   "source": [
    "display(events.head())\n",
    "display(users.head())\n",
    "display(participants.head())\n",
    "display(marketing_events.head())"
   ]
  },
  {
   "cell_type": "code",
   "execution_count": 6,
   "id": "3a1b818e",
   "metadata": {
    "scrolled": true
   },
   "outputs": [
    {
     "name": "stdout",
     "output_type": "stream",
     "text": [
      "<class 'pandas.core.frame.DataFrame'>\n",
      "RangeIndex: 440317 entries, 0 to 440316\n",
      "Data columns (total 4 columns):\n",
      " #   Column      Non-Null Count   Dtype  \n",
      "---  ------      --------------   -----  \n",
      " 0   user_id     440317 non-null  object \n",
      " 1   event_dt    440317 non-null  object \n",
      " 2   event_name  440317 non-null  object \n",
      " 3   details     62740 non-null   float64\n",
      "dtypes: float64(1), object(3)\n",
      "memory usage: 13.4+ MB\n"
     ]
    },
    {
     "data": {
      "text/plain": [
       "None"
      ]
     },
     "metadata": {},
     "output_type": "display_data"
    },
    {
     "name": "stdout",
     "output_type": "stream",
     "text": [
      "<class 'pandas.core.frame.DataFrame'>\n",
      "RangeIndex: 61733 entries, 0 to 61732\n",
      "Data columns (total 4 columns):\n",
      " #   Column      Non-Null Count  Dtype \n",
      "---  ------      --------------  ----- \n",
      " 0   user_id     61733 non-null  object\n",
      " 1   first_date  61733 non-null  object\n",
      " 2   region      61733 non-null  object\n",
      " 3   device      61733 non-null  object\n",
      "dtypes: object(4)\n",
      "memory usage: 1.9+ MB\n"
     ]
    },
    {
     "data": {
      "text/plain": [
       "None"
      ]
     },
     "metadata": {},
     "output_type": "display_data"
    },
    {
     "name": "stdout",
     "output_type": "stream",
     "text": [
      "<class 'pandas.core.frame.DataFrame'>\n",
      "RangeIndex: 18268 entries, 0 to 18267\n",
      "Data columns (total 3 columns):\n",
      " #   Column   Non-Null Count  Dtype \n",
      "---  ------   --------------  ----- \n",
      " 0   user_id  18268 non-null  object\n",
      " 1   group    18268 non-null  object\n",
      " 2   ab_test  18268 non-null  object\n",
      "dtypes: object(3)\n",
      "memory usage: 428.3+ KB\n"
     ]
    },
    {
     "data": {
      "text/plain": [
       "None"
      ]
     },
     "metadata": {},
     "output_type": "display_data"
    },
    {
     "name": "stdout",
     "output_type": "stream",
     "text": [
      "<class 'pandas.core.frame.DataFrame'>\n",
      "RangeIndex: 14 entries, 0 to 13\n",
      "Data columns (total 4 columns):\n",
      " #   Column     Non-Null Count  Dtype \n",
      "---  ------     --------------  ----- \n",
      " 0   name       14 non-null     object\n",
      " 1   regions    14 non-null     object\n",
      " 2   start_dt   14 non-null     object\n",
      " 3   finish_dt  14 non-null     object\n",
      "dtypes: object(4)\n",
      "memory usage: 576.0+ bytes\n"
     ]
    },
    {
     "data": {
      "text/plain": [
       "None"
      ]
     },
     "metadata": {},
     "output_type": "display_data"
    }
   ],
   "source": [
    "display(events.info())\n",
    "display(users.info())\n",
    "display(participants.info())\n",
    "display(marketing_events.info())"
   ]
  },
  {
   "cell_type": "markdown",
   "id": "38e9f97e",
   "metadata": {},
   "source": [
    "<div class=\"alert alert-block alert-success\">✔️\n",
    "    \n",
    "\n",
    "__Комментарий от тимлида №1__\n",
    "\n",
    "    \n",
    "Отлично! Первый взгляд на данные есть"
   ]
  },
  {
   "cell_type": "markdown",
   "id": "0ec28810",
   "metadata": {},
   "source": [
    "### Предобработка данных"
   ]
  },
  {
   "cell_type": "markdown",
   "id": "4e418eb2",
   "metadata": {},
   "source": [
    "#### Изменение типов данных"
   ]
  },
  {
   "cell_type": "code",
   "execution_count": 7,
   "id": "fc637f79",
   "metadata": {},
   "outputs": [],
   "source": [
    "events['event_dt'] = pd.to_datetime(events['event_dt'])\n",
    "\n",
    "users['first_date'] = pd.to_datetime(users['first_date'])\n",
    "\n",
    "marketing_events['start_dt'] = pd.to_datetime(marketing_events['start_dt'])\n",
    "marketing_events['finish_dt'] = pd.to_datetime(marketing_events['finish_dt'])"
   ]
  },
  {
   "cell_type": "markdown",
   "id": "1bf835ae",
   "metadata": {},
   "source": [
    "#### Поиск дубликатов"
   ]
  },
  {
   "cell_type": "code",
   "execution_count": 8,
   "id": "b54ec1a9",
   "metadata": {},
   "outputs": [
    {
     "name": "stdout",
     "output_type": "stream",
     "text": [
      "0\n",
      "0\n",
      "0\n",
      "0\n",
      "0\n"
     ]
    }
   ],
   "source": [
    "# Поиск явных дубликатов\n",
    "print(events.duplicated().sum())\n",
    "print(users.duplicated().sum())\n",
    "print(participants.duplicated().sum())\n",
    "print(marketing_events.duplicated().sum())\n",
    "print(users['user_id'].duplicated().sum())"
   ]
  },
  {
   "cell_type": "markdown",
   "id": "f9fd9754",
   "metadata": {},
   "source": [
    "#### Анализ пропущенных значений"
   ]
  },
  {
   "cell_type": "code",
   "execution_count": 9,
   "id": "f2010d34",
   "metadata": {},
   "outputs": [
    {
     "data": {
      "text/html": [
       "<style type=\"text/css\">\n",
       "#T_991f5_row0_col0, #T_991f5_row1_col0, #T_991f5_row2_col0 {\n",
       "  background-color: #3b4cc0;\n",
       "  color: #f1f1f1;\n",
       "}\n",
       "#T_991f5_row3_col0 {\n",
       "  background-color: #b40426;\n",
       "  color: #f1f1f1;\n",
       "}\n",
       "</style>\n",
       "<table id=\"T_991f5\">\n",
       "  <thead>\n",
       "    <tr>\n",
       "      <th class=\"blank level0\" >&nbsp;</th>\n",
       "      <th id=\"T_991f5_level0_col0\" class=\"col_heading level0 col0\" >0</th>\n",
       "    </tr>\n",
       "  </thead>\n",
       "  <tbody>\n",
       "    <tr>\n",
       "      <th id=\"T_991f5_level0_row0\" class=\"row_heading level0 row0\" >user_id</th>\n",
       "      <td id=\"T_991f5_row0_col0\" class=\"data row0 col0\" >0</td>\n",
       "    </tr>\n",
       "    <tr>\n",
       "      <th id=\"T_991f5_level0_row1\" class=\"row_heading level0 row1\" >event_dt</th>\n",
       "      <td id=\"T_991f5_row1_col0\" class=\"data row1 col0\" >0</td>\n",
       "    </tr>\n",
       "    <tr>\n",
       "      <th id=\"T_991f5_level0_row2\" class=\"row_heading level0 row2\" >event_name</th>\n",
       "      <td id=\"T_991f5_row2_col0\" class=\"data row2 col0\" >0</td>\n",
       "    </tr>\n",
       "    <tr>\n",
       "      <th id=\"T_991f5_level0_row3\" class=\"row_heading level0 row3\" >details</th>\n",
       "      <td id=\"T_991f5_row3_col0\" class=\"data row3 col0\" >377577</td>\n",
       "    </tr>\n",
       "  </tbody>\n",
       "</table>\n"
      ],
      "text/plain": [
       "<pandas.io.formats.style.Styler at 0x26298793280>"
      ]
     },
     "execution_count": 9,
     "metadata": {},
     "output_type": "execute_result"
    }
   ],
   "source": [
    "# выводим кол-во пропущенных значений\n",
    "pd.DataFrame(events.isna().sum()).style.background_gradient('coolwarm')"
   ]
  },
  {
   "cell_type": "code",
   "execution_count": 10,
   "id": "6bcdf7f0",
   "metadata": {},
   "outputs": [
    {
     "name": "stdout",
     "output_type": "stream",
     "text": [
      "purchase    62740\n",
      "Name: event_name, dtype: int64\n",
      "62740\n"
     ]
    }
   ],
   "source": [
    "print(events.query('details.notnull()')['event_name'].value_counts())\n",
    "print(events['details'].count())"
   ]
  },
  {
   "cell_type": "markdown",
   "id": "7e8ea7aa",
   "metadata": {},
   "source": [
    "Пропущенные значения только в столбце 'details' датафрейма events. Столбец заполнен только для события \"покупка\" и содержит в себе сумму покупки. Заполнять пропущенные значения не требуется"
   ]
  },
  {
   "cell_type": "markdown",
   "id": "804ceea9",
   "metadata": {},
   "source": [
    "<div class=\"alert alert-block alert-success\">✔️\n",
    "    \n",
    "\n",
    "__Комментарий от тимлида №1__\n",
    "\n",
    "\n",
    "Совет на будущее, смотри, не есть хорошо, когда налево и направо пытаться заполнить пропуски. В реальной работе - сейчас заменил на ноль, а через месяц забыл и среднее подсчитал. Плюс могут быть моменты, когда покупка бонусная или подарок, будет ноль стоить. В общем, если можно оставить пропуски пропусками - а тут это можно сделать, то лучше так и сделать, на результаты, даже если мы что-то захотим подсчитать - это не повлияет"
   ]
  },
  {
   "cell_type": "markdown",
   "id": "5e36308d",
   "metadata": {},
   "source": []
  },
  {
   "cell_type": "markdown",
   "id": "ffd9a377",
   "metadata": {},
   "source": [
    "<div class=\"alert alert-block alert-warning\">📝\n",
    "    \n",
    "\n",
    "__Комментарий от тимлида №1__\n",
    "\n",
    "Перед изучением распределения пользователей по группам нужно в начале изучить количество АВ тестов, а затем уже по каждому тесту посмотреть распределение. То, что у нас несколько тестов, можно было отметить выше. Но, вообще хорошая практика -  изучать категориальные данные и делать соответствующие выводы.\n",
    "</div>"
   ]
  },
  {
   "cell_type": "markdown",
   "id": "72e44f4f",
   "metadata": {},
   "source": [
    "<div class=\"alert alert-info\"> <b>Комментарии студента:\n",
    "    </b> Добавила ниже</div>\n",
    "    "
   ]
  },
  {
   "cell_type": "markdown",
   "id": "5c44d984",
   "metadata": {},
   "source": [
    "#### Анализ категориальных переменных"
   ]
  },
  {
   "cell_type": "code",
   "execution_count": 11,
   "id": "fb4c2d82",
   "metadata": {},
   "outputs": [
    {
     "data": {
      "text/plain": [
       "login           189552\n",
       "product_page    125563\n",
       "purchase         62740\n",
       "product_cart     62462\n",
       "Name: event_name, dtype: int64"
      ]
     },
     "execution_count": 11,
     "metadata": {},
     "output_type": "execute_result"
    }
   ],
   "source": [
    "events['event_name'].value_counts()"
   ]
  },
  {
   "cell_type": "code",
   "execution_count": 12,
   "id": "7b6c0780",
   "metadata": {},
   "outputs": [
    {
     "data": {
      "text/plain": [
       "EU           46270\n",
       "N.America     9155\n",
       "CIS           3155\n",
       "APAC          3153\n",
       "Name: region, dtype: int64"
      ]
     },
     "execution_count": 12,
     "metadata": {},
     "output_type": "execute_result"
    }
   ],
   "source": [
    "users['region'].value_counts()"
   ]
  },
  {
   "cell_type": "code",
   "execution_count": 13,
   "id": "b8a92f41",
   "metadata": {},
   "outputs": [
    {
     "data": {
      "text/plain": [
       "Android    27520\n",
       "PC         15599\n",
       "iPhone     12530\n",
       "Mac         6084\n",
       "Name: device, dtype: int64"
      ]
     },
     "execution_count": 13,
     "metadata": {},
     "output_type": "execute_result"
    }
   ],
   "source": [
    "users['device'].value_counts()"
   ]
  },
  {
   "cell_type": "code",
   "execution_count": 14,
   "id": "d5cae77d",
   "metadata": {},
   "outputs": [
    {
     "data": {
      "text/plain": [
       "interface_eu_test          11567\n",
       "recommender_system_test     6701\n",
       "Name: ab_test, dtype: int64"
      ]
     },
     "execution_count": 14,
     "metadata": {},
     "output_type": "execute_result"
    }
   ],
   "source": [
    "participants['ab_test'].value_counts()"
   ]
  },
  {
   "cell_type": "markdown",
   "id": "c343f77e",
   "metadata": {},
   "source": [
    "Всего 4 события. Воронку определяем как login --> product_page --> product_cart --> purchase.\n",
    "\n",
    "Пользователи находятся в 4-х регионах, большая часть - из Европы. Для захлда на сайт используют 4 устройства, самое популярное - Android\n",
    "\n",
    "Также в датасете содержится информация об участниках двух тестов. recommender_system_test - наш тест, результаты которого требуется проанализировать.  interface_eu_test - конкурирующий тест."
   ]
  },
  {
   "cell_type": "markdown",
   "id": "55a9df02",
   "metadata": {},
   "source": [
    "#### Проверка требований технического задания"
   ]
  },
  {
   "cell_type": "markdown",
   "id": "33387598",
   "metadata": {},
   "source": [
    "Приведем пункты технического задания, на соответствие которых необходима проверка:\n",
    "\n",
    "* Группы: А (контрольная), B (новая платёжная воронка);\n",
    "* Дата запуска: 2020-12-07;\n",
    "* Дата остановки набора новых пользователей: 2020-12-21;\n",
    "* Дата остановки: 2021-01-04;\n",
    "* Аудитория: 15% новых пользователей из региона EU;\n",
    "* Ожидаемое количество участников теста: 6000;\n",
    "* Ожидаемый эффект: за 14 дней с момента регистрации в системе пользователи покажут улучшение каждой метрики не менее, чем на 10%."
   ]
  },
  {
   "cell_type": "markdown",
   "id": "06bc7d56",
   "metadata": {},
   "source": [
    "1. Проверим, что в тесте recommender_system_test нет пользователей, которые попали одновременно в 2 группы."
   ]
  },
  {
   "cell_type": "code",
   "execution_count": 15,
   "id": "f730a11b",
   "metadata": {},
   "outputs": [
    {
     "name": "stdout",
     "output_type": "stream",
     "text": [
      "Всего участников теста: 6701\n"
     ]
    },
    {
     "data": {
      "text/html": [
       "<div>\n",
       "<style scoped>\n",
       "    .dataframe tbody tr th:only-of-type {\n",
       "        vertical-align: middle;\n",
       "    }\n",
       "\n",
       "    .dataframe tbody tr th {\n",
       "        vertical-align: top;\n",
       "    }\n",
       "\n",
       "    .dataframe thead th {\n",
       "        text-align: right;\n",
       "    }\n",
       "</style>\n",
       "<table border=\"1\" class=\"dataframe\">\n",
       "  <thead>\n",
       "    <tr style=\"text-align: right;\">\n",
       "      <th>group</th>\n",
       "      <th>user_id</th>\n",
       "      <th>A</th>\n",
       "      <th>B</th>\n",
       "    </tr>\n",
       "  </thead>\n",
       "  <tbody>\n",
       "  </tbody>\n",
       "</table>\n",
       "</div>"
      ],
      "text/plain": [
       "Empty DataFrame\n",
       "Columns: [user_id, A, B]\n",
       "Index: []"
      ]
     },
     "execution_count": 15,
     "metadata": {},
     "output_type": "execute_result"
    }
   ],
   "source": [
    "# Фильтруем данные по нужному тесту\n",
    "test_check = participants.query('ab_test == \"recommender_system_test\"')\n",
    "\n",
    "# Преобразуем таблицу, в которой будет видно, сколько раз пользователь появлялся в каждой группе\n",
    "test_check = test_check.pivot_table(index='user_id', columns='group', values='ab_test', aggfunc='count').reset_index()\n",
    "\n",
    "# Считаем число пользователей в тесте\n",
    "print('Всего участников теста:', test_check['user_id'].nunique())\n",
    "\n",
    "# Фильтруем по пользователям, которые находились в обеих группах\n",
    "test_check.query('A >=1 & B >=1')"
   ]
  },
  {
   "cell_type": "markdown",
   "id": "e828314c",
   "metadata": {},
   "source": [
    "В датасете participants информация о 6 701 участнике, пересечения между группами А и Б не обнаружено"
   ]
  },
  {
   "cell_type": "markdown",
   "id": "f8189d08",
   "metadata": {},
   "source": [
    "2. По условию набор пользователей происходил с 7 по 21 декабря 2020. Проверим, что все пользователи были набраны в этот промежуток"
   ]
  },
  {
   "cell_type": "code",
   "execution_count": 16,
   "id": "038ce1c7",
   "metadata": {},
   "outputs": [
    {
     "name": "stdout",
     "output_type": "stream",
     "text": [
      "Минимальное первое действие пользователя: 2020-12-07 00:00:00\n",
      "максимальное первое действие пользователя 2020-12-21 00:00:00\n"
     ]
    }
   ],
   "source": [
    "test_check = participants.query('ab_test == \"recommender_system_test\"').merge(users, on='user_id')\n",
    "\n",
    "print('Минимальное первое действие пользователя:', test_check['first_date'].min())\n",
    "print('максимальное первое действие пользователя', test_check['first_date'].max())"
   ]
  },
  {
   "cell_type": "markdown",
   "id": "2444d1f9",
   "metadata": {},
   "source": [
    "Условие выполняется."
   ]
  },
  {
   "cell_type": "markdown",
   "id": "ea6fb75f",
   "metadata": {},
   "source": [
    "<div class=\"alert alert-block alert-danger\">✍\n",
    "    \n",
    "\n",
    "__Комментарий от тимлида №1__\n",
    "\n",
    "Выше ты смотришь на все логи, они могут хоть за 10 лет быть. Проверять на ТЗ мы должны только данные, которые относятся к нашему тесту.. В данном случае, у тебя получается, что набор новых пользователей был осуществлён 23 числа и мы можем грешить на инженеров. Но давай посмотрим именно дату остановки набора именно нашего теста? Для этого объединим таблицы participants с нужным тестом и new_users. И посмотрим на окончание теста? Соответствует ли оно заданию?\n",
    "</div>"
   ]
  },
  {
   "cell_type": "markdown",
   "id": "3a1223e8",
   "metadata": {},
   "source": [
    "<div class=\"alert alert-info\"> <b>Комментарии студента:\n",
    "    </b> Действительно, условие теперь выполняется. Спасибо, в дальнейшем буду внимательнее</div>\n",
    "    "
   ]
  },
  {
   "cell_type": "markdown",
   "id": "0a751994",
   "metadata": {},
   "source": [
    "3. Следующее условие - Аудитория: 15% новых пользователей из региона EU;\n",
    "\n",
    "Получим число пользователей из EU, участвующих в тесте"
   ]
  },
  {
   "cell_type": "code",
   "execution_count": 17,
   "id": "66853f97",
   "metadata": {},
   "outputs": [
    {
     "data": {
      "text/html": [
       "<div>\n",
       "<style scoped>\n",
       "    .dataframe tbody tr th:only-of-type {\n",
       "        vertical-align: middle;\n",
       "    }\n",
       "\n",
       "    .dataframe tbody tr th {\n",
       "        vertical-align: top;\n",
       "    }\n",
       "\n",
       "    .dataframe thead th {\n",
       "        text-align: right;\n",
       "    }\n",
       "</style>\n",
       "<table border=\"1\" class=\"dataframe\">\n",
       "  <thead>\n",
       "    <tr style=\"text-align: right;\">\n",
       "      <th></th>\n",
       "      <th>user_id</th>\n",
       "    </tr>\n",
       "    <tr>\n",
       "      <th>region</th>\n",
       "      <th></th>\n",
       "    </tr>\n",
       "  </thead>\n",
       "  <tbody>\n",
       "    <tr>\n",
       "      <th>APAC</th>\n",
       "      <td>72</td>\n",
       "    </tr>\n",
       "    <tr>\n",
       "      <th>CIS</th>\n",
       "      <td>55</td>\n",
       "    </tr>\n",
       "    <tr>\n",
       "      <th>EU</th>\n",
       "      <td>6351</td>\n",
       "    </tr>\n",
       "    <tr>\n",
       "      <th>N.America</th>\n",
       "      <td>223</td>\n",
       "    </tr>\n",
       "  </tbody>\n",
       "</table>\n",
       "</div>"
      ],
      "text/plain": [
       "           user_id\n",
       "region            \n",
       "APAC            72\n",
       "CIS             55\n",
       "EU            6351\n",
       "N.America      223"
      ]
     },
     "execution_count": 17,
     "metadata": {},
     "output_type": "execute_result"
    }
   ],
   "source": [
    "# Фильтрем только необходимый тест\n",
    "eu_in_test = participants.query('ab_test == \"recommender_system_test\"')\n",
    "\n",
    "# Присоединяем датасет users, чтобы получило информацию о регионах\n",
    "eu_in_test = eu_in_test.merge(users)\n",
    "\n",
    "\n",
    "eu_in_test = eu_in_test.groupby('region').agg({'user_id': 'nunique'})\n",
    "\n",
    "eu_in_test"
   ]
  },
  {
   "cell_type": "markdown",
   "id": "72603178",
   "metadata": {},
   "source": [
    "Найдем число пользователей из EU среди всех новых пользователей"
   ]
  },
  {
   "cell_type": "code",
   "execution_count": 18,
   "id": "af94117a",
   "metadata": {},
   "outputs": [
    {
     "data": {
      "text/html": [
       "<div>\n",
       "<style scoped>\n",
       "    .dataframe tbody tr th:only-of-type {\n",
       "        vertical-align: middle;\n",
       "    }\n",
       "\n",
       "    .dataframe tbody tr th {\n",
       "        vertical-align: top;\n",
       "    }\n",
       "\n",
       "    .dataframe thead th {\n",
       "        text-align: right;\n",
       "    }\n",
       "</style>\n",
       "<table border=\"1\" class=\"dataframe\">\n",
       "  <thead>\n",
       "    <tr style=\"text-align: right;\">\n",
       "      <th></th>\n",
       "      <th>user_id</th>\n",
       "    </tr>\n",
       "    <tr>\n",
       "      <th>region</th>\n",
       "      <th></th>\n",
       "    </tr>\n",
       "  </thead>\n",
       "  <tbody>\n",
       "    <tr>\n",
       "      <th>APAC</th>\n",
       "      <td>3153</td>\n",
       "    </tr>\n",
       "    <tr>\n",
       "      <th>CIS</th>\n",
       "      <td>3155</td>\n",
       "    </tr>\n",
       "    <tr>\n",
       "      <th>EU</th>\n",
       "      <td>46270</td>\n",
       "    </tr>\n",
       "    <tr>\n",
       "      <th>N.America</th>\n",
       "      <td>9155</td>\n",
       "    </tr>\n",
       "  </tbody>\n",
       "</table>\n",
       "</div>"
      ],
      "text/plain": [
       "           user_id\n",
       "region            \n",
       "APAC          3153\n",
       "CIS           3155\n",
       "EU           46270\n",
       "N.America     9155"
      ]
     },
     "execution_count": 18,
     "metadata": {},
     "output_type": "execute_result"
    }
   ],
   "source": [
    "eu_in_users = users.groupby('region').agg({'user_id': 'nunique'})\n",
    "\n",
    "eu_in_users"
   ]
  },
  {
   "cell_type": "code",
   "execution_count": 19,
   "id": "10d3f9eb",
   "metadata": {
    "scrolled": true
   },
   "outputs": [
    {
     "name": "stdout",
     "output_type": "stream",
     "text": [
      "Доля EU пользователей в тесте от числа новых EU пользователей 0.13725956343202939\n"
     ]
    }
   ],
   "source": [
    "print('Доля EU пользователей в тесте от числа новых EU пользователей',\\\n",
    "      eu_in_test['user_id']['EU']/eu_in_users['user_id']['EU'])"
   ]
  },
  {
   "cell_type": "markdown",
   "id": "3f58dab6",
   "metadata": {},
   "source": [
    "<div class=\"alert alert-block alert-success\">✔️\n",
    "    \n",
    "\n",
    "__Комментарий от тимлида №1__\n",
    "\n",
    "Ты верно посчитала этот пункт\n",
    "</div>"
   ]
  },
  {
   "cell_type": "markdown",
   "id": "0b3ad6ba",
   "metadata": {},
   "source": [
    "<div class=\"alert alert-info\"> <b>Комментарии студента:\n",
    "    </b> Так как чуть выше я изменила расчеты и не удаляла из датасета с пользователями юзеров после 21 декабря, расчет немного изменился.</div>\n",
    "    "
   ]
  },
  {
   "cell_type": "markdown",
   "id": "9fa8a6e7",
   "metadata": {},
   "source": [
    "Условие не выполняется, но рассчитанный результат близок к требуемому значению"
   ]
  },
  {
   "cell_type": "markdown",
   "id": "36b73353",
   "metadata": {},
   "source": [
    "4. Проверим сроки выполнения теста"
   ]
  },
  {
   "cell_type": "code",
   "execution_count": 20,
   "id": "23a5f3ec",
   "metadata": {},
   "outputs": [
    {
     "name": "stdout",
     "output_type": "stream",
     "text": [
      "Самое раннее событие: 2020-12-07 00:00:33\n",
      "Последнее событие 2020-12-30 23:36:33\n"
     ]
    }
   ],
   "source": [
    "print('Самое раннее событие:', events['event_dt'].min())\n",
    "print('Последнее событие', events['event_dt'].max())"
   ]
  },
  {
   "cell_type": "markdown",
   "id": "6b4bfdfc",
   "metadata": {},
   "source": [
    "По условиям, тест проходил с 7 декабря 2020 по 4 января 2021, однако в датасете events последнее событие - 30 декабря 2020. Это говорит о том, что тест был завершен раньше, либо выгрузили не все данные."
   ]
  },
  {
   "cell_type": "markdown",
   "id": "1e82a0f9",
   "metadata": {},
   "source": [
    "<div class=\"alert alert-block alert-success\">✔️\n",
    "    \n",
    "\n",
    "__Комментарий от тимлида №1__\n",
    "\n",
    "Да, тест остановлен на 5 дней раньше\n",
    "</div>"
   ]
  },
  {
   "cell_type": "markdown",
   "id": "bc30bf6c",
   "metadata": {},
   "source": [
    "5. Проверим количество участников в тесте"
   ]
  },
  {
   "cell_type": "code",
   "execution_count": 21,
   "id": "4a1fac7f",
   "metadata": {},
   "outputs": [
    {
     "data": {
      "text/html": [
       "<div>\n",
       "<style scoped>\n",
       "    .dataframe tbody tr th:only-of-type {\n",
       "        vertical-align: middle;\n",
       "    }\n",
       "\n",
       "    .dataframe tbody tr th {\n",
       "        vertical-align: top;\n",
       "    }\n",
       "\n",
       "    .dataframe thead th {\n",
       "        text-align: right;\n",
       "    }\n",
       "</style>\n",
       "<table border=\"1\" class=\"dataframe\">\n",
       "  <thead>\n",
       "    <tr style=\"text-align: right;\">\n",
       "      <th></th>\n",
       "      <th>ab_test</th>\n",
       "      <th>group</th>\n",
       "      <th>user_id</th>\n",
       "      <th>total</th>\n",
       "    </tr>\n",
       "  </thead>\n",
       "  <tbody>\n",
       "    <tr>\n",
       "      <th>0</th>\n",
       "      <td>interface_eu_test</td>\n",
       "      <td>A</td>\n",
       "      <td>5831</td>\n",
       "      <td>11567</td>\n",
       "    </tr>\n",
       "    <tr>\n",
       "      <th>1</th>\n",
       "      <td>interface_eu_test</td>\n",
       "      <td>B</td>\n",
       "      <td>5736</td>\n",
       "      <td>11567</td>\n",
       "    </tr>\n",
       "    <tr>\n",
       "      <th>2</th>\n",
       "      <td>recommender_system_test</td>\n",
       "      <td>A</td>\n",
       "      <td>3824</td>\n",
       "      <td>6701</td>\n",
       "    </tr>\n",
       "    <tr>\n",
       "      <th>3</th>\n",
       "      <td>recommender_system_test</td>\n",
       "      <td>B</td>\n",
       "      <td>2877</td>\n",
       "      <td>6701</td>\n",
       "    </tr>\n",
       "  </tbody>\n",
       "</table>\n",
       "</div>"
      ],
      "text/plain": [
       "                   ab_test group  user_id  total\n",
       "0        interface_eu_test     A     5831  11567\n",
       "1        interface_eu_test     B     5736  11567\n",
       "2  recommender_system_test     A     3824   6701\n",
       "3  recommender_system_test     B     2877   6701"
      ]
     },
     "execution_count": 21,
     "metadata": {},
     "output_type": "execute_result"
    }
   ],
   "source": [
    "data = participants.groupby(['ab_test', 'group'], as_index=False).agg({'user_id': 'nunique'})\n",
    "data['total'] = data.groupby('ab_test')['user_id'].transform('sum')\n",
    "\n",
    "data"
   ]
  },
  {
   "cell_type": "markdown",
   "id": "12f14993",
   "metadata": {},
   "source": [
    "В тесте recommender_system_test 6701 участник, немного больше, чем по условию (6000)"
   ]
  },
  {
   "cell_type": "markdown",
   "id": "da61e110",
   "metadata": {},
   "source": [
    "#### Проверка на пересечение теста с другими активностями"
   ]
  },
  {
   "cell_type": "code",
   "execution_count": 22,
   "id": "9b6662d3",
   "metadata": {},
   "outputs": [
    {
     "data": {
      "text/html": [
       "<div>\n",
       "<style scoped>\n",
       "    .dataframe tbody tr th:only-of-type {\n",
       "        vertical-align: middle;\n",
       "    }\n",
       "\n",
       "    .dataframe tbody tr th {\n",
       "        vertical-align: top;\n",
       "    }\n",
       "\n",
       "    .dataframe thead th {\n",
       "        text-align: right;\n",
       "    }\n",
       "</style>\n",
       "<table border=\"1\" class=\"dataframe\">\n",
       "  <thead>\n",
       "    <tr style=\"text-align: right;\">\n",
       "      <th></th>\n",
       "      <th>name</th>\n",
       "      <th>regions</th>\n",
       "      <th>start_dt</th>\n",
       "      <th>finish_dt</th>\n",
       "    </tr>\n",
       "  </thead>\n",
       "  <tbody>\n",
       "    <tr>\n",
       "      <th>0</th>\n",
       "      <td>Christmas&amp;New Year Promo</td>\n",
       "      <td>EU, N.America</td>\n",
       "      <td>2020-12-25</td>\n",
       "      <td>2021-01-03</td>\n",
       "    </tr>\n",
       "    <tr>\n",
       "      <th>1</th>\n",
       "      <td>St. Valentine's Day Giveaway</td>\n",
       "      <td>EU, CIS, APAC, N.America</td>\n",
       "      <td>2020-02-14</td>\n",
       "      <td>2020-02-16</td>\n",
       "    </tr>\n",
       "    <tr>\n",
       "      <th>2</th>\n",
       "      <td>St. Patric's Day Promo</td>\n",
       "      <td>EU, N.America</td>\n",
       "      <td>2020-03-17</td>\n",
       "      <td>2020-03-19</td>\n",
       "    </tr>\n",
       "    <tr>\n",
       "      <th>3</th>\n",
       "      <td>Easter Promo</td>\n",
       "      <td>EU, CIS, APAC, N.America</td>\n",
       "      <td>2020-04-12</td>\n",
       "      <td>2020-04-19</td>\n",
       "    </tr>\n",
       "    <tr>\n",
       "      <th>4</th>\n",
       "      <td>4th of July Promo</td>\n",
       "      <td>N.America</td>\n",
       "      <td>2020-07-04</td>\n",
       "      <td>2020-07-11</td>\n",
       "    </tr>\n",
       "    <tr>\n",
       "      <th>5</th>\n",
       "      <td>Black Friday Ads Campaign</td>\n",
       "      <td>EU, CIS, APAC, N.America</td>\n",
       "      <td>2020-11-26</td>\n",
       "      <td>2020-12-01</td>\n",
       "    </tr>\n",
       "    <tr>\n",
       "      <th>6</th>\n",
       "      <td>Chinese New Year Promo</td>\n",
       "      <td>APAC</td>\n",
       "      <td>2020-01-25</td>\n",
       "      <td>2020-02-07</td>\n",
       "    </tr>\n",
       "    <tr>\n",
       "      <th>7</th>\n",
       "      <td>Labor day (May 1st) Ads Campaign</td>\n",
       "      <td>EU, CIS, APAC</td>\n",
       "      <td>2020-05-01</td>\n",
       "      <td>2020-05-03</td>\n",
       "    </tr>\n",
       "    <tr>\n",
       "      <th>8</th>\n",
       "      <td>International Women's Day Promo</td>\n",
       "      <td>EU, CIS, APAC</td>\n",
       "      <td>2020-03-08</td>\n",
       "      <td>2020-03-10</td>\n",
       "    </tr>\n",
       "    <tr>\n",
       "      <th>9</th>\n",
       "      <td>Victory Day CIS (May 9th) Event</td>\n",
       "      <td>CIS</td>\n",
       "      <td>2020-05-09</td>\n",
       "      <td>2020-05-11</td>\n",
       "    </tr>\n",
       "    <tr>\n",
       "      <th>10</th>\n",
       "      <td>CIS New Year Gift Lottery</td>\n",
       "      <td>CIS</td>\n",
       "      <td>2020-12-30</td>\n",
       "      <td>2021-01-07</td>\n",
       "    </tr>\n",
       "    <tr>\n",
       "      <th>11</th>\n",
       "      <td>Dragon Boat Festival Giveaway</td>\n",
       "      <td>APAC</td>\n",
       "      <td>2020-06-25</td>\n",
       "      <td>2020-07-01</td>\n",
       "    </tr>\n",
       "    <tr>\n",
       "      <th>12</th>\n",
       "      <td>Single's Day Gift Promo</td>\n",
       "      <td>APAC</td>\n",
       "      <td>2020-11-11</td>\n",
       "      <td>2020-11-12</td>\n",
       "    </tr>\n",
       "    <tr>\n",
       "      <th>13</th>\n",
       "      <td>Chinese Moon Festival</td>\n",
       "      <td>APAC</td>\n",
       "      <td>2020-10-01</td>\n",
       "      <td>2020-10-07</td>\n",
       "    </tr>\n",
       "  </tbody>\n",
       "</table>\n",
       "</div>"
      ],
      "text/plain": [
       "                                name                   regions   start_dt  \\\n",
       "0           Christmas&New Year Promo             EU, N.America 2020-12-25   \n",
       "1       St. Valentine's Day Giveaway  EU, CIS, APAC, N.America 2020-02-14   \n",
       "2             St. Patric's Day Promo             EU, N.America 2020-03-17   \n",
       "3                       Easter Promo  EU, CIS, APAC, N.America 2020-04-12   \n",
       "4                  4th of July Promo                 N.America 2020-07-04   \n",
       "5          Black Friday Ads Campaign  EU, CIS, APAC, N.America 2020-11-26   \n",
       "6             Chinese New Year Promo                      APAC 2020-01-25   \n",
       "7   Labor day (May 1st) Ads Campaign             EU, CIS, APAC 2020-05-01   \n",
       "8    International Women's Day Promo             EU, CIS, APAC 2020-03-08   \n",
       "9    Victory Day CIS (May 9th) Event                       CIS 2020-05-09   \n",
       "10         CIS New Year Gift Lottery                       CIS 2020-12-30   \n",
       "11     Dragon Boat Festival Giveaway                      APAC 2020-06-25   \n",
       "12           Single's Day Gift Promo                      APAC 2020-11-11   \n",
       "13             Chinese Moon Festival                      APAC 2020-10-01   \n",
       "\n",
       "    finish_dt  \n",
       "0  2021-01-03  \n",
       "1  2020-02-16  \n",
       "2  2020-03-19  \n",
       "3  2020-04-19  \n",
       "4  2020-07-11  \n",
       "5  2020-12-01  \n",
       "6  2020-02-07  \n",
       "7  2020-05-03  \n",
       "8  2020-03-10  \n",
       "9  2020-05-11  \n",
       "10 2021-01-07  \n",
       "11 2020-07-01  \n",
       "12 2020-11-12  \n",
       "13 2020-10-07  "
      ]
     },
     "execution_count": 22,
     "metadata": {},
     "output_type": "execute_result"
    }
   ],
   "source": [
    "marketing_events"
   ]
  },
  {
   "cell_type": "markdown",
   "id": "94b6164d",
   "metadata": {},
   "source": [
    "Отфильтруем датасет по датам проведения теста, чтобы понять, пересекается ли аб-тест с какими-то событиями"
   ]
  },
  {
   "cell_type": "code",
   "execution_count": 23,
   "id": "e0a4c8e7",
   "metadata": {},
   "outputs": [
    {
     "data": {
      "text/html": [
       "<div>\n",
       "<style scoped>\n",
       "    .dataframe tbody tr th:only-of-type {\n",
       "        vertical-align: middle;\n",
       "    }\n",
       "\n",
       "    .dataframe tbody tr th {\n",
       "        vertical-align: top;\n",
       "    }\n",
       "\n",
       "    .dataframe thead th {\n",
       "        text-align: right;\n",
       "    }\n",
       "</style>\n",
       "<table border=\"1\" class=\"dataframe\">\n",
       "  <thead>\n",
       "    <tr style=\"text-align: right;\">\n",
       "      <th></th>\n",
       "      <th>name</th>\n",
       "      <th>regions</th>\n",
       "      <th>start_dt</th>\n",
       "      <th>finish_dt</th>\n",
       "    </tr>\n",
       "  </thead>\n",
       "  <tbody>\n",
       "    <tr>\n",
       "      <th>0</th>\n",
       "      <td>Christmas&amp;New Year Promo</td>\n",
       "      <td>EU, N.America</td>\n",
       "      <td>2020-12-25</td>\n",
       "      <td>2021-01-03</td>\n",
       "    </tr>\n",
       "  </tbody>\n",
       "</table>\n",
       "</div>"
      ],
      "text/plain": [
       "                       name        regions   start_dt  finish_dt\n",
       "0  Christmas&New Year Promo  EU, N.America 2020-12-25 2021-01-03"
      ]
     },
     "execution_count": 23,
     "metadata": {},
     "output_type": "execute_result"
    }
   ],
   "source": [
    "# '2020-12-21 00:00:00']\n",
    "\n",
    "marketing_events.query('start_dt >= \"2020-12-07 00:00:00\" & finish_dt <= \"2021-01-04 00:00:00\"')"
   ]
  },
  {
   "cell_type": "markdown",
   "id": "c4a3c55c",
   "metadata": {},
   "source": [
    "Есть пересечение с одним ивентом. После составления профиля пользователей проверим как события влияют на действия пользователей. Если критично - удалим события в эти даты"
   ]
  },
  {
   "cell_type": "markdown",
   "id": "4ff51a7e",
   "metadata": {},
   "source": [
    "<div class=\"alert alert-block alert-success\">✔️\n",
    "    \n",
    "\n",
    "__Комментарий от тимлида №1__\n",
    "\n",
    "События, праздники и тп - влияют на две группы одинаково. Это просто изменение качества пользователей, но относительную конверсию группы В к группе А - не будет иметь воздействие. Но это нужно учитывать при изучении абсолютных данных.\n",
    "</div>"
   ]
  },
  {
   "cell_type": "markdown",
   "id": "27f72933",
   "metadata": {},
   "source": [
    "6. В ТЗ содержится пункт - ожидаемый эффект: за 14 дней с момента регистрации в системе пользователи покажут улучшение каждой метрики не менее, чем на 10%. Это значит, что нам требуется рассчитать лайфтайм событий и отбросить события старше 14 дней."
   ]
  },
  {
   "cell_type": "code",
   "execution_count": 24,
   "id": "51d38356",
   "metadata": {},
   "outputs": [
    {
     "data": {
      "text/html": [
       "<div>\n",
       "<style scoped>\n",
       "    .dataframe tbody tr th:only-of-type {\n",
       "        vertical-align: middle;\n",
       "    }\n",
       "\n",
       "    .dataframe tbody tr th {\n",
       "        vertical-align: top;\n",
       "    }\n",
       "\n",
       "    .dataframe thead th {\n",
       "        text-align: right;\n",
       "    }\n",
       "</style>\n",
       "<table border=\"1\" class=\"dataframe\">\n",
       "  <thead>\n",
       "    <tr style=\"text-align: right;\">\n",
       "      <th></th>\n",
       "      <th>user_id</th>\n",
       "      <th>event_dt</th>\n",
       "      <th>event_name</th>\n",
       "      <th>details</th>\n",
       "      <th>first_date</th>\n",
       "      <th>region</th>\n",
       "      <th>device</th>\n",
       "    </tr>\n",
       "  </thead>\n",
       "  <tbody>\n",
       "    <tr>\n",
       "      <th>0</th>\n",
       "      <td>E1BDDCE0DAFA2679</td>\n",
       "      <td>2020-12-07 20:22:03</td>\n",
       "      <td>purchase</td>\n",
       "      <td>99.99</td>\n",
       "      <td>2020-12-07</td>\n",
       "      <td>N.America</td>\n",
       "      <td>iPhone</td>\n",
       "    </tr>\n",
       "    <tr>\n",
       "      <th>1</th>\n",
       "      <td>E1BDDCE0DAFA2679</td>\n",
       "      <td>2020-12-09 06:21:35</td>\n",
       "      <td>purchase</td>\n",
       "      <td>9.99</td>\n",
       "      <td>2020-12-07</td>\n",
       "      <td>N.America</td>\n",
       "      <td>iPhone</td>\n",
       "    </tr>\n",
       "    <tr>\n",
       "      <th>3</th>\n",
       "      <td>E1BDDCE0DAFA2679</td>\n",
       "      <td>2020-12-07 20:22:03</td>\n",
       "      <td>login</td>\n",
       "      <td>NaN</td>\n",
       "      <td>2020-12-07</td>\n",
       "      <td>N.America</td>\n",
       "      <td>iPhone</td>\n",
       "    </tr>\n",
       "    <tr>\n",
       "      <th>4</th>\n",
       "      <td>E1BDDCE0DAFA2679</td>\n",
       "      <td>2020-12-09 06:21:35</td>\n",
       "      <td>login</td>\n",
       "      <td>NaN</td>\n",
       "      <td>2020-12-07</td>\n",
       "      <td>N.America</td>\n",
       "      <td>iPhone</td>\n",
       "    </tr>\n",
       "    <tr>\n",
       "      <th>6</th>\n",
       "      <td>7B6452F081F49504</td>\n",
       "      <td>2020-12-07 09:22:53</td>\n",
       "      <td>purchase</td>\n",
       "      <td>9.99</td>\n",
       "      <td>2020-12-07</td>\n",
       "      <td>EU</td>\n",
       "      <td>iPhone</td>\n",
       "    </tr>\n",
       "    <tr>\n",
       "      <th>...</th>\n",
       "      <td>...</td>\n",
       "      <td>...</td>\n",
       "      <td>...</td>\n",
       "      <td>...</td>\n",
       "      <td>...</td>\n",
       "      <td>...</td>\n",
       "      <td>...</td>\n",
       "    </tr>\n",
       "    <tr>\n",
       "      <th>440310</th>\n",
       "      <td>C9F1399FDCD83F13</td>\n",
       "      <td>2020-12-23 15:04:28</td>\n",
       "      <td>login</td>\n",
       "      <td>NaN</td>\n",
       "      <td>2020-12-23</td>\n",
       "      <td>EU</td>\n",
       "      <td>iPhone</td>\n",
       "    </tr>\n",
       "    <tr>\n",
       "      <th>440311</th>\n",
       "      <td>C9F1399FDCD83F13</td>\n",
       "      <td>2020-12-24 04:47:08</td>\n",
       "      <td>login</td>\n",
       "      <td>NaN</td>\n",
       "      <td>2020-12-23</td>\n",
       "      <td>EU</td>\n",
       "      <td>iPhone</td>\n",
       "    </tr>\n",
       "    <tr>\n",
       "      <th>440312</th>\n",
       "      <td>C9F1399FDCD83F13</td>\n",
       "      <td>2020-12-25 21:25:24</td>\n",
       "      <td>login</td>\n",
       "      <td>NaN</td>\n",
       "      <td>2020-12-23</td>\n",
       "      <td>EU</td>\n",
       "      <td>iPhone</td>\n",
       "    </tr>\n",
       "    <tr>\n",
       "      <th>440313</th>\n",
       "      <td>C9F1399FDCD83F13</td>\n",
       "      <td>2020-12-27 09:47:46</td>\n",
       "      <td>login</td>\n",
       "      <td>NaN</td>\n",
       "      <td>2020-12-23</td>\n",
       "      <td>EU</td>\n",
       "      <td>iPhone</td>\n",
       "    </tr>\n",
       "    <tr>\n",
       "      <th>440314</th>\n",
       "      <td>4F32B58E4FF19DC5</td>\n",
       "      <td>2020-12-23 20:01:29</td>\n",
       "      <td>login</td>\n",
       "      <td>NaN</td>\n",
       "      <td>2020-12-23</td>\n",
       "      <td>EU</td>\n",
       "      <td>Android</td>\n",
       "    </tr>\n",
       "  </tbody>\n",
       "</table>\n",
       "<p>424906 rows × 7 columns</p>\n",
       "</div>"
      ],
      "text/plain": [
       "                 user_id            event_dt event_name  details first_date  \\\n",
       "0       E1BDDCE0DAFA2679 2020-12-07 20:22:03   purchase    99.99 2020-12-07   \n",
       "1       E1BDDCE0DAFA2679 2020-12-09 06:21:35   purchase     9.99 2020-12-07   \n",
       "3       E1BDDCE0DAFA2679 2020-12-07 20:22:03      login      NaN 2020-12-07   \n",
       "4       E1BDDCE0DAFA2679 2020-12-09 06:21:35      login      NaN 2020-12-07   \n",
       "6       7B6452F081F49504 2020-12-07 09:22:53   purchase     9.99 2020-12-07   \n",
       "...                  ...                 ...        ...      ...        ...   \n",
       "440310  C9F1399FDCD83F13 2020-12-23 15:04:28      login      NaN 2020-12-23   \n",
       "440311  C9F1399FDCD83F13 2020-12-24 04:47:08      login      NaN 2020-12-23   \n",
       "440312  C9F1399FDCD83F13 2020-12-25 21:25:24      login      NaN 2020-12-23   \n",
       "440313  C9F1399FDCD83F13 2020-12-27 09:47:46      login      NaN 2020-12-23   \n",
       "440314  4F32B58E4FF19DC5 2020-12-23 20:01:29      login      NaN 2020-12-23   \n",
       "\n",
       "           region   device  \n",
       "0       N.America   iPhone  \n",
       "1       N.America   iPhone  \n",
       "3       N.America   iPhone  \n",
       "4       N.America   iPhone  \n",
       "6              EU   iPhone  \n",
       "...           ...      ...  \n",
       "440310         EU   iPhone  \n",
       "440311         EU   iPhone  \n",
       "440312         EU   iPhone  \n",
       "440313         EU   iPhone  \n",
       "440314         EU  Android  \n",
       "\n",
       "[424906 rows x 7 columns]"
      ]
     },
     "execution_count": 24,
     "metadata": {},
     "output_type": "execute_result"
    }
   ],
   "source": [
    "# Соединяем таблицы с датой события и регистрацией пользователя\n",
    "df = events.merge(users, on='user_id')\n",
    "\n",
    "# Отбираем нужные события\n",
    "df = df[(df['event_dt'] - df['first_date']).dt.days <= 14]\n",
    "\n",
    "df"
   ]
  },
  {
   "cell_type": "markdown",
   "id": "1bf59081",
   "metadata": {},
   "source": [
    "#### Проверка на пересечение с конкурирующим тестом"
   ]
  },
  {
   "cell_type": "markdown",
   "id": "148ba579",
   "metadata": {},
   "source": [
    "Проверим, встречаются ли пользователях в двух тестах сразу? Фильтровать будем именно по группе Б, так как группа А - контрольная и соседний тест на нее не влияет"
   ]
  },
  {
   "cell_type": "code",
   "execution_count": 25,
   "id": "96712f26",
   "metadata": {},
   "outputs": [
    {
     "data": {
      "text/html": [
       "<div>\n",
       "<style scoped>\n",
       "    .dataframe tbody tr th:only-of-type {\n",
       "        vertical-align: middle;\n",
       "    }\n",
       "\n",
       "    .dataframe tbody tr th {\n",
       "        vertical-align: top;\n",
       "    }\n",
       "\n",
       "    .dataframe thead th {\n",
       "        text-align: right;\n",
       "    }\n",
       "</style>\n",
       "<table border=\"1\" class=\"dataframe\">\n",
       "  <thead>\n",
       "    <tr style=\"text-align: right;\">\n",
       "      <th></th>\n",
       "      <th>user_id</th>\n",
       "      <th>interface_eu_test_a</th>\n",
       "      <th>interface_eu_test_b</th>\n",
       "      <th>recommender_system_test_a</th>\n",
       "      <th>recommender_system_test_b</th>\n",
       "    </tr>\n",
       "  </thead>\n",
       "  <tbody>\n",
       "    <tr>\n",
       "      <th>2</th>\n",
       "      <td>001064FEAAB631A1</td>\n",
       "      <td>NaN</td>\n",
       "      <td>1.0</td>\n",
       "      <td>NaN</td>\n",
       "      <td>1.0</td>\n",
       "    </tr>\n",
       "    <tr>\n",
       "      <th>55</th>\n",
       "      <td>010DB4614355A4BB</td>\n",
       "      <td>NaN</td>\n",
       "      <td>1.0</td>\n",
       "      <td>NaN</td>\n",
       "      <td>1.0</td>\n",
       "    </tr>\n",
       "    <tr>\n",
       "      <th>115</th>\n",
       "      <td>020A95B66F363AFB</td>\n",
       "      <td>NaN</td>\n",
       "      <td>1.0</td>\n",
       "      <td>NaN</td>\n",
       "      <td>1.0</td>\n",
       "    </tr>\n",
       "    <tr>\n",
       "      <th>130</th>\n",
       "      <td>022A97E4F285BD73</td>\n",
       "      <td>NaN</td>\n",
       "      <td>1.0</td>\n",
       "      <td>NaN</td>\n",
       "      <td>1.0</td>\n",
       "    </tr>\n",
       "    <tr>\n",
       "      <th>165</th>\n",
       "      <td>02A553C0C9716E82</td>\n",
       "      <td>NaN</td>\n",
       "      <td>1.0</td>\n",
       "      <td>NaN</td>\n",
       "      <td>1.0</td>\n",
       "    </tr>\n",
       "    <tr>\n",
       "      <th>...</th>\n",
       "      <td>...</td>\n",
       "      <td>...</td>\n",
       "      <td>...</td>\n",
       "      <td>...</td>\n",
       "      <td>...</td>\n",
       "    </tr>\n",
       "    <tr>\n",
       "      <th>16428</th>\n",
       "      <td>FC37CBE8211E02A8</td>\n",
       "      <td>NaN</td>\n",
       "      <td>1.0</td>\n",
       "      <td>NaN</td>\n",
       "      <td>1.0</td>\n",
       "    </tr>\n",
       "    <tr>\n",
       "      <th>16490</th>\n",
       "      <td>FD2E811B409ADB85</td>\n",
       "      <td>NaN</td>\n",
       "      <td>1.0</td>\n",
       "      <td>NaN</td>\n",
       "      <td>1.0</td>\n",
       "    </tr>\n",
       "    <tr>\n",
       "      <th>16638</th>\n",
       "      <td>FF7BE2897FC0380D</td>\n",
       "      <td>NaN</td>\n",
       "      <td>1.0</td>\n",
       "      <td>NaN</td>\n",
       "      <td>1.0</td>\n",
       "    </tr>\n",
       "    <tr>\n",
       "      <th>16644</th>\n",
       "      <td>FF9A81323FA67D6E</td>\n",
       "      <td>NaN</td>\n",
       "      <td>1.0</td>\n",
       "      <td>NaN</td>\n",
       "      <td>1.0</td>\n",
       "    </tr>\n",
       "    <tr>\n",
       "      <th>16662</th>\n",
       "      <td>FFED90241D04503F</td>\n",
       "      <td>NaN</td>\n",
       "      <td>1.0</td>\n",
       "      <td>NaN</td>\n",
       "      <td>1.0</td>\n",
       "    </tr>\n",
       "  </tbody>\n",
       "</table>\n",
       "<p>344 rows × 5 columns</p>\n",
       "</div>"
      ],
      "text/plain": [
       "                user_id  interface_eu_test_a  interface_eu_test_b  \\\n",
       "2      001064FEAAB631A1                  NaN                  1.0   \n",
       "55     010DB4614355A4BB                  NaN                  1.0   \n",
       "115    020A95B66F363AFB                  NaN                  1.0   \n",
       "130    022A97E4F285BD73                  NaN                  1.0   \n",
       "165    02A553C0C9716E82                  NaN                  1.0   \n",
       "...                 ...                  ...                  ...   \n",
       "16428  FC37CBE8211E02A8                  NaN                  1.0   \n",
       "16490  FD2E811B409ADB85                  NaN                  1.0   \n",
       "16638  FF7BE2897FC0380D                  NaN                  1.0   \n",
       "16644  FF9A81323FA67D6E                  NaN                  1.0   \n",
       "16662  FFED90241D04503F                  NaN                  1.0   \n",
       "\n",
       "       recommender_system_test_a  recommender_system_test_b  \n",
       "2                            NaN                        1.0  \n",
       "55                           NaN                        1.0  \n",
       "115                          NaN                        1.0  \n",
       "130                          NaN                        1.0  \n",
       "165                          NaN                        1.0  \n",
       "...                          ...                        ...  \n",
       "16428                        NaN                        1.0  \n",
       "16490                        NaN                        1.0  \n",
       "16638                        NaN                        1.0  \n",
       "16644                        NaN                        1.0  \n",
       "16662                        NaN                        1.0  \n",
       "\n",
       "[344 rows x 5 columns]"
      ]
     },
     "execution_count": 25,
     "metadata": {},
     "output_type": "execute_result"
    }
   ],
   "source": [
    "# Добавляем колонку с номером строки для подсчета результатов\n",
    "data = participants.reset_index()\n",
    "\n",
    "data = data.pivot_table(index='user_id', columns=['ab_test', 'group'], values='index', aggfunc='count').reset_index()\n",
    "\n",
    "# Переименование колонок для удобства\n",
    "data.columns = [\n",
    "    'user_id',\n",
    "    'interface_eu_test_a',\n",
    "    'interface_eu_test_b',\n",
    "    'recommender_system_test_a',\n",
    "    'recommender_system_test_b'\n",
    "]\n",
    "\n",
    "# Фильтруем пользователей, которые встречаются в группе Б в обоих тестах\n",
    "data = data.query('interface_eu_test_b >=1 & recommender_system_test_b >=1')\n",
    "data"
   ]
  },
  {
   "cell_type": "markdown",
   "id": "1a613a78",
   "metadata": {},
   "source": [
    "344 пользователя участвуют в обоих тестах. Занесем идентификаторы этих пользователей в список, чтобы потом узнать, влияют ли они на результаты теста."
   ]
  },
  {
   "cell_type": "code",
   "execution_count": 26,
   "id": "5d4a7237",
   "metadata": {},
   "outputs": [],
   "source": [
    "users_in_both_test = data['user_id'].to_list()"
   ]
  },
  {
   "cell_type": "markdown",
   "id": "12904af6",
   "metadata": {},
   "source": [
    "<div class=\"alert alert-block alert-warning\">📝\n",
    "    \n",
    "\n",
    "__Комментарий от тимлида №1__\n",
    "    \n",
    "Верное наблюдение.    \n",
    "    \n",
    "В данной ситуации, наиболее корректным решением будет проверить в какие именно группы теста interface_eu_test попали пользователи теста recommender_system_test. Ведь если они попали только в контрольную группу - это значит, что тест interface_eu_test никак на них не повлиял\n",
    "</div>"
   ]
  },
  {
   "cell_type": "markdown",
   "id": "80a132b2",
   "metadata": {},
   "source": [
    "<div class=\"alert alert-info\"> <b>Комментарии студента:\n",
    "    </b> Правильно ли я поняла, что необходимо отследить только тех юзеров, которые в обоих тестах попали в группу Б?\n",
    "Я переделала расчет</div>\n",
    "    "
   ]
  },
  {
   "cell_type": "markdown",
   "id": "60f97598",
   "metadata": {},
   "source": []
  },
  {
   "cell_type": "markdown",
   "id": "24ed7f70",
   "metadata": {},
   "source": [
    "<div class=\"alert alert-block alert-danger\">✍\n",
    "    \n",
    "\n",
    "__Комментарий от тимлида №1__\n",
    "\n",
    "Евгения, также имеется несколько моментов, на которые стоит обратить внимание на этапе оценки корректности сбора данных:\n",
    "    \n",
    "    \n",
    "1. Отсутствует проверка на пересечение пользоваталей внутри теста\n",
    "    \n",
    "    \n",
    "2. По ТЗ дата остановки набора новых пользователей: 2020-12-21. Нам следует отфильтровать события с лайфтаймом больше, чем горизонт событий. (т.е. удалить строки, в которых события больше 14 дней)    \n",
    "    \n",
    "3. Вывод по разделу. Тут важно описать качество исходных данных\n",
    "</div>"
   ]
  },
  {
   "cell_type": "markdown",
   "id": "397be739",
   "metadata": {},
   "source": [
    "<div class=\"alert alert-info\"> <b>Комментарии студента:</b> \n",
    "    п.1 Выполнено\n",
    "    п.2 Выполнено\n",
    "    п.3 Выполнено ниже\n",
    "</div>\n",
    "    "
   ]
  },
  {
   "cell_type": "markdown",
   "id": "1dc2ed81",
   "metadata": {},
   "source": [
    "**Вывод:**\n",
    "\n",
    "По время предобработки данных дубликаты не обнаружены. Пропущенные значения, требующие заполнения и влияющие на результаты теста, также не были найдены.\n",
    "\n",
    "При проверке данных на соответсвие ТЗ были выявлены технические ошибки,а именно:\n",
    "* Данные по проведению АБ-теста предоставлены за промежуток с 7 декабря по 30 декабря 2020 года, хотя в ТЗ заявлено, что проведение теста было запланировано с 7 декабря 2020 по 4 января 2021 года. Не хватает данных за 5 дней. Это может означать, что тест остановлен слишком рано либо были выгружены не все данные.\n",
    "\n",
    "* Тест recommender_system_test проводился параллельно с конкурирующим тестом interface_eu_test. Много пользователей стало участниками обоих тестов, в том числе обнаружны пользователи, которые в обоих тестах попали в группу Б (тестовую), что может влиять на их действия.\n",
    "\n",
    "* Проведение теста пересекается с маркетинговым событием Christmas&New Year Promo в течение 5 дней, что так же может давать серьезные при изучении абсолютных данных\n",
    "\n",
    "Все эти недочеты могут серьезно повлиять на результаты АБ-тестирования\n"
   ]
  },
  {
   "cell_type": "markdown",
   "id": "fde2cd59",
   "metadata": {},
   "source": [
    "### Исследовательский анализ данных"
   ]
  },
  {
   "cell_type": "markdown",
   "id": "b5da0a5f",
   "metadata": {},
   "source": [
    "#### Профили участников тестов"
   ]
  },
  {
   "cell_type": "markdown",
   "id": "f5f475b1",
   "metadata": {},
   "source": [
    "Созданим общую таблицу по всем участникам тестов. Так как ранее мы отфильтровали события по лайфтайму и сохранили в переменную df, соединять с датасетом participants будем именно ее."
   ]
  },
  {
   "cell_type": "code",
   "execution_count": 27,
   "id": "83e8695b",
   "metadata": {},
   "outputs": [
    {
     "data": {
      "text/html": [
       "<div>\n",
       "<style scoped>\n",
       "    .dataframe tbody tr th:only-of-type {\n",
       "        vertical-align: middle;\n",
       "    }\n",
       "\n",
       "    .dataframe tbody tr th {\n",
       "        vertical-align: top;\n",
       "    }\n",
       "\n",
       "    .dataframe thead th {\n",
       "        text-align: right;\n",
       "    }\n",
       "</style>\n",
       "<table border=\"1\" class=\"dataframe\">\n",
       "  <thead>\n",
       "    <tr style=\"text-align: right;\">\n",
       "      <th></th>\n",
       "      <th>user_id</th>\n",
       "      <th>group</th>\n",
       "      <th>ab_test</th>\n",
       "      <th>event_dt</th>\n",
       "      <th>event_name</th>\n",
       "      <th>details</th>\n",
       "      <th>first_date</th>\n",
       "      <th>region</th>\n",
       "      <th>device</th>\n",
       "    </tr>\n",
       "  </thead>\n",
       "  <tbody>\n",
       "    <tr>\n",
       "      <th>0</th>\n",
       "      <td>D1ABA3E2887B6A73</td>\n",
       "      <td>A</td>\n",
       "      <td>recommender_system_test</td>\n",
       "      <td>2020-12-07 14:43:27</td>\n",
       "      <td>purchase</td>\n",
       "      <td>99.99</td>\n",
       "      <td>2020-12-07</td>\n",
       "      <td>EU</td>\n",
       "      <td>PC</td>\n",
       "    </tr>\n",
       "    <tr>\n",
       "      <th>1</th>\n",
       "      <td>D1ABA3E2887B6A73</td>\n",
       "      <td>A</td>\n",
       "      <td>recommender_system_test</td>\n",
       "      <td>2020-12-07 14:43:29</td>\n",
       "      <td>product_cart</td>\n",
       "      <td>NaN</td>\n",
       "      <td>2020-12-07</td>\n",
       "      <td>EU</td>\n",
       "      <td>PC</td>\n",
       "    </tr>\n",
       "    <tr>\n",
       "      <th>2</th>\n",
       "      <td>D1ABA3E2887B6A73</td>\n",
       "      <td>A</td>\n",
       "      <td>recommender_system_test</td>\n",
       "      <td>2020-12-07 14:43:27</td>\n",
       "      <td>product_page</td>\n",
       "      <td>NaN</td>\n",
       "      <td>2020-12-07</td>\n",
       "      <td>EU</td>\n",
       "      <td>PC</td>\n",
       "    </tr>\n",
       "    <tr>\n",
       "      <th>3</th>\n",
       "      <td>D1ABA3E2887B6A73</td>\n",
       "      <td>A</td>\n",
       "      <td>recommender_system_test</td>\n",
       "      <td>2020-12-07 14:43:27</td>\n",
       "      <td>login</td>\n",
       "      <td>NaN</td>\n",
       "      <td>2020-12-07</td>\n",
       "      <td>EU</td>\n",
       "      <td>PC</td>\n",
       "    </tr>\n",
       "    <tr>\n",
       "      <th>4</th>\n",
       "      <td>A7A3664BD6242119</td>\n",
       "      <td>A</td>\n",
       "      <td>recommender_system_test</td>\n",
       "      <td>2020-12-20 15:46:06</td>\n",
       "      <td>product_page</td>\n",
       "      <td>NaN</td>\n",
       "      <td>2020-12-20</td>\n",
       "      <td>EU</td>\n",
       "      <td>iPhone</td>\n",
       "    </tr>\n",
       "    <tr>\n",
       "      <th>...</th>\n",
       "      <td>...</td>\n",
       "      <td>...</td>\n",
       "      <td>...</td>\n",
       "      <td>...</td>\n",
       "      <td>...</td>\n",
       "      <td>...</td>\n",
       "      <td>...</td>\n",
       "      <td>...</td>\n",
       "      <td>...</td>\n",
       "    </tr>\n",
       "    <tr>\n",
       "      <th>103149</th>\n",
       "      <td>63FBE257B05F2245</td>\n",
       "      <td>A</td>\n",
       "      <td>interface_eu_test</td>\n",
       "      <td>2020-12-23 13:03:17</td>\n",
       "      <td>login</td>\n",
       "      <td>NaN</td>\n",
       "      <td>2020-12-20</td>\n",
       "      <td>EU</td>\n",
       "      <td>Android</td>\n",
       "    </tr>\n",
       "    <tr>\n",
       "      <th>103150</th>\n",
       "      <td>79F9ABFB029CF724</td>\n",
       "      <td>B</td>\n",
       "      <td>interface_eu_test</td>\n",
       "      <td>2020-12-14 19:12:49</td>\n",
       "      <td>login</td>\n",
       "      <td>NaN</td>\n",
       "      <td>2020-12-14</td>\n",
       "      <td>EU</td>\n",
       "      <td>PC</td>\n",
       "    </tr>\n",
       "    <tr>\n",
       "      <th>103151</th>\n",
       "      <td>79F9ABFB029CF724</td>\n",
       "      <td>B</td>\n",
       "      <td>interface_eu_test</td>\n",
       "      <td>2020-12-15 01:50:22</td>\n",
       "      <td>login</td>\n",
       "      <td>NaN</td>\n",
       "      <td>2020-12-14</td>\n",
       "      <td>EU</td>\n",
       "      <td>PC</td>\n",
       "    </tr>\n",
       "    <tr>\n",
       "      <th>103152</th>\n",
       "      <td>79F9ABFB029CF724</td>\n",
       "      <td>B</td>\n",
       "      <td>interface_eu_test</td>\n",
       "      <td>2020-12-16 19:27:36</td>\n",
       "      <td>login</td>\n",
       "      <td>NaN</td>\n",
       "      <td>2020-12-14</td>\n",
       "      <td>EU</td>\n",
       "      <td>PC</td>\n",
       "    </tr>\n",
       "    <tr>\n",
       "      <th>103153</th>\n",
       "      <td>79F9ABFB029CF724</td>\n",
       "      <td>B</td>\n",
       "      <td>interface_eu_test</td>\n",
       "      <td>2020-12-20 13:04:31</td>\n",
       "      <td>login</td>\n",
       "      <td>NaN</td>\n",
       "      <td>2020-12-14</td>\n",
       "      <td>EU</td>\n",
       "      <td>PC</td>\n",
       "    </tr>\n",
       "  </tbody>\n",
       "</table>\n",
       "<p>103154 rows × 9 columns</p>\n",
       "</div>"
      ],
      "text/plain": [
       "                 user_id group                  ab_test            event_dt  \\\n",
       "0       D1ABA3E2887B6A73     A  recommender_system_test 2020-12-07 14:43:27   \n",
       "1       D1ABA3E2887B6A73     A  recommender_system_test 2020-12-07 14:43:29   \n",
       "2       D1ABA3E2887B6A73     A  recommender_system_test 2020-12-07 14:43:27   \n",
       "3       D1ABA3E2887B6A73     A  recommender_system_test 2020-12-07 14:43:27   \n",
       "4       A7A3664BD6242119     A  recommender_system_test 2020-12-20 15:46:06   \n",
       "...                  ...   ...                      ...                 ...   \n",
       "103149  63FBE257B05F2245     A        interface_eu_test 2020-12-23 13:03:17   \n",
       "103150  79F9ABFB029CF724     B        interface_eu_test 2020-12-14 19:12:49   \n",
       "103151  79F9ABFB029CF724     B        interface_eu_test 2020-12-15 01:50:22   \n",
       "103152  79F9ABFB029CF724     B        interface_eu_test 2020-12-16 19:27:36   \n",
       "103153  79F9ABFB029CF724     B        interface_eu_test 2020-12-20 13:04:31   \n",
       "\n",
       "          event_name  details first_date region   device  \n",
       "0           purchase    99.99 2020-12-07     EU       PC  \n",
       "1       product_cart      NaN 2020-12-07     EU       PC  \n",
       "2       product_page      NaN 2020-12-07     EU       PC  \n",
       "3              login      NaN 2020-12-07     EU       PC  \n",
       "4       product_page      NaN 2020-12-20     EU   iPhone  \n",
       "...              ...      ...        ...    ...      ...  \n",
       "103149         login      NaN 2020-12-20     EU  Android  \n",
       "103150         login      NaN 2020-12-14     EU       PC  \n",
       "103151         login      NaN 2020-12-14     EU       PC  \n",
       "103152         login      NaN 2020-12-14     EU       PC  \n",
       "103153         login      NaN 2020-12-14     EU       PC  \n",
       "\n",
       "[103154 rows x 9 columns]"
      ]
     },
     "execution_count": 27,
     "metadata": {},
     "output_type": "execute_result"
    }
   ],
   "source": [
    "test_users = participants.merge(df, on='user_id')\n",
    "\n",
    "test_users"
   ]
  },
  {
   "cell_type": "markdown",
   "id": "45f12a2a",
   "metadata": {},
   "source": [
    "#### Количество событий на пользователя"
   ]
  },
  {
   "cell_type": "code",
   "execution_count": 28,
   "id": "d7f0a0f9",
   "metadata": {},
   "outputs": [
    {
     "data": {
      "text/html": [
       "<div>\n",
       "<style scoped>\n",
       "    .dataframe tbody tr th:only-of-type {\n",
       "        vertical-align: middle;\n",
       "    }\n",
       "\n",
       "    .dataframe tbody tr th {\n",
       "        vertical-align: top;\n",
       "    }\n",
       "\n",
       "    .dataframe thead th {\n",
       "        text-align: right;\n",
       "    }\n",
       "</style>\n",
       "<table border=\"1\" class=\"dataframe\">\n",
       "  <thead>\n",
       "    <tr style=\"text-align: right;\">\n",
       "      <th></th>\n",
       "      <th></th>\n",
       "      <th>user_id</th>\n",
       "      <th>event_name</th>\n",
       "      <th>avg_event</th>\n",
       "    </tr>\n",
       "    <tr>\n",
       "      <th>ab_test</th>\n",
       "      <th>group</th>\n",
       "      <th></th>\n",
       "      <th></th>\n",
       "      <th></th>\n",
       "    </tr>\n",
       "  </thead>\n",
       "  <tbody>\n",
       "    <tr>\n",
       "      <th rowspan=\"2\" valign=\"top\">interface_eu_test</th>\n",
       "      <th>A</th>\n",
       "      <td>5466</td>\n",
       "      <td>40122</td>\n",
       "      <td>7.340285</td>\n",
       "    </tr>\n",
       "    <tr>\n",
       "      <th>B</th>\n",
       "      <td>5382</td>\n",
       "      <td>38962</td>\n",
       "      <td>7.239316</td>\n",
       "    </tr>\n",
       "    <tr>\n",
       "      <th rowspan=\"2\" valign=\"top\">recommender_system_test</th>\n",
       "      <th>A</th>\n",
       "      <td>2747</td>\n",
       "      <td>18947</td>\n",
       "      <td>6.897343</td>\n",
       "    </tr>\n",
       "    <tr>\n",
       "      <th>B</th>\n",
       "      <td>928</td>\n",
       "      <td>5123</td>\n",
       "      <td>5.520474</td>\n",
       "    </tr>\n",
       "  </tbody>\n",
       "</table>\n",
       "</div>"
      ],
      "text/plain": [
       "                               user_id  event_name  avg_event\n",
       "ab_test                 group                                \n",
       "interface_eu_test       A         5466       40122   7.340285\n",
       "                        B         5382       38962   7.239316\n",
       "recommender_system_test A         2747       18947   6.897343\n",
       "                        B          928        5123   5.520474"
      ]
     },
     "execution_count": 28,
     "metadata": {},
     "output_type": "execute_result"
    }
   ],
   "source": [
    "data = test_users.groupby(['ab_test', 'group']).agg({'user_id':'nunique', 'event_name': 'count'})\n",
    "data['avg_event'] = data['event_name'] / data['user_id']\n",
    "\n",
    "data"
   ]
  },
  {
   "cell_type": "markdown",
   "id": "f1c0fee5",
   "metadata": {},
   "source": [
    "В среднем на одного пользователя приходится 7 событий, кроме группы B в recommender_system_test. Так же стоит обратить внимание, что участников в этой группе намного меньше, чем в соседней, что может повлиять на результаты теста."
   ]
  },
  {
   "cell_type": "markdown",
   "id": "cceb4da0",
   "metadata": {},
   "source": [
    "<div class=\"alert alert-block alert-warning\">📝\n",
    "    \n",
    "\n",
    "__Комментарий от тимлида №2__\n",
    "\n",
    "\n",
    "Неплохо бы визуализировать количество событий на пользователя по группам. В идеале можно провести ещё стат тест.\n",
    "</div>"
   ]
  },
  {
   "cell_type": "markdown",
   "id": "f8008e4a",
   "metadata": {},
   "source": [
    "#### Распределение число событий по времени"
   ]
  },
  {
   "cell_type": "markdown",
   "id": "1ebec37c",
   "metadata": {},
   "source": [
    "Рассмотрим, как распределены события во времени у участников recommender_system_test"
   ]
  },
  {
   "cell_type": "code",
   "execution_count": 29,
   "id": "d37a4ed7",
   "metadata": {},
   "outputs": [
    {
     "data": {
      "image/png": "[encoded data removed]",
      "text/plain": [
       "<Figure size 1080x576 with 1 Axes>"
      ]
     },
     "metadata": {
      "needs_background": "light"
     },
     "output_type": "display_data"
    }
   ],
   "source": [
    "recommender_system_test = test_users.query('ab_test == \"recommender_system_test\"')\n",
    "\n",
    "recommender_system_test['event_dt'].hist(bins=30, figsize=(15,8))\n",
    "\n",
    "plt.title('Гистограмма количества событий участников теста', fontsize=20)\n",
    "plt.ylabel('Количество событий', fontsize=14)\n",
    "plt.xlabel('Дата', fontsize=14)\n",
    "# plt.xticks(rotation=45)\n",
    "plt.show();"
   ]
  },
  {
   "cell_type": "markdown",
   "id": "83d58333",
   "metadata": {},
   "source": [
    "Cпустя неделю проведения теста число событий увеличивается в 2 раза. В период второй недели с 14 по 21 декабря число событий стабильно растет, а затем резко начинает падать и достигает уровня недельной давности.\n",
    "\n",
    "Похоже, что спустя неделю после старта теста что-то произошло, из-за чего появился резкий скачек, однако, смотреть на предварительные результаты в первую неделю теста не стоит, так как группы эксперимента малы, и каждый новый пользователь сильно меняет картину. Как раз спустя неделю начался хороший рост активности, а потом спустя еще неделю пошел на спад, вероятно, у этого есть причины. с 25 декабря начался один из ивентов, возможно это повлияло на действия пользователей."
   ]
  },
  {
   "cell_type": "code",
   "execution_count": 30,
   "id": "cc92740f",
   "metadata": {},
   "outputs": [
    {
     "data": {
      "image/png": "[encoded data removed]",
      "text/plain": [
       "<Figure size 1080x576 with 1 Axes>"
      ]
     },
     "metadata": {
      "needs_background": "light"
     },
     "output_type": "display_data"
    }
   ],
   "source": [
    "hist_1 = recommender_system_test.query('group == \"A\"')['event_dt']\n",
    "hist_2 = recommender_system_test.query('group == \"B\"')['event_dt']\n",
    "\n",
    "plt.figure(figsize=(15, 8))\n",
    "\n",
    "plt.hist(hist_1, bins=30, alpha=1, label='Группа А')\n",
    "plt.hist(hist_2, bins=30, alpha=0.7, label='Группа Б')\n",
    "plt.legend(loc='upper right')\n",
    "plt.title('Гистограмма количества событий участников теста по группам', fontsize=20)\n",
    "plt.ylabel('Количество событий', fontsize=14)\n",
    "plt.xlabel('Дата', fontsize=14)\n",
    "plt.show();"
   ]
  },
  {
   "cell_type": "markdown",
   "id": "a617f702",
   "metadata": {},
   "source": [
    "Распределение событий у двух групп резко отличается. У группы Б события распределены стабильнее, чем у группы А."
   ]
  },
  {
   "cell_type": "markdown",
   "id": "1c9fd846",
   "metadata": {},
   "source": [
    "<div class=\"alert alert-block alert-danger\">✍\n",
    "    \n",
    "\n",
    "__Комментарий от тимлида №1__\n",
    "\n",
    "С чем может быть связан скачек событий в группе А с 14 числа? (можно рассмотреть динамику набора пользоваталей)\n",
    "</div>"
   ]
  },
  {
   "cell_type": "markdown",
   "id": "2cdd79c7",
   "metadata": {},
   "source": [
    "<div class=\"alert alert-block alert-danger\">✍\n",
    "    \n",
    "\n",
    "__Комментарий от тимлида №1__\n",
    "\n",
    "График по данным построен корректно, но не оформлен до конца. Суть в том, что график должен быть наглядным без контекста (т.к. в реальной практике ты будешь показывать презентации или отчет сторонним людям). \n",
    "\n",
    "Тебе необходимо проследить чтобы всегда был заголовок и подписаны оси. Доработай этот момент пожалуйста.\n",
    "    \n",
    "Данное замечания относится ко всему проекту и перепроверь его самостоятельно. Далее не буду акцентировать на этом внимание\n",
    "</div>"
   ]
  },
  {
   "cell_type": "markdown",
   "id": "a697d7e9",
   "metadata": {},
   "source": [
    "<div class=\"alert alert-info\"> <b>Комментарии студента:\n",
    "    </b> Добавила. И как я сама не додумалась >.< </div>\n",
    "    "
   ]
  },
  {
   "cell_type": "markdown",
   "id": "f5965711",
   "metadata": {},
   "source": [
    "Рассмотрим динамику набора пользователей в тест"
   ]
  },
  {
   "cell_type": "code",
   "execution_count": 31,
   "id": "c85b68d6",
   "metadata": {},
   "outputs": [
    {
     "data": {
      "image/png": "[encoded data removed]",
      "text/plain": [
       "<Figure size 1080x576 with 1 Axes>"
      ]
     },
     "metadata": {
      "needs_background": "light"
     },
     "output_type": "display_data"
    }
   ],
   "source": [
    "cumulative_users = recommender_system_test.groupby(['first_date', 'group'], as_index=False).agg({'user_id': 'nunique'})\n",
    "\n",
    "cumulative_users['cumulative_sum'] = cumulative_users.groupby('group')['user_id'].cumsum()\n",
    "\n",
    "cumulative_users\n",
    "\n",
    "\n",
    "# датафрейм с кумулятивным количеством пользователей в группе А\n",
    "cumulative_users_a = cumulative_users.query('group == \"A\"')\n",
    "\n",
    "# датафрейм с кумулятивным количеством пользователей в группе B\n",
    "cumulative_users_b = cumulative_users.query('group == \"B\"')\n",
    "\n",
    "plt.figure(figsize=(15, 8))\n",
    "\n",
    "# Строим график группы А\n",
    "plt.plot(cumulative_users_a['first_date'], cumulative_users_a['cumulative_sum'], label='Группа A', marker='o')\n",
    "\n",
    "# Строим график группы B\n",
    "plt.plot(cumulative_users_b['first_date'], cumulative_users_b['cumulative_sum'], label='Группа B', marker='o')\n",
    "\n",
    "\n",
    "plt.legend() \n",
    "plt.xlabel('Дата', fontsize=14)\n",
    "plt.ylabel('Кол-во пользователей в тесте', fontsize=14)\n",
    "plt.title('Динамика набора пользователей в тест recommender_system_test', fontsize=20);"
   ]
  },
  {
   "cell_type": "code",
   "execution_count": 32,
   "id": "7d0360cc",
   "metadata": {},
   "outputs": [
    {
     "data": {
      "text/html": [
       "<div>\n",
       "<style scoped>\n",
       "    .dataframe tbody tr th:only-of-type {\n",
       "        vertical-align: middle;\n",
       "    }\n",
       "\n",
       "    .dataframe tbody tr th {\n",
       "        vertical-align: top;\n",
       "    }\n",
       "\n",
       "    .dataframe thead th {\n",
       "        text-align: right;\n",
       "    }\n",
       "</style>\n",
       "<table border=\"1\" class=\"dataframe\">\n",
       "  <thead>\n",
       "    <tr style=\"text-align: right;\">\n",
       "      <th></th>\n",
       "      <th>first_date</th>\n",
       "      <th>group</th>\n",
       "      <th>user_id</th>\n",
       "      <th>cumulative_sum</th>\n",
       "    </tr>\n",
       "  </thead>\n",
       "  <tbody>\n",
       "    <tr>\n",
       "      <th>0</th>\n",
       "      <td>2020-12-07</td>\n",
       "      <td>A</td>\n",
       "      <td>163</td>\n",
       "      <td>163</td>\n",
       "    </tr>\n",
       "    <tr>\n",
       "      <th>1</th>\n",
       "      <td>2020-12-07</td>\n",
       "      <td>B</td>\n",
       "      <td>182</td>\n",
       "      <td>182</td>\n",
       "    </tr>\n",
       "    <tr>\n",
       "      <th>2</th>\n",
       "      <td>2020-12-08</td>\n",
       "      <td>A</td>\n",
       "      <td>98</td>\n",
       "      <td>261</td>\n",
       "    </tr>\n",
       "    <tr>\n",
       "      <th>3</th>\n",
       "      <td>2020-12-08</td>\n",
       "      <td>B</td>\n",
       "      <td>44</td>\n",
       "      <td>226</td>\n",
       "    </tr>\n",
       "    <tr>\n",
       "      <th>4</th>\n",
       "      <td>2020-12-09</td>\n",
       "      <td>A</td>\n",
       "      <td>82</td>\n",
       "      <td>343</td>\n",
       "    </tr>\n",
       "    <tr>\n",
       "      <th>5</th>\n",
       "      <td>2020-12-09</td>\n",
       "      <td>B</td>\n",
       "      <td>85</td>\n",
       "      <td>311</td>\n",
       "    </tr>\n",
       "    <tr>\n",
       "      <th>6</th>\n",
       "      <td>2020-12-10</td>\n",
       "      <td>A</td>\n",
       "      <td>66</td>\n",
       "      <td>409</td>\n",
       "    </tr>\n",
       "    <tr>\n",
       "      <th>7</th>\n",
       "      <td>2020-12-10</td>\n",
       "      <td>B</td>\n",
       "      <td>33</td>\n",
       "      <td>344</td>\n",
       "    </tr>\n",
       "    <tr>\n",
       "      <th>8</th>\n",
       "      <td>2020-12-11</td>\n",
       "      <td>A</td>\n",
       "      <td>92</td>\n",
       "      <td>501</td>\n",
       "    </tr>\n",
       "    <tr>\n",
       "      <th>9</th>\n",
       "      <td>2020-12-11</td>\n",
       "      <td>B</td>\n",
       "      <td>21</td>\n",
       "      <td>365</td>\n",
       "    </tr>\n",
       "    <tr>\n",
       "      <th>10</th>\n",
       "      <td>2020-12-12</td>\n",
       "      <td>A</td>\n",
       "      <td>64</td>\n",
       "      <td>565</td>\n",
       "    </tr>\n",
       "    <tr>\n",
       "      <th>11</th>\n",
       "      <td>2020-12-12</td>\n",
       "      <td>B</td>\n",
       "      <td>53</td>\n",
       "      <td>418</td>\n",
       "    </tr>\n",
       "    <tr>\n",
       "      <th>12</th>\n",
       "      <td>2020-12-13</td>\n",
       "      <td>A</td>\n",
       "      <td>56</td>\n",
       "      <td>621</td>\n",
       "    </tr>\n",
       "    <tr>\n",
       "      <th>13</th>\n",
       "      <td>2020-12-13</td>\n",
       "      <td>B</td>\n",
       "      <td>15</td>\n",
       "      <td>433</td>\n",
       "    </tr>\n",
       "    <tr>\n",
       "      <th>14</th>\n",
       "      <td>2020-12-14</td>\n",
       "      <td>A</td>\n",
       "      <td>387</td>\n",
       "      <td>1008</td>\n",
       "    </tr>\n",
       "    <tr>\n",
       "      <th>15</th>\n",
       "      <td>2020-12-14</td>\n",
       "      <td>B</td>\n",
       "      <td>72</td>\n",
       "      <td>505</td>\n",
       "    </tr>\n",
       "    <tr>\n",
       "      <th>16</th>\n",
       "      <td>2020-12-15</td>\n",
       "      <td>A</td>\n",
       "      <td>208</td>\n",
       "      <td>1216</td>\n",
       "    </tr>\n",
       "    <tr>\n",
       "      <th>17</th>\n",
       "      <td>2020-12-15</td>\n",
       "      <td>B</td>\n",
       "      <td>32</td>\n",
       "      <td>537</td>\n",
       "    </tr>\n",
       "    <tr>\n",
       "      <th>18</th>\n",
       "      <td>2020-12-16</td>\n",
       "      <td>A</td>\n",
       "      <td>169</td>\n",
       "      <td>1385</td>\n",
       "    </tr>\n",
       "    <tr>\n",
       "      <th>19</th>\n",
       "      <td>2020-12-16</td>\n",
       "      <td>B</td>\n",
       "      <td>99</td>\n",
       "      <td>636</td>\n",
       "    </tr>\n",
       "    <tr>\n",
       "      <th>20</th>\n",
       "      <td>2020-12-17</td>\n",
       "      <td>A</td>\n",
       "      <td>212</td>\n",
       "      <td>1597</td>\n",
       "    </tr>\n",
       "    <tr>\n",
       "      <th>21</th>\n",
       "      <td>2020-12-17</td>\n",
       "      <td>B</td>\n",
       "      <td>39</td>\n",
       "      <td>675</td>\n",
       "    </tr>\n",
       "    <tr>\n",
       "      <th>22</th>\n",
       "      <td>2020-12-18</td>\n",
       "      <td>A</td>\n",
       "      <td>220</td>\n",
       "      <td>1817</td>\n",
       "    </tr>\n",
       "    <tr>\n",
       "      <th>23</th>\n",
       "      <td>2020-12-18</td>\n",
       "      <td>B</td>\n",
       "      <td>50</td>\n",
       "      <td>725</td>\n",
       "    </tr>\n",
       "    <tr>\n",
       "      <th>24</th>\n",
       "      <td>2020-12-19</td>\n",
       "      <td>A</td>\n",
       "      <td>239</td>\n",
       "      <td>2056</td>\n",
       "    </tr>\n",
       "    <tr>\n",
       "      <th>25</th>\n",
       "      <td>2020-12-19</td>\n",
       "      <td>B</td>\n",
       "      <td>47</td>\n",
       "      <td>772</td>\n",
       "    </tr>\n",
       "    <tr>\n",
       "      <th>26</th>\n",
       "      <td>2020-12-20</td>\n",
       "      <td>A</td>\n",
       "      <td>274</td>\n",
       "      <td>2330</td>\n",
       "    </tr>\n",
       "    <tr>\n",
       "      <th>27</th>\n",
       "      <td>2020-12-20</td>\n",
       "      <td>B</td>\n",
       "      <td>63</td>\n",
       "      <td>835</td>\n",
       "    </tr>\n",
       "    <tr>\n",
       "      <th>28</th>\n",
       "      <td>2020-12-21</td>\n",
       "      <td>A</td>\n",
       "      <td>417</td>\n",
       "      <td>2747</td>\n",
       "    </tr>\n",
       "    <tr>\n",
       "      <th>29</th>\n",
       "      <td>2020-12-21</td>\n",
       "      <td>B</td>\n",
       "      <td>93</td>\n",
       "      <td>928</td>\n",
       "    </tr>\n",
       "  </tbody>\n",
       "</table>\n",
       "</div>"
      ],
      "text/plain": [
       "   first_date group  user_id  cumulative_sum\n",
       "0  2020-12-07     A      163             163\n",
       "1  2020-12-07     B      182             182\n",
       "2  2020-12-08     A       98             261\n",
       "3  2020-12-08     B       44             226\n",
       "4  2020-12-09     A       82             343\n",
       "5  2020-12-09     B       85             311\n",
       "6  2020-12-10     A       66             409\n",
       "7  2020-12-10     B       33             344\n",
       "8  2020-12-11     A       92             501\n",
       "9  2020-12-11     B       21             365\n",
       "10 2020-12-12     A       64             565\n",
       "11 2020-12-12     B       53             418\n",
       "12 2020-12-13     A       56             621\n",
       "13 2020-12-13     B       15             433\n",
       "14 2020-12-14     A      387            1008\n",
       "15 2020-12-14     B       72             505\n",
       "16 2020-12-15     A      208            1216\n",
       "17 2020-12-15     B       32             537\n",
       "18 2020-12-16     A      169            1385\n",
       "19 2020-12-16     B       99             636\n",
       "20 2020-12-17     A      212            1597\n",
       "21 2020-12-17     B       39             675\n",
       "22 2020-12-18     A      220            1817\n",
       "23 2020-12-18     B       50             725\n",
       "24 2020-12-19     A      239            2056\n",
       "25 2020-12-19     B       47             772\n",
       "26 2020-12-20     A      274            2330\n",
       "27 2020-12-20     B       63             835\n",
       "28 2020-12-21     A      417            2747\n",
       "29 2020-12-21     B       93             928"
      ]
     },
     "execution_count": 32,
     "metadata": {},
     "output_type": "execute_result"
    }
   ],
   "source": [
    "cumulative_users"
   ]
  },
  {
   "cell_type": "markdown",
   "id": "670ded78",
   "metadata": {},
   "source": [
    "С 14 декабря количество пользователей в группе А резко стало нарастать, этим обоснован рост числа событий. В группу Б набор пользователей происходил равномернее"
   ]
  },
  {
   "cell_type": "markdown",
   "id": "d68271e9",
   "metadata": {},
   "source": [
    "#### Воронка конверсии"
   ]
  },
  {
   "cell_type": "code",
   "execution_count": 29,
   "id": "878bf3f5",
   "metadata": {},
   "outputs": [],
   "source": [
    "def steps(row):\n",
    "    if row['event_name'] == 'login':\n",
    "        return 1\n",
    "    elif row['event_name'] == 'product_page':\n",
    "        return 2\n",
    "    elif row['event_name'] == 'product_cart':\n",
    "        return 3\n",
    "    else:\n",
    "        return 4"
   ]
  },
  {
   "cell_type": "code",
   "execution_count": 105,
   "id": "61498bf8",
   "metadata": {},
   "outputs": [
    {
     "data": {
      "application/vnd.plotly.v1+json": {
       "config": {
        "plotlyServerURL": "https://plot.ly"
       },
       "data": [
        {
         "name": " Группа A",
         "textinfo": "value+percent previous",
         "type": "funnel",
         "x": [
          2747,
          1780,
          824,
          872
         ],
         "y": [
          "login",
          "product_page",
          "product_cart",
          "purchase"
         ]
        },
        {
         "name": "Группа B",
         "orientation": "h",
         "textinfo": "value+percent previous",
         "textposition": "inside",
         "type": "funnel",
         "x": [
          927,
          523,
          255,
          256
         ],
         "y": [
          "login",
          "product_page",
          "product_cart",
          "purchase"
         ]
        }
       ],
       "layout": {
        "template": {
         "data": {
          "bar": [
           {
            "error_x": {
             "color": "#2a3f5f"
            },
            "error_y": {
             "color": "#2a3f5f"
            },
            "marker": {
             "line": {
              "color": "white",
              "width": 0.5
             },
             "pattern": {
              "fillmode": "overlay",
              "size": 10,
              "solidity": 0.2
             }
            },
            "type": "bar"
           }
          ],
          "barpolar": [
           {
            "marker": {
             "line": {
              "color": "white",
              "width": 0.5
             },
             "pattern": {
              "fillmode": "overlay",
              "size": 10,
              "solidity": 0.2
             }
            },
            "type": "barpolar"
           }
          ],
          "carpet": [
           {
            "aaxis": {
             "endlinecolor": "#2a3f5f",
             "gridcolor": "#C8D4E3",
             "linecolor": "#C8D4E3",
             "minorgridcolor": "#C8D4E3",
             "startlinecolor": "#2a3f5f"
            },
            "baxis": {
             "endlinecolor": "#2a3f5f",
             "gridcolor": "#C8D4E3",
             "linecolor": "#C8D4E3",
             "minorgridcolor": "#C8D4E3",
             "startlinecolor": "#2a3f5f"
            },
            "type": "carpet"
           }
          ],
          "choropleth": [
           {
            "colorbar": {
             "outlinewidth": 0,
             "ticks": ""
            },
            "type": "choropleth"
           }
          ],
          "contour": [
           {
            "colorbar": {
             "outlinewidth": 0,
             "ticks": ""
            },
            "colorscale": [
             [
              0,
              "#0d0887"
             ],
             [
              0.1111111111111111,
              "#46039f"
             ],
             [
              0.2222222222222222,
              "#7201a8"
             ],
             [
              0.3333333333333333,
              "#9c179e"
             ],
             [
              0.4444444444444444,
              "#bd3786"
             ],
             [
              0.5555555555555556,
              "#d8576b"
             ],
             [
              0.6666666666666666,
              "#ed7953"
             ],
             [
              0.7777777777777778,
              "#fb9f3a"
             ],
             [
              0.8888888888888888,
              "#fdca26"
             ],
             [
              1,
              "#f0f921"
             ]
            ],
            "type": "contour"
           }
          ],
          "contourcarpet": [
           {
            "colorbar": {
             "outlinewidth": 0,
             "ticks": ""
            },
            "type": "contourcarpet"
           }
          ],
          "heatmap": [
           {
            "colorbar": {
             "outlinewidth": 0,
             "ticks": ""
            },
            "colorscale": [
             [
              0,
              "#0d0887"
             ],
             [
              0.1111111111111111,
              "#46039f"
             ],
             [
              0.2222222222222222,
              "#7201a8"
             ],
             [
              0.3333333333333333,
              "#9c179e"
             ],
             [
              0.4444444444444444,
              "#bd3786"
             ],
             [
              0.5555555555555556,
              "#d8576b"
             ],
             [
              0.6666666666666666,
              "#ed7953"
             ],
             [
              0.7777777777777778,
              "#fb9f3a"
             ],
             [
              0.8888888888888888,
              "#fdca26"
             ],
             [
              1,
              "#f0f921"
             ]
            ],
            "type": "heatmap"
           }
          ],
          "heatmapgl": [
           {
            "colorbar": {
             "outlinewidth": 0,
             "ticks": ""
            },
            "colorscale": [
             [
              0,
              "#0d0887"
             ],
             [
              0.1111111111111111,
              "#46039f"
             ],
             [
              0.2222222222222222,
              "#7201a8"
             ],
             [
              0.3333333333333333,
              "#9c179e"
             ],
             [
              0.4444444444444444,
              "#bd3786"
             ],
             [
              0.5555555555555556,
              "#d8576b"
             ],
             [
              0.6666666666666666,
              "#ed7953"
             ],
             [
              0.7777777777777778,
              "#fb9f3a"
             ],
             [
              0.8888888888888888,
              "#fdca26"
             ],
             [
              1,
              "#f0f921"
             ]
            ],
            "type": "heatmapgl"
           }
          ],
          "histogram": [
           {
            "marker": {
             "pattern": {
              "fillmode": "overlay",
              "size": 10,
              "solidity": 0.2
             }
            },
            "type": "histogram"
           }
          ],
          "histogram2d": [
           {
            "colorbar": {
             "outlinewidth": 0,
             "ticks": ""
            },
            "colorscale": [
             [
              0,
              "#0d0887"
             ],
             [
              0.1111111111111111,
              "#46039f"
             ],
             [
              0.2222222222222222,
              "#7201a8"
             ],
             [
              0.3333333333333333,
              "#9c179e"
             ],
             [
              0.4444444444444444,
              "#bd3786"
             ],
             [
              0.5555555555555556,
              "#d8576b"
             ],
             [
              0.6666666666666666,
              "#ed7953"
             ],
             [
              0.7777777777777778,
              "#fb9f3a"
             ],
             [
              0.8888888888888888,
              "#fdca26"
             ],
             [
              1,
              "#f0f921"
             ]
            ],
            "type": "histogram2d"
           }
          ],
          "histogram2dcontour": [
           {
            "colorbar": {
             "outlinewidth": 0,
             "ticks": ""
            },
            "colorscale": [
             [
              0,
              "#0d0887"
             ],
             [
              0.1111111111111111,
              "#46039f"
             ],
             [
              0.2222222222222222,
              "#7201a8"
             ],
             [
              0.3333333333333333,
              "#9c179e"
             ],
             [
              0.4444444444444444,
              "#bd3786"
             ],
             [
              0.5555555555555556,
              "#d8576b"
             ],
             [
              0.6666666666666666,
              "#ed7953"
             ],
             [
              0.7777777777777778,
              "#fb9f3a"
             ],
             [
              0.8888888888888888,
              "#fdca26"
             ],
             [
              1,
              "#f0f921"
             ]
            ],
            "type": "histogram2dcontour"
           }
          ],
          "mesh3d": [
           {
            "colorbar": {
             "outlinewidth": 0,
             "ticks": ""
            },
            "type": "mesh3d"
           }
          ],
          "parcoords": [
           {
            "line": {
             "colorbar": {
              "outlinewidth": 0,
              "ticks": ""
             }
            },
            "type": "parcoords"
           }
          ],
          "pie": [
           {
            "automargin": true,
            "type": "pie"
           }
          ],
          "scatter": [
           {
            "fillpattern": {
             "fillmode": "overlay",
             "size": 10,
             "solidity": 0.2
            },
            "type": "scatter"
           }
          ],
          "scatter3d": [
           {
            "line": {
             "colorbar": {
              "outlinewidth": 0,
              "ticks": ""
             }
            },
            "marker": {
             "colorbar": {
              "outlinewidth": 0,
              "ticks": ""
             }
            },
            "type": "scatter3d"
           }
          ],
          "scattercarpet": [
           {
            "marker": {
             "colorbar": {
              "outlinewidth": 0,
              "ticks": ""
             }
            },
            "type": "scattercarpet"
           }
          ],
          "scattergeo": [
           {
            "marker": {
             "colorbar": {
              "outlinewidth": 0,
              "ticks": ""
             }
            },
            "type": "scattergeo"
           }
          ],
          "scattergl": [
           {
            "marker": {
             "colorbar": {
              "outlinewidth": 0,
              "ticks": ""
             }
            },
            "type": "scattergl"
           }
          ],
          "scattermapbox": [
           {
            "marker": {
             "colorbar": {
              "outlinewidth": 0,
              "ticks": ""
             }
            },
            "type": "scattermapbox"
           }
          ],
          "scatterpolar": [
           {
            "marker": {
             "colorbar": {
              "outlinewidth": 0,
              "ticks": ""
             }
            },
            "type": "scatterpolar"
           }
          ],
          "scatterpolargl": [
           {
            "marker": {
             "colorbar": {
              "outlinewidth": 0,
              "ticks": ""
             }
            },
            "type": "scatterpolargl"
           }
          ],
          "scatterternary": [
           {
            "marker": {
             "colorbar": {
              "outlinewidth": 0,
              "ticks": ""
             }
            },
            "type": "scatterternary"
           }
          ],
          "surface": [
           {
            "colorbar": {
             "outlinewidth": 0,
             "ticks": ""
            },
            "colorscale": [
             [
              0,
              "#0d0887"
             ],
             [
              0.1111111111111111,
              "#46039f"
             ],
             [
              0.2222222222222222,
              "#7201a8"
             ],
             [
              0.3333333333333333,
              "#9c179e"
             ],
             [
              0.4444444444444444,
              "#bd3786"
             ],
             [
              0.5555555555555556,
              "#d8576b"
             ],
             [
              0.6666666666666666,
              "#ed7953"
             ],
             [
              0.7777777777777778,
              "#fb9f3a"
             ],
             [
              0.8888888888888888,
              "#fdca26"
             ],
             [
              1,
              "#f0f921"
             ]
            ],
            "type": "surface"
           }
          ],
          "table": [
           {
            "cells": {
             "fill": {
              "color": "#EBF0F8"
             },
             "line": {
              "color": "white"
             }
            },
            "header": {
             "fill": {
              "color": "#C8D4E3"
             },
             "line": {
              "color": "white"
             }
            },
            "type": "table"
           }
          ]
         },
         "layout": {
          "annotationdefaults": {
           "arrowcolor": "#2a3f5f",
           "arrowhead": 0,
           "arrowwidth": 1
          },
          "autotypenumbers": "strict",
          "coloraxis": {
           "colorbar": {
            "outlinewidth": 0,
            "ticks": ""
           }
          },
          "colorscale": {
           "diverging": [
            [
             0,
             "#8e0152"
            ],
            [
             0.1,
             "#c51b7d"
            ],
            [
             0.2,
             "#de77ae"
            ],
            [
             0.3,
             "#f1b6da"
            ],
            [
             0.4,
             "#fde0ef"
            ],
            [
             0.5,
             "#f7f7f7"
            ],
            [
             0.6,
             "#e6f5d0"
            ],
            [
             0.7,
             "#b8e186"
            ],
            [
             0.8,
             "#7fbc41"
            ],
            [
             0.9,
             "#4d9221"
            ],
            [
             1,
             "#276419"
            ]
           ],
           "sequential": [
            [
             0,
             "#0d0887"
            ],
            [
             0.1111111111111111,
             "#46039f"
            ],
            [
             0.2222222222222222,
             "#7201a8"
            ],
            [
             0.3333333333333333,
             "#9c179e"
            ],
            [
             0.4444444444444444,
             "#bd3786"
            ],
            [
             0.5555555555555556,
             "#d8576b"
            ],
            [
             0.6666666666666666,
             "#ed7953"
            ],
            [
             0.7777777777777778,
             "#fb9f3a"
            ],
            [
             0.8888888888888888,
             "#fdca26"
            ],
            [
             1,
             "#f0f921"
            ]
           ],
           "sequentialminus": [
            [
             0,
             "#0d0887"
            ],
            [
             0.1111111111111111,
             "#46039f"
            ],
            [
             0.2222222222222222,
             "#7201a8"
            ],
            [
             0.3333333333333333,
             "#9c179e"
            ],
            [
             0.4444444444444444,
             "#bd3786"
            ],
            [
             0.5555555555555556,
             "#d8576b"
            ],
            [
             0.6666666666666666,
             "#ed7953"
            ],
            [
             0.7777777777777778,
             "#fb9f3a"
            ],
            [
             0.8888888888888888,
             "#fdca26"
            ],
            [
             1,
             "#f0f921"
            ]
           ]
          },
          "colorway": [
           "#636efa",
           "#EF553B",
           "#00cc96",
           "#ab63fa",
           "#FFA15A",
           "#19d3f3",
           "#FF6692",
           "#B6E880",
           "#FF97FF",
           "#FECB52"
          ],
          "font": {
           "color": "#2a3f5f"
          },
          "geo": {
           "bgcolor": "white",
           "lakecolor": "white",
           "landcolor": "white",
           "showlakes": true,
           "showland": true,
           "subunitcolor": "#C8D4E3"
          },
          "hoverlabel": {
           "align": "left"
          },
          "hovermode": "closest",
          "mapbox": {
           "style": "light"
          },
          "paper_bgcolor": "white",
          "plot_bgcolor": "white",
          "polar": {
           "angularaxis": {
            "gridcolor": "#EBF0F8",
            "linecolor": "#EBF0F8",
            "ticks": ""
           },
           "bgcolor": "white",
           "radialaxis": {
            "gridcolor": "#EBF0F8",
            "linecolor": "#EBF0F8",
            "ticks": ""
           }
          },
          "scene": {
           "xaxis": {
            "backgroundcolor": "white",
            "gridcolor": "#DFE8F3",
            "gridwidth": 2,
            "linecolor": "#EBF0F8",
            "showbackground": true,
            "ticks": "",
            "zerolinecolor": "#EBF0F8"
           },
           "yaxis": {
            "backgroundcolor": "white",
            "gridcolor": "#DFE8F3",
            "gridwidth": 2,
            "linecolor": "#EBF0F8",
            "showbackground": true,
            "ticks": "",
            "zerolinecolor": "#EBF0F8"
           },
           "zaxis": {
            "backgroundcolor": "white",
            "gridcolor": "#DFE8F3",
            "gridwidth": 2,
            "linecolor": "#EBF0F8",
            "showbackground": true,
            "ticks": "",
            "zerolinecolor": "#EBF0F8"
           }
          },
          "shapedefaults": {
           "line": {
            "color": "#2a3f5f"
           }
          },
          "ternary": {
           "aaxis": {
            "gridcolor": "#DFE8F3",
            "linecolor": "#A2B1C6",
            "ticks": ""
           },
           "baxis": {
            "gridcolor": "#DFE8F3",
            "linecolor": "#A2B1C6",
            "ticks": ""
           },
           "bgcolor": "white",
           "caxis": {
            "gridcolor": "#DFE8F3",
            "linecolor": "#A2B1C6",
            "ticks": ""
           }
          },
          "title": {
           "x": 0.05
          },
          "xaxis": {
           "automargin": true,
           "gridcolor": "#EBF0F8",
           "linecolor": "#EBF0F8",
           "ticks": "",
           "title": {
            "standoff": 15
           },
           "zerolinecolor": "#EBF0F8",
           "zerolinewidth": 2
          },
          "yaxis": {
           "automargin": true,
           "gridcolor": "#EBF0F8",
           "linecolor": "#EBF0F8",
           "ticks": "",
           "title": {
            "standoff": 15
           },
           "zerolinecolor": "#EBF0F8",
           "zerolinewidth": 2
          }
         }
        },
        "title": {
         "text": "Воронка конверсии пользователей по группам"
        }
       }
      },
      "text/html": [
       "<div>                            <div id=\"e0866644-cbdc-4241-95fd-5bfac3216ec5\" class=\"plotly-graph-div\" style=\"height:525px; width:100%;\"></div>            <script type=\"text/javascript\">                require([\"plotly\"], function(Plotly) {                    window.PLOTLYENV=window.PLOTLYENV || {};                                    if (document.getElementById(\"e0866644-cbdc-4241-95fd-5bfac3216ec5\")) {                    Plotly.newPlot(                        \"e0866644-cbdc-4241-95fd-5bfac3216ec5\",                        [{\"name\":\" \\u0413\\u0440\\u0443\\u043f\\u043f\\u0430 A\",\"textinfo\":\"value+percent previous\",\"x\":[2747,1780,824,872],\"y\":[\"login\",\"product_page\",\"product_cart\",\"purchase\"],\"type\":\"funnel\"},{\"name\":\"\\u0413\\u0440\\u0443\\u043f\\u043f\\u0430 B\",\"orientation\":\"h\",\"textinfo\":\"value+percent previous\",\"textposition\":\"inside\",\"x\":[927,523,255,256],\"y\":[\"login\",\"product_page\",\"product_cart\",\"purchase\"],\"type\":\"funnel\"}],                        {\"template\":{\"data\":{\"histogram2dcontour\":[{\"type\":\"histogram2dcontour\",\"colorbar\":{\"outlinewidth\":0,\"ticks\":\"\"},\"colorscale\":[[0.0,\"#0d0887\"],[0.1111111111111111,\"#46039f\"],[0.2222222222222222,\"#7201a8\"],[0.3333333333333333,\"#9c179e\"],[0.4444444444444444,\"#bd3786\"],[0.5555555555555556,\"#d8576b\"],[0.6666666666666666,\"#ed7953\"],[0.7777777777777778,\"#fb9f3a\"],[0.8888888888888888,\"#fdca26\"],[1.0,\"#f0f921\"]]}],\"choropleth\":[{\"type\":\"choropleth\",\"colorbar\":{\"outlinewidth\":0,\"ticks\":\"\"}}],\"histogram2d\":[{\"type\":\"histogram2d\",\"colorbar\":{\"outlinewidth\":0,\"ticks\":\"\"},\"colorscale\":[[0.0,\"#0d0887\"],[0.1111111111111111,\"#46039f\"],[0.2222222222222222,\"#7201a8\"],[0.3333333333333333,\"#9c179e\"],[0.4444444444444444,\"#bd3786\"],[0.5555555555555556,\"#d8576b\"],[0.6666666666666666,\"#ed7953\"],[0.7777777777777778,\"#fb9f3a\"],[0.8888888888888888,\"#fdca26\"],[1.0,\"#f0f921\"]]}],\"heatmap\":[{\"type\":\"heatmap\",\"colorbar\":{\"outlinewidth\":0,\"ticks\":\"\"},\"colorscale\":[[0.0,\"#0d0887\"],[0.1111111111111111,\"#46039f\"],[0.2222222222222222,\"#7201a8\"],[0.3333333333333333,\"#9c179e\"],[0.4444444444444444,\"#bd3786\"],[0.5555555555555556,\"#d8576b\"],[0.6666666666666666,\"#ed7953\"],[0.7777777777777778,\"#fb9f3a\"],[0.8888888888888888,\"#fdca26\"],[1.0,\"#f0f921\"]]}],\"heatmapgl\":[{\"type\":\"heatmapgl\",\"colorbar\":{\"outlinewidth\":0,\"ticks\":\"\"},\"colorscale\":[[0.0,\"#0d0887\"],[0.1111111111111111,\"#46039f\"],[0.2222222222222222,\"#7201a8\"],[0.3333333333333333,\"#9c179e\"],[0.4444444444444444,\"#bd3786\"],[0.5555555555555556,\"#d8576b\"],[0.6666666666666666,\"#ed7953\"],[0.7777777777777778,\"#fb9f3a\"],[0.8888888888888888,\"#fdca26\"],[1.0,\"#f0f921\"]]}],\"contourcarpet\":[{\"type\":\"contourcarpet\",\"colorbar\":{\"outlinewidth\":0,\"ticks\":\"\"}}],\"contour\":[{\"type\":\"contour\",\"colorbar\":{\"outlinewidth\":0,\"ticks\":\"\"},\"colorscale\":[[0.0,\"#0d0887\"],[0.1111111111111111,\"#46039f\"],[0.2222222222222222,\"#7201a8\"],[0.3333333333333333,\"#9c179e\"],[0.4444444444444444,\"#bd3786\"],[0.5555555555555556,\"#d8576b\"],[0.6666666666666666,\"#ed7953\"],[0.7777777777777778,\"#fb9f3a\"],[0.8888888888888888,\"#fdca26\"],[1.0,\"#f0f921\"]]}],\"surface\":[{\"type\":\"surface\",\"colorbar\":{\"outlinewidth\":0,\"ticks\":\"\"},\"colorscale\":[[0.0,\"#0d0887\"],[0.1111111111111111,\"#46039f\"],[0.2222222222222222,\"#7201a8\"],[0.3333333333333333,\"#9c179e\"],[0.4444444444444444,\"#bd3786\"],[0.5555555555555556,\"#d8576b\"],[0.6666666666666666,\"#ed7953\"],[0.7777777777777778,\"#fb9f3a\"],[0.8888888888888888,\"#fdca26\"],[1.0,\"#f0f921\"]]}],\"mesh3d\":[{\"type\":\"mesh3d\",\"colorbar\":{\"outlinewidth\":0,\"ticks\":\"\"}}],\"scatter\":[{\"fillpattern\":{\"fillmode\":\"overlay\",\"size\":10,\"solidity\":0.2},\"type\":\"scatter\"}],\"parcoords\":[{\"type\":\"parcoords\",\"line\":{\"colorbar\":{\"outlinewidth\":0,\"ticks\":\"\"}}}],\"scatterpolargl\":[{\"type\":\"scatterpolargl\",\"marker\":{\"colorbar\":{\"outlinewidth\":0,\"ticks\":\"\"}}}],\"bar\":[{\"error_x\":{\"color\":\"#2a3f5f\"},\"error_y\":{\"color\":\"#2a3f5f\"},\"marker\":{\"line\":{\"color\":\"white\",\"width\":0.5},\"pattern\":{\"fillmode\":\"overlay\",\"size\":10,\"solidity\":0.2}},\"type\":\"bar\"}],\"scattergeo\":[{\"type\":\"scattergeo\",\"marker\":{\"colorbar\":{\"outlinewidth\":0,\"ticks\":\"\"}}}],\"scatterpolar\":[{\"type\":\"scatterpolar\",\"marker\":{\"colorbar\":{\"outlinewidth\":0,\"ticks\":\"\"}}}],\"histogram\":[{\"marker\":{\"pattern\":{\"fillmode\":\"overlay\",\"size\":10,\"solidity\":0.2}},\"type\":\"histogram\"}],\"scattergl\":[{\"type\":\"scattergl\",\"marker\":{\"colorbar\":{\"outlinewidth\":0,\"ticks\":\"\"}}}],\"scatter3d\":[{\"type\":\"scatter3d\",\"line\":{\"colorbar\":{\"outlinewidth\":0,\"ticks\":\"\"}},\"marker\":{\"colorbar\":{\"outlinewidth\":0,\"ticks\":\"\"}}}],\"scattermapbox\":[{\"type\":\"scattermapbox\",\"marker\":{\"colorbar\":{\"outlinewidth\":0,\"ticks\":\"\"}}}],\"scatterternary\":[{\"type\":\"scatterternary\",\"marker\":{\"colorbar\":{\"outlinewidth\":0,\"ticks\":\"\"}}}],\"scattercarpet\":[{\"type\":\"scattercarpet\",\"marker\":{\"colorbar\":{\"outlinewidth\":0,\"ticks\":\"\"}}}],\"carpet\":[{\"aaxis\":{\"endlinecolor\":\"#2a3f5f\",\"gridcolor\":\"#C8D4E3\",\"linecolor\":\"#C8D4E3\",\"minorgridcolor\":\"#C8D4E3\",\"startlinecolor\":\"#2a3f5f\"},\"baxis\":{\"endlinecolor\":\"#2a3f5f\",\"gridcolor\":\"#C8D4E3\",\"linecolor\":\"#C8D4E3\",\"minorgridcolor\":\"#C8D4E3\",\"startlinecolor\":\"#2a3f5f\"},\"type\":\"carpet\"}],\"table\":[{\"cells\":{\"fill\":{\"color\":\"#EBF0F8\"},\"line\":{\"color\":\"white\"}},\"header\":{\"fill\":{\"color\":\"#C8D4E3\"},\"line\":{\"color\":\"white\"}},\"type\":\"table\"}],\"barpolar\":[{\"marker\":{\"line\":{\"color\":\"white\",\"width\":0.5},\"pattern\":{\"fillmode\":\"overlay\",\"size\":10,\"solidity\":0.2}},\"type\":\"barpolar\"}],\"pie\":[{\"automargin\":true,\"type\":\"pie\"}]},\"layout\":{\"autotypenumbers\":\"strict\",\"colorway\":[\"#636efa\",\"#EF553B\",\"#00cc96\",\"#ab63fa\",\"#FFA15A\",\"#19d3f3\",\"#FF6692\",\"#B6E880\",\"#FF97FF\",\"#FECB52\"],\"font\":{\"color\":\"#2a3f5f\"},\"hovermode\":\"closest\",\"hoverlabel\":{\"align\":\"left\"},\"paper_bgcolor\":\"white\",\"plot_bgcolor\":\"white\",\"polar\":{\"bgcolor\":\"white\",\"angularaxis\":{\"gridcolor\":\"#EBF0F8\",\"linecolor\":\"#EBF0F8\",\"ticks\":\"\"},\"radialaxis\":{\"gridcolor\":\"#EBF0F8\",\"linecolor\":\"#EBF0F8\",\"ticks\":\"\"}},\"ternary\":{\"bgcolor\":\"white\",\"aaxis\":{\"gridcolor\":\"#DFE8F3\",\"linecolor\":\"#A2B1C6\",\"ticks\":\"\"},\"baxis\":{\"gridcolor\":\"#DFE8F3\",\"linecolor\":\"#A2B1C6\",\"ticks\":\"\"},\"caxis\":{\"gridcolor\":\"#DFE8F3\",\"linecolor\":\"#A2B1C6\",\"ticks\":\"\"}},\"coloraxis\":{\"colorbar\":{\"outlinewidth\":0,\"ticks\":\"\"}},\"colorscale\":{\"sequential\":[[0.0,\"#0d0887\"],[0.1111111111111111,\"#46039f\"],[0.2222222222222222,\"#7201a8\"],[0.3333333333333333,\"#9c179e\"],[0.4444444444444444,\"#bd3786\"],[0.5555555555555556,\"#d8576b\"],[0.6666666666666666,\"#ed7953\"],[0.7777777777777778,\"#fb9f3a\"],[0.8888888888888888,\"#fdca26\"],[1.0,\"#f0f921\"]],\"sequentialminus\":[[0.0,\"#0d0887\"],[0.1111111111111111,\"#46039f\"],[0.2222222222222222,\"#7201a8\"],[0.3333333333333333,\"#9c179e\"],[0.4444444444444444,\"#bd3786\"],[0.5555555555555556,\"#d8576b\"],[0.6666666666666666,\"#ed7953\"],[0.7777777777777778,\"#fb9f3a\"],[0.8888888888888888,\"#fdca26\"],[1.0,\"#f0f921\"]],\"diverging\":[[0,\"#8e0152\"],[0.1,\"#c51b7d\"],[0.2,\"#de77ae\"],[0.3,\"#f1b6da\"],[0.4,\"#fde0ef\"],[0.5,\"#f7f7f7\"],[0.6,\"#e6f5d0\"],[0.7,\"#b8e186\"],[0.8,\"#7fbc41\"],[0.9,\"#4d9221\"],[1,\"#276419\"]]},\"xaxis\":{\"gridcolor\":\"#EBF0F8\",\"linecolor\":\"#EBF0F8\",\"ticks\":\"\",\"title\":{\"standoff\":15},\"zerolinecolor\":\"#EBF0F8\",\"automargin\":true,\"zerolinewidth\":2},\"yaxis\":{\"gridcolor\":\"#EBF0F8\",\"linecolor\":\"#EBF0F8\",\"ticks\":\"\",\"title\":{\"standoff\":15},\"zerolinecolor\":\"#EBF0F8\",\"automargin\":true,\"zerolinewidth\":2},\"scene\":{\"xaxis\":{\"backgroundcolor\":\"white\",\"gridcolor\":\"#DFE8F3\",\"linecolor\":\"#EBF0F8\",\"showbackground\":true,\"ticks\":\"\",\"zerolinecolor\":\"#EBF0F8\",\"gridwidth\":2},\"yaxis\":{\"backgroundcolor\":\"white\",\"gridcolor\":\"#DFE8F3\",\"linecolor\":\"#EBF0F8\",\"showbackground\":true,\"ticks\":\"\",\"zerolinecolor\":\"#EBF0F8\",\"gridwidth\":2},\"zaxis\":{\"backgroundcolor\":\"white\",\"gridcolor\":\"#DFE8F3\",\"linecolor\":\"#EBF0F8\",\"showbackground\":true,\"ticks\":\"\",\"zerolinecolor\":\"#EBF0F8\",\"gridwidth\":2}},\"shapedefaults\":{\"line\":{\"color\":\"#2a3f5f\"}},\"annotationdefaults\":{\"arrowcolor\":\"#2a3f5f\",\"arrowhead\":0,\"arrowwidth\":1},\"geo\":{\"bgcolor\":\"white\",\"landcolor\":\"white\",\"subunitcolor\":\"#C8D4E3\",\"showland\":true,\"showlakes\":true,\"lakecolor\":\"white\"},\"title\":{\"x\":0.05},\"mapbox\":{\"style\":\"light\"}}},\"title\":{\"text\":\"\\u0412\\u043e\\u0440\\u043e\\u043d\\u043a\\u0430 \\u043a\\u043e\\u043d\\u0432\\u0435\\u0440\\u0441\\u0438\\u0438 \\u043f\\u043e\\u043b\\u044c\\u0437\\u043e\\u0432\\u0430\\u0442\\u0435\\u043b\\u0435\\u0439 \\u043f\\u043e \\u0433\\u0440\\u0443\\u043f\\u043f\\u0430\\u043c\"}},                        {\"responsive\": true}                    ).then(function(){\n",
       "                            \n",
       "var gd = document.getElementById('e0866644-cbdc-4241-95fd-5bfac3216ec5');\n",
       "var x = new MutationObserver(function (mutations, observer) {{\n",
       "        var display = window.getComputedStyle(gd).display;\n",
       "        if (!display || display === 'none') {{\n",
       "            console.log([gd, 'removed!']);\n",
       "            Plotly.purge(gd);\n",
       "            observer.disconnect();\n",
       "        }}\n",
       "}});\n",
       "\n",
       "// Listen for the removal of the full notebook cells\n",
       "var notebookContainer = gd.closest('#notebook-container');\n",
       "if (notebookContainer) {{\n",
       "    x.observe(notebookContainer, {childList: true});\n",
       "}}\n",
       "\n",
       "// Listen for the clearing of the current output cell\n",
       "var outputEl = gd.closest('.output');\n",
       "if (outputEl) {{\n",
       "    x.observe(outputEl, {childList: true});\n",
       "}}\n",
       "\n",
       "                        })                };                });            </script>        </div>"
      ]
     },
     "metadata": {},
     "output_type": "display_data"
    }
   ],
   "source": [
    "logs_funnel = recommender_system_test.groupby(['group', 'event_name'],as_index=False)\\\n",
    ".agg({'user_id': 'nunique'})\n",
    "\n",
    "# вводим новый столбецс нумерацией событий\n",
    "logs_funnel['step'] = logs_funnel.apply(steps, axis=1)\n",
    "\n",
    "# Фильтруем но столбцу step для корректного отображения воронки\n",
    "logs_funnel = logs_funnel.sort_values(by='step')\n",
    "\n",
    "logs_funnel_A = logs_funnel.query('group == \"A\"')\n",
    "logs_funnel_B = logs_funnel.query('group == \"B\"')\n",
    "\n",
    "\n",
    "# Строим график\n",
    "fig = go.Figure()\n",
    "\n",
    "fig.add_trace(go.Funnel(\n",
    "    name = ' Группа A',\n",
    "    y = logs_funnel_A['event_name'],\n",
    "    x = logs_funnel_A['user_id'],\n",
    "    textinfo = \"value + percent previous\"))\n",
    "\n",
    "fig.add_trace(go.Funnel(\n",
    "    name = 'Группа B',\n",
    "    orientation = \"h\",\n",
    "    y = logs_funnel_B['event_name'],\n",
    "    x = logs_funnel_B['user_id'],\n",
    "    textposition = \"inside\",\n",
    "    textinfo = \"value + percent previous\"))\n",
    "\n",
    "\n",
    "fig.update_layout(title_text='Воронка конверсии пользователей по группам')\n",
    "fig.show()"
   ]
  },
  {
   "cell_type": "markdown",
   "id": "dc4c179e",
   "metadata": {},
   "source": [
    "Больше всего пользователей теряется на шаге перехода со страницы продукта в корзину товаров - меньше половины пользователей доходят до корзины. В тоже время на шаге перехода из корзины к оплате у обеих групп число пользователей прибавляется. Вероятно, у пользователей есть возможность сразу купить товар, не переходя в корзину.\n",
    "\n",
    "Стоит обратить внимание и изучить вопрос, почему после просмотра страницы товара большинство пользователей теряются и в итоге не совершают покупку."
   ]
  },
  {
   "cell_type": "markdown",
   "id": "cd21244c",
   "metadata": {},
   "source": [
    "<div class=\"alert alert-block alert-danger\">✍\n",
    "    \n",
    "\n",
    "__Комментарий от тимлида №1__\n",
    "\n",
    "Здорово, что используешь такой инструмент как Funnel. Но были упущены некоторые нюансы:\n",
    "\n",
    "* Воронка строится по количеству уникальных пользователей, а не по количеству событий.  Исследование воронки позволяет визуализировать шаги пользователей на пути к выполнению целевого действия, насколько успешно клиенты проходят каждый из этапов (у нас всего ты вывела ранее в группе А 2700 пользоваталей, а тут 8.5к)\n",
    "    \n",
    "* Воронка должна завершаться целевым действием оплата. Тебе надо самостоятельно задать очередность этапов. Это можно реализовать с помощью `reindex()` - https://pandas.pydata.org/docs/reference/api/pandas.DataFrame.reindex.html\n",
    "    \n",
    "* Обрати, пожалуйста, внимание, что воронка должна заканчиваться целевым действием (оплата), но на графике - последнее событие продуктовая карта, т.е. основная цель пользователя - просмотр продуктовой корзины, что является не совсем корректно. Тут стоит поменять местами\n",
    "    \n",
    "* Заголовок воронки\n",
    "</div>"
   ]
  },
  {
   "cell_type": "markdown",
   "id": "55656cfb",
   "metadata": {},
   "source": [
    "<div class=\"alert alert-info\"> <b>Комментарии студента:\n",
    "    </b> Со значениями воронки действительно косяк, исправила. По поводу шагов - у меня все отображается верно. Я реализовала не через reindex (хотя полезно знать на будущее, спасибо), а более извращенным способом - создала отдельный столбец с нумерацией событий и отфильтровала по нему. У меня дейсвительно получается кривоватая воронка - событий с корзиной немного меньше, чем событий с оплатой. Я в комментариях предположила, почему так проиходит.</div>\n",
    "    "
   ]
  },
  {
   "cell_type": "markdown",
   "id": "b39a85d7",
   "metadata": {},
   "source": [
    "#### Особенности данных для АБ-тестирования"
   ]
  },
  {
   "cell_type": "markdown",
   "id": "4a4bc9da",
   "metadata": {},
   "source": [
    "Критерии успешного A/B-теста:\n",
    "\n",
    "1. Достаточное количество пользователей.\n",
    "\n",
    "2. Выдерживать запланированную длительность теста. Рекомендованная длительность - не менее 2 недель. Также нет смысла сильно затягивать тест\n",
    "\n",
    "3. Желательно, чтобы проведение теста не пересекалось с проведением других тестов (особенно конкурирующего)\n",
    "\n",
    "4. Корректное деление трафика\n",
    "\n",
    "6. Различие ключевых метрик по группам не превышает 1% и не имеет статистической значимости\n",
    "\n",
    "7. Отсутвие пересечение пользователей в группах."
   ]
  },
  {
   "cell_type": "markdown",
   "id": "ffc5635c",
   "metadata": {},
   "source": [
    "<div class=\"alert alert-block alert-warning\">📝\n",
    "    \n",
    "\n",
    "__Комментарий от тимлида №1__\n",
    "\n",
    "Равный размер групп дает оптимальную длительность теста, но, вообще, группы просто должны быть достаточно большими и не обязательно равными.\n",
    "    \n",
    "---\n",
    "    \n",
    "Вот здесь подробно расписано, что не все так страшно в несбалансированных выборках\n",
    "    \n",
    "https://medium.com/statistics-experiments/%D0%B4%D0%B8%D1%81%D0%B1%D0%B0%D0%BB%D0%B0%D0%BD%D1%81-%D0%B2-a-b-%D1%82%D0%B5%D1%81%D1%82%D0%B0%D1%85-%D0%B5%D1%81%D1%82%D1%8C-%D0%BB%D0%B8-%D1%80%D0%B0%D0%B7%D0%BD%D0%B8%D1%86%D0%B0-%D0%BC%D0%B5%D0%B6%D0%B4%D1%83-99-1-%D0%B8-50-50-%D0%B2-%D1%8D%D0%BA%D1%81%D0%BF%D0%B5%D1%80%D0%B8%D0%BC%D0%B5%D0%BD%D1%82%D0%B0%D1%85-11c8f4fe7eb4\n",
    "</div>"
   ]
  },
  {
   "cell_type": "markdown",
   "id": "d682eb63",
   "metadata": {},
   "source": [
    "<div class=\"alert alert-info\"> <b>Комментарии студента:\n",
    "    </b> Эх, а в практикуме такого не было :) Учту, спасибо</div>\n",
    "    "
   ]
  },
  {
   "cell_type": "markdown",
   "id": "8458a162",
   "metadata": {},
   "source": [
    "### А/Б-тестирование"
   ]
  },
  {
   "cell_type": "markdown",
   "id": "db350533",
   "metadata": {},
   "source": [
    "#### Выводы по используемым данным"
   ]
  },
  {
   "cell_type": "markdown",
   "id": "5d85c549",
   "metadata": {},
   "source": [
    "При сборе данных для теста, были найдены следующие ошибки:\n",
    "\n",
    "\n",
    "* Данные по проведению АБ-теста предоставлены за промежуток с 7 декабря по 30 декабря 2020 года, хотя в ТЗ заявлено, что проведение теста было запланировано с 7 декабря 2020 по 4 января 2021 года. Не хватает данных за 5 дней. Это может означать, что тест остановлен слишком рано либо были выгружены не все данные\n",
    "\n",
    "* Тест recommender_system_test проводился параллельно с конкурирующим тестом interface_eu_test. Много пользователей стало участниками обоих тестов\n",
    "\n",
    "* Контрольная группа А почти в 3 раза больше тестовой группы B, что может давать серьезные искажения результатов. Это может быть связано с ошибками, допущенными при формировании групп и наборе участников для проведения теста\n",
    "\n",
    "* Проведение теста пересекается с маркетинговым событием Christmas&New Year Promo в течение 5 дней, что так же может давать серьезные искажения. В случае исключения временного периода этого пересечения теряются данные за 5 дней\n",
    "\n",
    "В целом проведение теста можно назвать **неудовлетворительным**, так как нарушены ключевые кретерии проведения А/Б-тестирования и результаты дают искажение"
   ]
  },
  {
   "cell_type": "markdown",
   "id": "8f470385",
   "metadata": {},
   "source": [
    "#### Проведение А/Б-теста"
   ]
  },
  {
   "cell_type": "markdown",
   "id": "70bdbc72",
   "metadata": {},
   "source": [
    "Для проверки гипотез воспользуемся Z-критерием. Так как мы проводим множественное сравнение, применим метод Бонферрони (поправка Бонферрони). В нашем случае мы будем проводить 4 теста, следовательно, bonferroni_alpha будет равно alpha / 4."
   ]
  },
  {
   "cell_type": "markdown",
   "id": "c3eb96fc",
   "metadata": {},
   "source": [
    "Нулевая гипотеза: Разница между долями участвующих в событии пользователей в группах статистически незначима.\n",
    "\n",
    "Альтернативная гипотеза: Разница между долями участвующих в событии пользователей в группах статистически значима."
   ]
  },
  {
   "cell_type": "markdown",
   "id": "01dd2d07",
   "metadata": {},
   "source": [
    "<div class=\"alert alert-block alert-success\">✔️\n",
    "    \n",
    "\n",
    "__Комментарий от тимлида №1__\n",
    "\n",
    "Верная интерпретация нулевой и альтернативной гипотез\n",
    "</div>"
   ]
  },
  {
   "cell_type": "code",
   "execution_count": 111,
   "id": "06bfcc06",
   "metadata": {},
   "outputs": [],
   "source": [
    "# Задаем уровень статистической значимости\n",
    "\n",
    "alpha = 0.05\n",
    "bonferroni_alpha = alpha / 4"
   ]
  },
  {
   "cell_type": "code",
   "execution_count": 115,
   "id": "d5f9fad2",
   "metadata": {},
   "outputs": [],
   "source": [
    "# Функция для расчета статистической значимости\n",
    "def z_test(group_a, group_b, event, alpha):\n",
    "    event_users = np.array([test_event.loc[event, group_a],\n",
    "                           test_event.loc[event, group_b]])\n",
    "    total_users = np.array([test_users.loc[group_a, 'user_id'],\n",
    "                           test_users.loc[group_b, 'user_id']])\n",
    "    \n",
    "    # Пропорция в первой группе\n",
    "    p1 = event_users[0]/total_users[0]\n",
    "    \n",
    "    # Пропорция в первой группе\n",
    "    p2 = event_users[1]/total_users[1]\n",
    "    \n",
    "#     print(event_users[0], event_users[1], total_users[0], total_users[1])\n",
    "    \n",
    "    # Пропорция в комбинированном датасете\n",
    "    p_combined = (event_users[0] + event_users[1]) / (total_users[0] + total_users[1])\n",
    "    \n",
    "    # разница пропорций в датасетах\n",
    "    difference = p1 - p2\n",
    "    \n",
    "    # стандартная для критерия со стандартным нормальным распределением\n",
    "    z_value = difference / mth.sqrt(\n",
    "        p_combined * (1 - p_combined) * (1 / total_users[0] + 1 / total_users[1])\n",
    "    )\n",
    "    \n",
    "    # задаем стандартное нормальное распределение (среднее 0, ст.отклонение 1)    \n",
    "    distr = st.norm(0, 1)\n",
    "    \n",
    "    p_value = (1 - distr.cdf(abs(z_value))) * 2\n",
    "    \n",
    "\n",
    "    print('Проверка для групп {} и {}, событие: {}, p-значение: {p_value:.6f}'\\\n",
    "          .format(group_a, group_b, event, p_value=p_value))\n",
    "    if p_value < alpha:\n",
    "        print('Отвергаем нулевую гипотезу: между долями есть значимая разница')\n",
    "    else:\n",
    "        print('Не получилось отвергнуть нулевую гипотезу, нет оснований считать доли разными')"
   ]
  },
  {
   "cell_type": "code",
   "execution_count": 110,
   "id": "8a3c1306",
   "metadata": {},
   "outputs": [
    {
     "data": {
      "text/html": [
       "<div>\n",
       "<style scoped>\n",
       "    .dataframe tbody tr th:only-of-type {\n",
       "        vertical-align: middle;\n",
       "    }\n",
       "\n",
       "    .dataframe tbody tr th {\n",
       "        vertical-align: top;\n",
       "    }\n",
       "\n",
       "    .dataframe thead th {\n",
       "        text-align: right;\n",
       "    }\n",
       "</style>\n",
       "<table border=\"1\" class=\"dataframe\">\n",
       "  <thead>\n",
       "    <tr style=\"text-align: right;\">\n",
       "      <th></th>\n",
       "      <th>user_id</th>\n",
       "    </tr>\n",
       "    <tr>\n",
       "      <th>group</th>\n",
       "      <th></th>\n",
       "    </tr>\n",
       "  </thead>\n",
       "  <tbody>\n",
       "    <tr>\n",
       "      <th>A</th>\n",
       "      <td>2747</td>\n",
       "    </tr>\n",
       "    <tr>\n",
       "      <th>B</th>\n",
       "      <td>928</td>\n",
       "    </tr>\n",
       "  </tbody>\n",
       "</table>\n",
       "</div>"
      ],
      "text/plain": [
       "       user_id\n",
       "group         \n",
       "A         2747\n",
       "B          928"
      ]
     },
     "metadata": {},
     "output_type": "display_data"
    },
    {
     "data": {
      "text/html": [
       "<div>\n",
       "<style scoped>\n",
       "    .dataframe tbody tr th:only-of-type {\n",
       "        vertical-align: middle;\n",
       "    }\n",
       "\n",
       "    .dataframe tbody tr th {\n",
       "        vertical-align: top;\n",
       "    }\n",
       "\n",
       "    .dataframe thead th {\n",
       "        text-align: right;\n",
       "    }\n",
       "</style>\n",
       "<table border=\"1\" class=\"dataframe\">\n",
       "  <thead>\n",
       "    <tr style=\"text-align: right;\">\n",
       "      <th>group</th>\n",
       "      <th>A</th>\n",
       "      <th>B</th>\n",
       "    </tr>\n",
       "    <tr>\n",
       "      <th>event_name</th>\n",
       "      <th></th>\n",
       "      <th></th>\n",
       "    </tr>\n",
       "  </thead>\n",
       "  <tbody>\n",
       "    <tr>\n",
       "      <th>login</th>\n",
       "      <td>2747</td>\n",
       "      <td>927</td>\n",
       "    </tr>\n",
       "    <tr>\n",
       "      <th>product_cart</th>\n",
       "      <td>824</td>\n",
       "      <td>255</td>\n",
       "    </tr>\n",
       "    <tr>\n",
       "      <th>product_page</th>\n",
       "      <td>1780</td>\n",
       "      <td>523</td>\n",
       "    </tr>\n",
       "    <tr>\n",
       "      <th>purchase</th>\n",
       "      <td>872</td>\n",
       "      <td>256</td>\n",
       "    </tr>\n",
       "  </tbody>\n",
       "</table>\n",
       "</div>"
      ],
      "text/plain": [
       "group            A    B\n",
       "event_name             \n",
       "login         2747  927\n",
       "product_cart   824  255\n",
       "product_page  1780  523\n",
       "purchase       872  256"
      ]
     },
     "metadata": {},
     "output_type": "display_data"
    }
   ],
   "source": [
    "# Подготовка данных для анализа\n",
    "\n",
    "test_users = recommender_system_test.groupby('group').agg({'user_id': 'nunique'})\n",
    "\n",
    "display(test_users)\n",
    "\n",
    "\n",
    "test_event = recommender_system_test.pivot_table(index='event_name', columns='group',values='user_id',aggfunc='nunique')\\\n",
    "\n",
    "\n",
    "display(test_event)"
   ]
  },
  {
   "cell_type": "markdown",
   "id": "e9e9b064",
   "metadata": {},
   "source": [
    "<div class=\"alert alert-block alert-danger\">✍\n",
    "    \n",
    "\n",
    "__Комментарий от ревьюера №1__\n",
    "\n",
    "Мы рассматриваем проверки в рамках одного датасета. При каждой проверке какой-либо выборки из данных, мы увеличиваем вероятность получить ошибку.   \n",
    "  \n",
    "К тому же, события в воронке зависимы друг от друга, иначе это не было бы воронкой. У тебя несколько проверок на каждый этап воронки.\n",
    "  \n",
    "Соответственно у нас получаются сравнения внутри группы и между групп = 1*4 = 4 события. Именно на столько и нужно сделать корректировку. А ты делишь на 8\n",
    "    "
   ]
  },
  {
   "cell_type": "markdown",
   "id": "4c82d09a",
   "metadata": {},
   "source": [
    "<div class=\"alert alert-info\"> <b>Комментарии студента:\n",
    "    </b> Тут я решила поступить следующим образом: вначале провести стат тест с текущими данными,а потом отфильтровать аномалии (пересекающиеся пользователи, даты, совпадающие с ивентом и так далее) и провести тест еще раз. Отсюда и бралось деление на 8. Есть ли в этом смысл? Я весь код закомментирую пока. </div>\n",
    "    "
   ]
  },
  {
   "cell_type": "code",
   "execution_count": 116,
   "id": "d8dec5cb",
   "metadata": {},
   "outputs": [
    {
     "name": "stdout",
     "output_type": "stream",
     "text": [
      "Проверка для групп A и B, событие: login, p-значение: 0.085299\n",
      "Не получилось отвергнуть нулевую гипотезу, нет оснований считать доли разными\n",
      "\n",
      "Проверка для групп A и B, событие: product_cart, p-значение: 0.145348\n",
      "Не получилось отвергнуть нулевую гипотезу, нет оснований считать доли разными\n",
      "\n",
      "Проверка для групп A и B, событие: product_page, p-значение: 0.000004\n",
      "Отвергаем нулевую гипотезу: между долями есть значимая разница\n",
      "\n",
      "Проверка для групп A и B, событие: purchase, p-значение: 0.017592\n",
      "Не получилось отвергнуть нулевую гипотезу, нет оснований считать доли разными\n",
      "\n"
     ]
    }
   ],
   "source": [
    "for event in test_event.index:\n",
    "    z_test('A', 'B', event, bonferroni_alpha)\n",
    "    print()"
   ]
  },
  {
   "cell_type": "markdown",
   "id": "761babb7",
   "metadata": {},
   "source": [
    "При проведении статистических тестов только в одном тесте отвергнуть нулевую гипотезу - при просмотре страницы товара. Это означает, что во всех остальных событиях нет основания считать, что конверсия изменилась."
   ]
  },
  {
   "cell_type": "markdown",
   "id": "a135442e",
   "metadata": {},
   "source": [
    "<div class=\"alert alert-info\"> <b>Комментарии студента:\n",
    "    </b> Вот отсюда я проводила второй тест.</div>\n",
    "    "
   ]
  },
  {
   "cell_type": "markdown",
   "id": "3b5751e3",
   "metadata": {},
   "source": [
    "Попробуем очистить данные и провести тест заново, а именно:\n",
    "* Убрать все события, пересекающиеся и ивентом (с 25 декабря 2020)\n",
    "* Убрать всех пользователей, которые одновременно учавствовали во втором тесте"
   ]
  },
  {
   "cell_type": "code",
   "execution_count": 121,
   "id": "bb0835f8",
   "metadata": {},
   "outputs": [],
   "source": [
    "# # Фильтруем данные\n",
    "# recommender_system_test_filtered = recommender_system_test.query('event_dt < \"2020-12-25 00:00:00\" & user_id not in @users_in_both_test')\n",
    "\n",
    "# # Подготовка данных для анализа\n",
    "# test_users = recommender_system_test_filtered.groupby('group').agg({'user_id': 'nunique'})\n",
    "# test_event = recommender_system_test_filtered.pivot_table(index='event_name', columns='group',values='user_id',aggfunc='nunique')\\\n",
    "\n",
    "# for event in test_event.index:\n",
    "#     z_test('A', 'B', event, bonferroni_alpha)\n",
    "#     print()"
   ]
  },
  {
   "cell_type": "markdown",
   "id": "3f85b4d6",
   "metadata": {},
   "source": [
    "Даже после очистки данных результаты теста не изменились."
   ]
  },
  {
   "cell_type": "markdown",
   "id": "002775a7",
   "metadata": {},
   "source": [
    "<div class=\"alert alert-block alert-danger\">✍\n",
    "    \n",
    "\n",
    "__Комментарий от тимлида №1__\n",
    "\n",
    "А что это?\n",
    "</div>"
   ]
  },
  {
   "cell_type": "markdown",
   "id": "decaabf4",
   "metadata": {},
   "source": [
    "### Выводы и рекомендации"
   ]
  },
  {
   "cell_type": "markdown",
   "id": "e86c6001",
   "metadata": {},
   "source": [
    "Проведение теста  **неудовлетворительны**, они не могут быть взяты в работу, так как нарушены ключевые критерии проведения АБ-тестирования и результаты дают искажение. А именно:\n",
    "\n",
    "* Данные по проведению АБ-теста предоставлены за промежуток с 7 декабря по 30 декабря 2020 года, хотя в ТЗ заявлено, что проведение теста было запланировано с 7 декабря 2020 по 4 января 2021 года. Не хватает данных за 5 дней. Это может означать, что тест остановлен слишком рано либо были выгружены не все данные\n",
    "\n",
    "* Тест recommender_system_test проводился параллельно с конкурирующим тестом interface_eu_test. Много пользователей стало участниками обоих тестов, в том числе попали в тестовые группы (Б) обоих тестов\n",
    "\n",
    "* Контрольная группа А почти в 3 раза больше тестовой группы B, что может давать серьезные искажения результатов. Это может быть связано с ошибками, допущенными при формировании групп и наборе участников для проведения теста\n",
    "\n",
    "* Проведение теста пересекается с маркетинговым событием Christmas&New Year Promo в течение 5 дней, что так же может давать серьезные искажения. В случае исключения временного периода этого пересечения теряются данные за 5 дней\n",
    "\n",
    "**Рекомендации:**\n",
    "\n",
    "* Проверить условия проведения теста на наличие технических проблем и сбоев, чтобы не допустить сбор данных с ошибками в дальнейшем\n",
    "* По возможности не проводить конкурирующие тесты одновременно\n",
    "* При проведение А/Б-тестов учесть периоды маркетинговых событий"
   ]
  },
  {
   "cell_type": "markdown",
   "id": "bfa26036",
   "metadata": {},
   "source": [
    "<div class=\"alert alert-block alert-warning\">📝\n",
    "    \n",
    "\n",
    "__Комментарий от тимлида №1__\n",
    "\n",
    "Итоговый вывод завершает твое исследование. Представлены основные результаты полученные в ходе анализа, но самое главное - даны рекомендации по проведению АВ-теста. Это важное качество для аналитика. Развивай его и дальше\n",
    "    \n",
    "---\n",
    "    \n",
    "Не забудь, пожалуйста, подкорретировать вывод после правок\n",
    "\n",
    "</div>"
   ]
  },
  {
   "cell_type": "markdown",
   "id": "f2d9cc13",
   "metadata": {},
   "source": []
  },
  {
   "cell_type": "markdown",
   "id": "ded10f36",
   "metadata": {},
   "source": []
  },
  {
   "cell_type": "markdown",
   "id": "008335b5",
   "metadata": {},
   "source": [
    "<div class=\"alert alert-block alert-warning\">📝\n",
    "Комментарий от тимлида №1 </b> \n",
    "\n",
    "\n",
    "\n",
    "У тебя получилась очень сильная и хорошая работа. Здорово, что расчеты ты сопровождаешь иллюстрациями, а так же не забываешь про комментарии, твой проект интересно проверять. \n",
    "\n",
    "---\n",
    "\n",
    "Нужно поправить:\n",
    "\n",
    "1) Даты\n",
    "\n",
    "2) Пересеченные пользователи внутри теста\n",
    "\n",
    "3) Оформление графиков\n",
    "\n",
    "4) Lifetime событий\n",
    "\n",
    "5) Количества событий по дням в каждой группе\n",
    "\n",
    "6) Воронка\n",
    "\n",
    "7) Поправка Бонферрони\n",
    "\n",
    "8) Подправить выводы, после изменений\n",
    "\n",
    "----\n",
    "\n",
    "\n",
    "Если у тебя будут какие-то вопросы по моим комментариям - обязательно пиши! Буду ждать работу на повторное ревью :)</div>"
   ]
  },
  {
   "cell_type": "code",
   "execution_count": null,
   "id": "5018d01b",
   "metadata": {},
   "outputs": [],
   "source": []
  }
 ],
 "metadata": {
  "ExecuteTimeLog": [
   {
    "duration": 1263,
    "start_time": "2023-04-13T00:24:04.171Z"
   },
   {
    "duration": 157,
    "start_time": "2023-04-13T00:24:05.436Z"
   },
   {
    "duration": 681,
    "start_time": "2023-04-13T00:24:05.595Z"
   },
   {
    "duration": 29,
    "start_time": "2023-04-13T00:24:06.278Z"
   },
   {
    "duration": 92,
    "start_time": "2023-04-13T00:24:06.308Z"
   },
   {
    "duration": 142,
    "start_time": "2023-04-13T00:24:06.402Z"
   },
   {
    "duration": 286,
    "start_time": "2023-04-13T00:24:06.546Z"
   },
   {
    "duration": 82,
    "start_time": "2023-04-13T00:24:06.834Z"
   },
   {
    "duration": 40,
    "start_time": "2023-04-13T00:24:06.918Z"
   },
   {
    "duration": 51,
    "start_time": "2023-04-13T00:24:06.961Z"
   },
   {
    "duration": 5,
    "start_time": "2023-04-13T00:24:07.014Z"
   },
   {
    "duration": 10,
    "start_time": "2023-04-13T00:24:07.042Z"
   },
   {
    "duration": 48,
    "start_time": "2023-04-13T00:24:07.054Z"
   },
   {
    "duration": 38,
    "start_time": "2023-04-13T00:24:07.103Z"
   },
   {
    "duration": 4,
    "start_time": "2023-04-13T00:24:07.143Z"
   },
   {
    "duration": 32,
    "start_time": "2023-04-13T00:24:07.148Z"
   },
   {
    "duration": 57,
    "start_time": "2023-04-13T00:24:07.181Z"
   },
   {
    "duration": 11,
    "start_time": "2023-04-13T00:24:07.240Z"
   },
   {
    "duration": 23,
    "start_time": "2023-04-13T00:24:07.253Z"
   },
   {
    "duration": 62,
    "start_time": "2023-04-13T00:24:07.278Z"
   },
   {
    "duration": 2,
    "start_time": "2023-04-13T00:24:07.342Z"
   },
   {
    "duration": 209,
    "start_time": "2023-04-13T00:24:07.345Z"
   },
   {
    "duration": 38,
    "start_time": "2023-04-13T00:24:07.556Z"
   },
   {
    "duration": 379,
    "start_time": "2023-04-13T00:24:07.596Z"
   },
   {
    "duration": 422,
    "start_time": "2023-04-13T00:24:07.977Z"
   },
   {
    "duration": 3,
    "start_time": "2023-04-13T00:24:08.400Z"
   },
   {
    "duration": 552,
    "start_time": "2023-04-13T00:24:08.405Z"
   },
   {
    "duration": 6,
    "start_time": "2023-04-13T00:24:08.960Z"
   },
   {
    "duration": 98,
    "start_time": "2023-04-13T00:24:08.967Z"
   },
   {
    "duration": 2,
    "start_time": "2023-04-13T00:24:09.067Z"
   },
   {
    "duration": 9,
    "start_time": "2023-04-13T00:24:09.071Z"
   },
   {
    "duration": 12,
    "start_time": "2023-04-13T00:24:09.081Z"
   },
   {
    "duration": 113,
    "start_time": "2023-04-13T00:24:09.095Z"
   },
   {
    "duration": 0,
    "start_time": "2023-04-13T00:24:09.210Z"
   },
   {
    "duration": 0,
    "start_time": "2023-04-13T00:24:09.212Z"
   },
   {
    "duration": 7,
    "start_time": "2023-04-13T00:28:53.819Z"
   },
   {
    "duration": 4,
    "start_time": "2023-04-13T00:28:55.660Z"
   },
   {
    "duration": 3,
    "start_time": "2023-04-13T00:28:56.627Z"
   },
   {
    "duration": 11,
    "start_time": "2023-04-13T00:29:04.202Z"
   },
   {
    "duration": 104,
    "start_time": "2023-04-13T00:29:24.831Z"
   },
   {
    "duration": 137,
    "start_time": "2023-04-13T00:29:26.032Z"
   },
   {
    "duration": 11,
    "start_time": "2023-04-13T00:29:27.439Z"
   }
  ],
  "kernelspec": {
   "display_name": "Python 3 (ipykernel)",
   "language": "python",
   "name": "python3"
  },
  "language_info": {
   "codemirror_mode": {
    "name": "ipython",
    "version": 3
   },
   "file_extension": ".py",
   "mimetype": "text/x-python",
   "name": "python",
   "nbconvert_exporter": "python",
   "pygments_lexer": "ipython3",
   "version": "3.10.5"
  },
  "toc": {
   "base_numbering": 1,
   "nav_menu": {},
   "number_sections": true,
   "sideBar": true,
   "skip_h1_title": true,
   "title_cell": "Table of Contents",
   "title_sidebar": "Contents",
   "toc_cell": false,
   "toc_position": {},
   "toc_section_display": true,
   "toc_window_display": true
  }
 },
 "nbformat": 4,
 "nbformat_minor": 5
}
